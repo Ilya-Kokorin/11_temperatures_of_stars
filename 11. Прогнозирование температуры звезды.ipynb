{
 "cells": [
  {
   "cell_type": "markdown",
   "id": "db23dba6",
   "metadata": {},
   "source": [
    "# Прогнозирование температуры звезды"
   ]
  },
  {
   "cell_type": "markdown",
   "id": "c4692b5b",
   "metadata": {},
   "source": [
    "В рамках проекта необходимо придумать, как с помощью нейросети определять температуру на поверхности обнаруженных звёзд. Обычно для расчёта температуры учёные пользуются следующими методами:\n",
    "\n",
    "    Закон смещения Вина.\n",
    "    Закон Стефана-Больцмана.\n",
    "    Спектральный анализ.\n",
    "\n",
    "Каждый из них имеет плюсы и минусы. Обсерватория хочет внедрить технологии машинного обучения для предсказания температуры звёзд, надеясь, что этот метод будет наиболее точным и удобным.\n",
    "В базе обсерватории есть характеристики уже изученных 240 звёзд.\n",
    "\n",
    "<br>Необходимо разработать нейронную сеть, которая поможет предсказывать абсолютную температуру на поверхности звезды."
   ]
  },
  {
   "cell_type": "markdown",
   "id": "corresponding-armstrong",
   "metadata": {
    "ExecuteTime": {
     "end_time": "2022-05-05T04:58:05.692448Z",
     "start_time": "2022-05-05T04:58:05.688565Z"
    }
   },
   "source": [
    "## Загрузка данных"
   ]
  },
  {
   "cell_type": "raw",
   "id": "9f238693",
   "metadata": {},
   "source": [
    "!pip install phik"
   ]
  },
  {
   "cell_type": "code",
   "execution_count": 2,
   "id": "c21269f1",
   "metadata": {},
   "outputs": [],
   "source": [
    "import numpy as np\n",
    "import pandas as pd   \n",
    "import matplotlib.pyplot as plt\n",
    "import seaborn as sns\n",
    "from sklearn.model_selection import train_test_split\n",
    "from sklearn.preprocessing import StandardScaler, OneHotEncoder\n",
    "from sklearn.pipeline import Pipeline\n",
    "from sklearn.compose import ColumnTransformer\n",
    "from torch.utils.data import Dataset, DataLoader\n",
    "from sklearn.metrics import mean_squared_error\n",
    "from phik import phik_matrix\n",
    "from phik.report import plot_correlation_matrix\n",
    "from math import ceil\n",
    "\n",
    "import torch\n",
    "import torch.nn as nn"
   ]
  },
  {
   "cell_type": "code",
   "execution_count": 3,
   "id": "711d018e",
   "metadata": {},
   "outputs": [],
   "source": [
    "# константы\n",
    "RANDOM_STATE = 10"
   ]
  },
  {
   "cell_type": "code",
   "execution_count": 4,
   "id": "17a76be7",
   "metadata": {},
   "outputs": [],
   "source": [
    "def about_df(list_df):\n",
    "    '''выводит информацию о всех датасетах из списка list_df'''\n",
    "    for c, i in enumerate(list_df):\n",
    "        print(\"**** DATASET_\"+str(c+1)+' ****')\n",
    "        display(i.info())\n",
    "        display(i.describe().round(2))\n",
    "        print(f'Количество дубликатов: {i.duplicated().sum()}')\n",
    "        print('Количество пропущенных значений:', i.isnull().sum(), sep='\\n')\n",
    "        print()"
   ]
  },
  {
   "cell_type": "code",
   "execution_count": 5,
   "id": "9b14ba41",
   "metadata": {},
   "outputs": [
    {
     "data": {
      "text/html": [
       "<div>\n",
       "<style scoped>\n",
       "    .dataframe tbody tr th:only-of-type {\n",
       "        vertical-align: middle;\n",
       "    }\n",
       "\n",
       "    .dataframe tbody tr th {\n",
       "        vertical-align: top;\n",
       "    }\n",
       "\n",
       "    .dataframe thead th {\n",
       "        text-align: right;\n",
       "    }\n",
       "</style>\n",
       "<table border=\"1\" class=\"dataframe\">\n",
       "  <thead>\n",
       "    <tr style=\"text-align: right;\">\n",
       "      <th></th>\n",
       "      <th>Unnamed: 0</th>\n",
       "      <th>Temperature (K)</th>\n",
       "      <th>Luminosity(L/Lo)</th>\n",
       "      <th>Radius(R/Ro)</th>\n",
       "      <th>Absolute magnitude(Mv)</th>\n",
       "      <th>Star type</th>\n",
       "      <th>Star color</th>\n",
       "    </tr>\n",
       "  </thead>\n",
       "  <tbody>\n",
       "    <tr>\n",
       "      <th>0</th>\n",
       "      <td>0</td>\n",
       "      <td>3068</td>\n",
       "      <td>0.002400</td>\n",
       "      <td>0.1700</td>\n",
       "      <td>16.12</td>\n",
       "      <td>0</td>\n",
       "      <td>Red</td>\n",
       "    </tr>\n",
       "    <tr>\n",
       "      <th>1</th>\n",
       "      <td>1</td>\n",
       "      <td>3042</td>\n",
       "      <td>0.000500</td>\n",
       "      <td>0.1542</td>\n",
       "      <td>16.60</td>\n",
       "      <td>0</td>\n",
       "      <td>Red</td>\n",
       "    </tr>\n",
       "    <tr>\n",
       "      <th>2</th>\n",
       "      <td>2</td>\n",
       "      <td>2600</td>\n",
       "      <td>0.000300</td>\n",
       "      <td>0.1020</td>\n",
       "      <td>18.70</td>\n",
       "      <td>0</td>\n",
       "      <td>Red</td>\n",
       "    </tr>\n",
       "    <tr>\n",
       "      <th>3</th>\n",
       "      <td>3</td>\n",
       "      <td>2800</td>\n",
       "      <td>0.000200</td>\n",
       "      <td>0.1600</td>\n",
       "      <td>16.65</td>\n",
       "      <td>0</td>\n",
       "      <td>Red</td>\n",
       "    </tr>\n",
       "    <tr>\n",
       "      <th>4</th>\n",
       "      <td>4</td>\n",
       "      <td>1939</td>\n",
       "      <td>0.000138</td>\n",
       "      <td>0.1030</td>\n",
       "      <td>20.06</td>\n",
       "      <td>0</td>\n",
       "      <td>Red</td>\n",
       "    </tr>\n",
       "    <tr>\n",
       "      <th>...</th>\n",
       "      <td>...</td>\n",
       "      <td>...</td>\n",
       "      <td>...</td>\n",
       "      <td>...</td>\n",
       "      <td>...</td>\n",
       "      <td>...</td>\n",
       "      <td>...</td>\n",
       "    </tr>\n",
       "    <tr>\n",
       "      <th>235</th>\n",
       "      <td>235</td>\n",
       "      <td>38940</td>\n",
       "      <td>374830.000000</td>\n",
       "      <td>1356.0000</td>\n",
       "      <td>-9.93</td>\n",
       "      <td>5</td>\n",
       "      <td>Blue</td>\n",
       "    </tr>\n",
       "    <tr>\n",
       "      <th>236</th>\n",
       "      <td>236</td>\n",
       "      <td>30839</td>\n",
       "      <td>834042.000000</td>\n",
       "      <td>1194.0000</td>\n",
       "      <td>-10.63</td>\n",
       "      <td>5</td>\n",
       "      <td>Blue</td>\n",
       "    </tr>\n",
       "    <tr>\n",
       "      <th>237</th>\n",
       "      <td>237</td>\n",
       "      <td>8829</td>\n",
       "      <td>537493.000000</td>\n",
       "      <td>1423.0000</td>\n",
       "      <td>-10.73</td>\n",
       "      <td>5</td>\n",
       "      <td>White</td>\n",
       "    </tr>\n",
       "    <tr>\n",
       "      <th>238</th>\n",
       "      <td>238</td>\n",
       "      <td>9235</td>\n",
       "      <td>404940.000000</td>\n",
       "      <td>1112.0000</td>\n",
       "      <td>-11.23</td>\n",
       "      <td>5</td>\n",
       "      <td>White</td>\n",
       "    </tr>\n",
       "    <tr>\n",
       "      <th>239</th>\n",
       "      <td>239</td>\n",
       "      <td>37882</td>\n",
       "      <td>294903.000000</td>\n",
       "      <td>1783.0000</td>\n",
       "      <td>-7.80</td>\n",
       "      <td>5</td>\n",
       "      <td>Blue</td>\n",
       "    </tr>\n",
       "  </tbody>\n",
       "</table>\n",
       "<p>240 rows × 7 columns</p>\n",
       "</div>"
      ],
      "text/plain": [
       "     Unnamed: 0  Temperature (K)  Luminosity(L/Lo)  Radius(R/Ro)  \\\n",
       "0             0             3068          0.002400        0.1700   \n",
       "1             1             3042          0.000500        0.1542   \n",
       "2             2             2600          0.000300        0.1020   \n",
       "3             3             2800          0.000200        0.1600   \n",
       "4             4             1939          0.000138        0.1030   \n",
       "..          ...              ...               ...           ...   \n",
       "235         235            38940     374830.000000     1356.0000   \n",
       "236         236            30839     834042.000000     1194.0000   \n",
       "237         237             8829     537493.000000     1423.0000   \n",
       "238         238             9235     404940.000000     1112.0000   \n",
       "239         239            37882     294903.000000     1783.0000   \n",
       "\n",
       "     Absolute magnitude(Mv)  Star type Star color  \n",
       "0                     16.12          0        Red  \n",
       "1                     16.60          0        Red  \n",
       "2                     18.70          0        Red  \n",
       "3                     16.65          0        Red  \n",
       "4                     20.06          0        Red  \n",
       "..                      ...        ...        ...  \n",
       "235                   -9.93          5       Blue  \n",
       "236                  -10.63          5       Blue  \n",
       "237                  -10.73          5      White  \n",
       "238                  -11.23          5      White  \n",
       "239                   -7.80          5       Blue  \n",
       "\n",
       "[240 rows x 7 columns]"
      ]
     },
     "execution_count": 5,
     "metadata": {},
     "output_type": "execute_result"
    }
   ],
   "source": [
    "data = pd.read_csv('/datasets/6_class.csv')\n",
    "data"
   ]
  },
  {
   "cell_type": "code",
   "execution_count": 6,
   "id": "spectacular-folder",
   "metadata": {},
   "outputs": [
    {
     "name": "stdout",
     "output_type": "stream",
     "text": [
      "**** DATASET_1 ****\n",
      "<class 'pandas.core.frame.DataFrame'>\n",
      "RangeIndex: 240 entries, 0 to 239\n",
      "Data columns (total 7 columns):\n",
      " #   Column                  Non-Null Count  Dtype  \n",
      "---  ------                  --------------  -----  \n",
      " 0   Unnamed: 0              240 non-null    int64  \n",
      " 1   Temperature (K)         240 non-null    int64  \n",
      " 2   Luminosity(L/Lo)        240 non-null    float64\n",
      " 3   Radius(R/Ro)            240 non-null    float64\n",
      " 4   Absolute magnitude(Mv)  240 non-null    float64\n",
      " 5   Star type               240 non-null    int64  \n",
      " 6   Star color              240 non-null    object \n",
      "dtypes: float64(3), int64(3), object(1)\n",
      "memory usage: 13.2+ KB\n"
     ]
    },
    {
     "data": {
      "text/plain": [
       "None"
      ]
     },
     "metadata": {},
     "output_type": "display_data"
    },
    {
     "data": {
      "text/html": [
       "<div>\n",
       "<style scoped>\n",
       "    .dataframe tbody tr th:only-of-type {\n",
       "        vertical-align: middle;\n",
       "    }\n",
       "\n",
       "    .dataframe tbody tr th {\n",
       "        vertical-align: top;\n",
       "    }\n",
       "\n",
       "    .dataframe thead th {\n",
       "        text-align: right;\n",
       "    }\n",
       "</style>\n",
       "<table border=\"1\" class=\"dataframe\">\n",
       "  <thead>\n",
       "    <tr style=\"text-align: right;\">\n",
       "      <th></th>\n",
       "      <th>Unnamed: 0</th>\n",
       "      <th>Temperature (K)</th>\n",
       "      <th>Luminosity(L/Lo)</th>\n",
       "      <th>Radius(R/Ro)</th>\n",
       "      <th>Absolute magnitude(Mv)</th>\n",
       "      <th>Star type</th>\n",
       "    </tr>\n",
       "  </thead>\n",
       "  <tbody>\n",
       "    <tr>\n",
       "      <th>count</th>\n",
       "      <td>240.00</td>\n",
       "      <td>240.00</td>\n",
       "      <td>240.00</td>\n",
       "      <td>240.00</td>\n",
       "      <td>240.00</td>\n",
       "      <td>240.00</td>\n",
       "    </tr>\n",
       "    <tr>\n",
       "      <th>mean</th>\n",
       "      <td>119.50</td>\n",
       "      <td>10497.46</td>\n",
       "      <td>107188.36</td>\n",
       "      <td>237.16</td>\n",
       "      <td>4.38</td>\n",
       "      <td>2.50</td>\n",
       "    </tr>\n",
       "    <tr>\n",
       "      <th>std</th>\n",
       "      <td>69.43</td>\n",
       "      <td>9552.43</td>\n",
       "      <td>179432.24</td>\n",
       "      <td>517.16</td>\n",
       "      <td>10.53</td>\n",
       "      <td>1.71</td>\n",
       "    </tr>\n",
       "    <tr>\n",
       "      <th>min</th>\n",
       "      <td>0.00</td>\n",
       "      <td>1939.00</td>\n",
       "      <td>0.00</td>\n",
       "      <td>0.01</td>\n",
       "      <td>-11.92</td>\n",
       "      <td>0.00</td>\n",
       "    </tr>\n",
       "    <tr>\n",
       "      <th>25%</th>\n",
       "      <td>59.75</td>\n",
       "      <td>3344.25</td>\n",
       "      <td>0.00</td>\n",
       "      <td>0.10</td>\n",
       "      <td>-6.23</td>\n",
       "      <td>1.00</td>\n",
       "    </tr>\n",
       "    <tr>\n",
       "      <th>50%</th>\n",
       "      <td>119.50</td>\n",
       "      <td>5776.00</td>\n",
       "      <td>0.07</td>\n",
       "      <td>0.76</td>\n",
       "      <td>8.31</td>\n",
       "      <td>2.50</td>\n",
       "    </tr>\n",
       "    <tr>\n",
       "      <th>75%</th>\n",
       "      <td>179.25</td>\n",
       "      <td>15055.50</td>\n",
       "      <td>198050.00</td>\n",
       "      <td>42.75</td>\n",
       "      <td>13.70</td>\n",
       "      <td>4.00</td>\n",
       "    </tr>\n",
       "    <tr>\n",
       "      <th>max</th>\n",
       "      <td>239.00</td>\n",
       "      <td>40000.00</td>\n",
       "      <td>849420.00</td>\n",
       "      <td>1948.50</td>\n",
       "      <td>20.06</td>\n",
       "      <td>5.00</td>\n",
       "    </tr>\n",
       "  </tbody>\n",
       "</table>\n",
       "</div>"
      ],
      "text/plain": [
       "       Unnamed: 0  Temperature (K)  Luminosity(L/Lo)  Radius(R/Ro)  \\\n",
       "count      240.00           240.00            240.00        240.00   \n",
       "mean       119.50         10497.46         107188.36        237.16   \n",
       "std         69.43          9552.43         179432.24        517.16   \n",
       "min          0.00          1939.00              0.00          0.01   \n",
       "25%         59.75          3344.25              0.00          0.10   \n",
       "50%        119.50          5776.00              0.07          0.76   \n",
       "75%        179.25         15055.50         198050.00         42.75   \n",
       "max        239.00         40000.00         849420.00       1948.50   \n",
       "\n",
       "       Absolute magnitude(Mv)  Star type  \n",
       "count                  240.00     240.00  \n",
       "mean                     4.38       2.50  \n",
       "std                     10.53       1.71  \n",
       "min                    -11.92       0.00  \n",
       "25%                     -6.23       1.00  \n",
       "50%                      8.31       2.50  \n",
       "75%                     13.70       4.00  \n",
       "max                     20.06       5.00  "
      ]
     },
     "metadata": {},
     "output_type": "display_data"
    },
    {
     "name": "stdout",
     "output_type": "stream",
     "text": [
      "Количество дубликатов: 0\n",
      "Количество пропущенных значений:\n",
      "Unnamed: 0                0\n",
      "Temperature (K)           0\n",
      "Luminosity(L/Lo)          0\n",
      "Radius(R/Ro)              0\n",
      "Absolute magnitude(Mv)    0\n",
      "Star type                 0\n",
      "Star color                0\n",
      "dtype: int64\n",
      "\n"
     ]
    }
   ],
   "source": [
    "about_df([data])"
   ]
  },
  {
   "cell_type": "markdown",
   "id": "ad077e0f",
   "metadata": {},
   "source": [
    "**Вывод** \n",
    "<br> Датасет содержит данные о 240 звездах. Пропуски / дубликаты отсутсвуют. Названия колонок не соответствуют стандарту. Имеется колонка \"Unnamed: 0\", которая по сути копия индекса (будет удалена в следующем разделе). Датасет занимает всего 13.2 кб."
   ]
  },
  {
   "cell_type": "markdown",
   "id": "simple-subdivision",
   "metadata": {},
   "source": [
    "## Предобработка и анализ данных"
   ]
  },
  {
   "cell_type": "code",
   "execution_count": 7,
   "id": "4f384465",
   "metadata": {},
   "outputs": [
    {
     "data": {
      "text/html": [
       "<div>\n",
       "<style scoped>\n",
       "    .dataframe tbody tr th:only-of-type {\n",
       "        vertical-align: middle;\n",
       "    }\n",
       "\n",
       "    .dataframe tbody tr th {\n",
       "        vertical-align: top;\n",
       "    }\n",
       "\n",
       "    .dataframe thead th {\n",
       "        text-align: right;\n",
       "    }\n",
       "</style>\n",
       "<table border=\"1\" class=\"dataframe\">\n",
       "  <thead>\n",
       "    <tr style=\"text-align: right;\">\n",
       "      <th></th>\n",
       "      <th>Temperature (K)</th>\n",
       "      <th>Luminosity(L/Lo)</th>\n",
       "      <th>Radius(R/Ro)</th>\n",
       "      <th>Absolute magnitude(Mv)</th>\n",
       "      <th>Star type</th>\n",
       "      <th>Star color</th>\n",
       "    </tr>\n",
       "  </thead>\n",
       "  <tbody>\n",
       "    <tr>\n",
       "      <th>0</th>\n",
       "      <td>3068</td>\n",
       "      <td>0.002400</td>\n",
       "      <td>0.1700</td>\n",
       "      <td>16.12</td>\n",
       "      <td>0</td>\n",
       "      <td>Red</td>\n",
       "    </tr>\n",
       "    <tr>\n",
       "      <th>1</th>\n",
       "      <td>3042</td>\n",
       "      <td>0.000500</td>\n",
       "      <td>0.1542</td>\n",
       "      <td>16.60</td>\n",
       "      <td>0</td>\n",
       "      <td>Red</td>\n",
       "    </tr>\n",
       "    <tr>\n",
       "      <th>2</th>\n",
       "      <td>2600</td>\n",
       "      <td>0.000300</td>\n",
       "      <td>0.1020</td>\n",
       "      <td>18.70</td>\n",
       "      <td>0</td>\n",
       "      <td>Red</td>\n",
       "    </tr>\n",
       "    <tr>\n",
       "      <th>3</th>\n",
       "      <td>2800</td>\n",
       "      <td>0.000200</td>\n",
       "      <td>0.1600</td>\n",
       "      <td>16.65</td>\n",
       "      <td>0</td>\n",
       "      <td>Red</td>\n",
       "    </tr>\n",
       "    <tr>\n",
       "      <th>4</th>\n",
       "      <td>1939</td>\n",
       "      <td>0.000138</td>\n",
       "      <td>0.1030</td>\n",
       "      <td>20.06</td>\n",
       "      <td>0</td>\n",
       "      <td>Red</td>\n",
       "    </tr>\n",
       "    <tr>\n",
       "      <th>...</th>\n",
       "      <td>...</td>\n",
       "      <td>...</td>\n",
       "      <td>...</td>\n",
       "      <td>...</td>\n",
       "      <td>...</td>\n",
       "      <td>...</td>\n",
       "    </tr>\n",
       "    <tr>\n",
       "      <th>235</th>\n",
       "      <td>38940</td>\n",
       "      <td>374830.000000</td>\n",
       "      <td>1356.0000</td>\n",
       "      <td>-9.93</td>\n",
       "      <td>5</td>\n",
       "      <td>Blue</td>\n",
       "    </tr>\n",
       "    <tr>\n",
       "      <th>236</th>\n",
       "      <td>30839</td>\n",
       "      <td>834042.000000</td>\n",
       "      <td>1194.0000</td>\n",
       "      <td>-10.63</td>\n",
       "      <td>5</td>\n",
       "      <td>Blue</td>\n",
       "    </tr>\n",
       "    <tr>\n",
       "      <th>237</th>\n",
       "      <td>8829</td>\n",
       "      <td>537493.000000</td>\n",
       "      <td>1423.0000</td>\n",
       "      <td>-10.73</td>\n",
       "      <td>5</td>\n",
       "      <td>White</td>\n",
       "    </tr>\n",
       "    <tr>\n",
       "      <th>238</th>\n",
       "      <td>9235</td>\n",
       "      <td>404940.000000</td>\n",
       "      <td>1112.0000</td>\n",
       "      <td>-11.23</td>\n",
       "      <td>5</td>\n",
       "      <td>White</td>\n",
       "    </tr>\n",
       "    <tr>\n",
       "      <th>239</th>\n",
       "      <td>37882</td>\n",
       "      <td>294903.000000</td>\n",
       "      <td>1783.0000</td>\n",
       "      <td>-7.80</td>\n",
       "      <td>5</td>\n",
       "      <td>Blue</td>\n",
       "    </tr>\n",
       "  </tbody>\n",
       "</table>\n",
       "<p>240 rows × 6 columns</p>\n",
       "</div>"
      ],
      "text/plain": [
       "     Temperature (K)  Luminosity(L/Lo)  Radius(R/Ro)  Absolute magnitude(Mv)  \\\n",
       "0               3068          0.002400        0.1700                   16.12   \n",
       "1               3042          0.000500        0.1542                   16.60   \n",
       "2               2600          0.000300        0.1020                   18.70   \n",
       "3               2800          0.000200        0.1600                   16.65   \n",
       "4               1939          0.000138        0.1030                   20.06   \n",
       "..               ...               ...           ...                     ...   \n",
       "235            38940     374830.000000     1356.0000                   -9.93   \n",
       "236            30839     834042.000000     1194.0000                  -10.63   \n",
       "237             8829     537493.000000     1423.0000                  -10.73   \n",
       "238             9235     404940.000000     1112.0000                  -11.23   \n",
       "239            37882     294903.000000     1783.0000                   -7.80   \n",
       "\n",
       "     Star type Star color  \n",
       "0            0        Red  \n",
       "1            0        Red  \n",
       "2            0        Red  \n",
       "3            0        Red  \n",
       "4            0        Red  \n",
       "..         ...        ...  \n",
       "235          5       Blue  \n",
       "236          5       Blue  \n",
       "237          5      White  \n",
       "238          5      White  \n",
       "239          5       Blue  \n",
       "\n",
       "[240 rows x 6 columns]"
      ]
     },
     "execution_count": 7,
     "metadata": {},
     "output_type": "execute_result"
    }
   ],
   "source": [
    "# удалим колонку \"Unnamed: 0\"\n",
    "data = data.drop(\"Unnamed: 0\", axis=1)\n",
    "data"
   ]
  },
  {
   "cell_type": "code",
   "execution_count": 8,
   "id": "bd14e63f",
   "metadata": {},
   "outputs": [
    {
     "data": {
      "text/html": [
       "<div>\n",
       "<style scoped>\n",
       "    .dataframe tbody tr th:only-of-type {\n",
       "        vertical-align: middle;\n",
       "    }\n",
       "\n",
       "    .dataframe tbody tr th {\n",
       "        vertical-align: top;\n",
       "    }\n",
       "\n",
       "    .dataframe thead th {\n",
       "        text-align: right;\n",
       "    }\n",
       "</style>\n",
       "<table border=\"1\" class=\"dataframe\">\n",
       "  <thead>\n",
       "    <tr style=\"text-align: right;\">\n",
       "      <th></th>\n",
       "      <th>temperature</th>\n",
       "      <th>luminosity</th>\n",
       "      <th>radius</th>\n",
       "      <th>absolute_magnitude</th>\n",
       "      <th>star_type</th>\n",
       "      <th>star_color</th>\n",
       "    </tr>\n",
       "  </thead>\n",
       "  <tbody>\n",
       "    <tr>\n",
       "      <th>0</th>\n",
       "      <td>3068</td>\n",
       "      <td>0.0024</td>\n",
       "      <td>0.17</td>\n",
       "      <td>16.12</td>\n",
       "      <td>0</td>\n",
       "      <td>Red</td>\n",
       "    </tr>\n",
       "  </tbody>\n",
       "</table>\n",
       "</div>"
      ],
      "text/plain": [
       "   temperature  luminosity  radius  absolute_magnitude  star_type star_color\n",
       "0         3068      0.0024    0.17               16.12          0        Red"
      ]
     },
     "execution_count": 8,
     "metadata": {},
     "output_type": "execute_result"
    }
   ],
   "source": [
    "# переименуем назавания колонок\n",
    "data.columns = ['temperature', 'luminosity', 'radius', \n",
    "                'absolute_magnitude', 'star_type', 'star_color']\n",
    "data.head(1)"
   ]
  },
  {
   "cell_type": "markdown",
   "id": "bba1e97c",
   "metadata": {},
   "source": [
    "Проведем краткий EDA"
   ]
  },
  {
   "cell_type": "code",
   "execution_count": 9,
   "id": "f9ec2a3b",
   "metadata": {},
   "outputs": [
    {
     "data": {
      "image/png": "[encoded data removed]",
      "text/plain": [
       "<Figure size 864x864 with 4 Axes>"
      ]
     },
     "metadata": {
      "needs_background": "light"
     },
     "output_type": "display_data"
    }
   ],
   "source": [
    "# распределение звезд по количественным признакам\n",
    "temp = ['temperature', 'luminosity', 'radius', 'absolute_magnitude']\n",
    "fig, axes = plt.subplots(2, 2, figsize=(12, 12))\n",
    "axe = axes.ravel()\n",
    "for i, c in enumerate(temp):\n",
    "    data[c].hist(bins=30, ax =axe[i])\n",
    "    axe[i].set_title(f'Параметр {c}')\n",
    "    axe[i].set_xlabel(c)\n",
    "    axe[i].set_ylabel('Количество звезд')\n",
    "plt.show()"
   ]
  },
  {
   "cell_type": "code",
   "execution_count": 10,
   "id": "b3d214ed",
   "metadata": {},
   "outputs": [
    {
     "data": {
      "text/plain": [
       "array(['Red', 'Blue White', 'White', 'Yellowish White', 'Blue white',\n",
       "       'Pale yellow orange', 'Blue', 'Blue-white', 'Whitish',\n",
       "       'yellow-white', 'Orange', 'White-Yellow', 'white', 'Blue ',\n",
       "       'yellowish', 'Yellowish', 'Orange-Red', 'Blue white ',\n",
       "       'Blue-White'], dtype=object)"
      ]
     },
     "execution_count": 10,
     "metadata": {},
     "output_type": "execute_result"
    }
   ],
   "source": [
    "# посмотрим на цвет звезд\n",
    "data.star_color.unique()"
   ]
  },
  {
   "cell_type": "code",
   "execution_count": 11,
   "id": "60f45b8f",
   "metadata": {},
   "outputs": [],
   "source": [
    "# изменим регистр, удалим пробелы справа и заменим пробел на \"-\"\n",
    "data['star_color'] = data['star_color'].str.lower().str.rstrip().str.replace(' ', '-')"
   ]
  },
  {
   "cell_type": "code",
   "execution_count": 12,
   "id": "4741ffa8",
   "metadata": {},
   "outputs": [
    {
     "data": {
      "text/plain": [
       "array(['red', 'blue-white', 'white', 'yellowish-white',\n",
       "       'pale-yellow-orange', 'blue', 'whitish', 'yellow-white', 'orange',\n",
       "       'white-yellow', 'yellowish', 'orange-red'], dtype=object)"
      ]
     },
     "execution_count": 12,
     "metadata": {},
     "output_type": "execute_result"
    }
   ],
   "source": [
    "data.star_color.unique()"
   ]
  },
  {
   "cell_type": "code",
   "execution_count": 13,
   "id": "8a9625ec",
   "metadata": {},
   "outputs": [
    {
     "data": {
      "text/plain": [
       "star_color\n",
       "blue                   56\n",
       "blue-white             41\n",
       "orange                  2\n",
       "orange-red              1\n",
       "pale-yellow-orange      1\n",
       "red                   112\n",
       "white                  10\n",
       "white-yellow            1\n",
       "whitish                 2\n",
       "yellow-white            8\n",
       "yellowish               3\n",
       "yellowish-white         3\n",
       "Name: temperature, dtype: int64"
      ]
     },
     "execution_count": 13,
     "metadata": {},
     "output_type": "execute_result"
    }
   ],
   "source": [
    "temp = data.groupby('star_color')['temperature'].count()\n",
    "temp"
   ]
  },
  {
   "cell_type": "markdown",
   "id": "7b81ca88",
   "metadata": {},
   "source": [
    "Категорий цвета всего 7. В датасете больше. Посмотрим, какая температура у прочих категорий и изменим цвет согласно температуре ближайшей категорри из названия."
   ]
  },
  {
   "cell_type": "code",
   "execution_count": 14,
   "id": "e2f2a3ee",
   "metadata": {},
   "outputs": [
    {
     "data": {
      "text/html": [
       "<div>\n",
       "<style scoped>\n",
       "    .dataframe tbody tr th:only-of-type {\n",
       "        vertical-align: middle;\n",
       "    }\n",
       "\n",
       "    .dataframe tbody tr th {\n",
       "        vertical-align: top;\n",
       "    }\n",
       "\n",
       "    .dataframe thead th {\n",
       "        text-align: right;\n",
       "    }\n",
       "</style>\n",
       "<table border=\"1\" class=\"dataframe\">\n",
       "  <thead>\n",
       "    <tr style=\"text-align: right;\">\n",
       "      <th></th>\n",
       "      <th>temperature</th>\n",
       "      <th>luminosity</th>\n",
       "      <th>radius</th>\n",
       "      <th>absolute_magnitude</th>\n",
       "      <th>star_type</th>\n",
       "      <th>star_color</th>\n",
       "    </tr>\n",
       "  </thead>\n",
       "  <tbody>\n",
       "    <tr>\n",
       "      <th>25</th>\n",
       "      <td>12990</td>\n",
       "      <td>0.000085</td>\n",
       "      <td>0.00984</td>\n",
       "      <td>12.23</td>\n",
       "      <td>2</td>\n",
       "      <td>yellowish-white</td>\n",
       "    </tr>\n",
       "    <tr>\n",
       "      <th>27</th>\n",
       "      <td>7700</td>\n",
       "      <td>0.000110</td>\n",
       "      <td>0.01280</td>\n",
       "      <td>14.47</td>\n",
       "      <td>2</td>\n",
       "      <td>yellowish-white</td>\n",
       "    </tr>\n",
       "    <tr>\n",
       "      <th>28</th>\n",
       "      <td>11790</td>\n",
       "      <td>0.000150</td>\n",
       "      <td>0.01100</td>\n",
       "      <td>12.59</td>\n",
       "      <td>2</td>\n",
       "      <td>yellowish-white</td>\n",
       "    </tr>\n",
       "    <tr>\n",
       "      <th>29</th>\n",
       "      <td>7230</td>\n",
       "      <td>0.000080</td>\n",
       "      <td>0.01300</td>\n",
       "      <td>14.08</td>\n",
       "      <td>2</td>\n",
       "      <td>pale-yellow-orange</td>\n",
       "    </tr>\n",
       "    <tr>\n",
       "      <th>80</th>\n",
       "      <td>7100</td>\n",
       "      <td>0.000290</td>\n",
       "      <td>0.01200</td>\n",
       "      <td>14.09</td>\n",
       "      <td>2</td>\n",
       "      <td>white-yellow</td>\n",
       "    </tr>\n",
       "    <tr>\n",
       "      <th>96</th>\n",
       "      <td>5112</td>\n",
       "      <td>0.630000</td>\n",
       "      <td>0.87600</td>\n",
       "      <td>4.68</td>\n",
       "      <td>3</td>\n",
       "      <td>orange-red</td>\n",
       "    </tr>\n",
       "  </tbody>\n",
       "</table>\n",
       "</div>"
      ],
      "text/plain": [
       "    temperature  luminosity   radius  absolute_magnitude  star_type  \\\n",
       "25        12990    0.000085  0.00984               12.23          2   \n",
       "27         7700    0.000110  0.01280               14.47          2   \n",
       "28        11790    0.000150  0.01100               12.59          2   \n",
       "29         7230    0.000080  0.01300               14.08          2   \n",
       "80         7100    0.000290  0.01200               14.09          2   \n",
       "96         5112    0.630000  0.87600                4.68          3   \n",
       "\n",
       "            star_color  \n",
       "25     yellowish-white  \n",
       "27     yellowish-white  \n",
       "28     yellowish-white  \n",
       "29  pale-yellow-orange  \n",
       "80        white-yellow  \n",
       "96          orange-red  "
      ]
     },
     "execution_count": 14,
     "metadata": {},
     "output_type": "execute_result"
    }
   ],
   "source": [
    "data.query('star_color == \"orange-red\" | star_color == \"pale-yellow-orange\" | \\\n",
    "            star_color == \"white-yellow\" | star_color == \"yellowish-white\"')"
   ]
  },
  {
   "cell_type": "code",
   "execution_count": 15,
   "id": "695ae527",
   "metadata": {},
   "outputs": [],
   "source": [
    "# заменим цвета звезд\n",
    "data['star_color'] = data['star_color'].replace('whitish', 'white')\\\n",
    "                                       .replace('orange-red', 'orange')\\\n",
    "                                       .replace('yellowish-white', 'white')\\\n",
    "                                       .replace('pale-yellow-orange', 'white-yellow')\\\n",
    "                                       .replace('yellowish-white', 'white-yellow')\\\n",
    "                                       .replace('yellow-white', 'white-yellow')"
   ]
  },
  {
   "cell_type": "code",
   "execution_count": 16,
   "id": "97cb9e72",
   "metadata": {},
   "outputs": [],
   "source": [
    "# КОД РЕВЬЮЕРА\n",
    "data['star_color'] = data['star_color'].replace('whitish', 'white')\\\n",
    "                                       .replace('orange-red', 'orange')\\\n",
    "                                       .replace('yellowish-white', 'white-yellow')\\\n",
    "                                       .replace('pale-yellow-orange', 'orange')\\\n",
    "                                       .replace('yellowish-white', 'white-yellow')\\\n",
    "                                       .replace('yellow-white', 'white-yellow')"
   ]
  },
  {
   "cell_type": "code",
   "execution_count": 17,
   "id": "bb23be08",
   "metadata": {},
   "outputs": [
    {
     "data": {
      "text/plain": [
       "star_color\n",
       "blue             56\n",
       "blue-white       41\n",
       "orange            3\n",
       "red             112\n",
       "white            15\n",
       "white-yellow     10\n",
       "yellowish         3\n",
       "Name: temperature, dtype: int64"
      ]
     },
     "execution_count": 17,
     "metadata": {},
     "output_type": "execute_result"
    }
   ],
   "source": [
    "temp = data.groupby('star_color')['temperature'].count()\n",
    "temp"
   ]
  },
  {
   "cell_type": "code",
   "execution_count": 18,
   "id": "8958f81f",
   "metadata": {},
   "outputs": [
    {
     "data": {
      "image/png": "[encoded data removed]",
      "text/plain": [
       "<Figure size 576x504 with 1 Axes>"
      ]
     },
     "metadata": {
      "needs_background": "light"
     },
     "output_type": "display_data"
    }
   ],
   "source": [
    "temp.plot(\n",
    "    kind='bar', grid=True, figsize=(8, 7),\n",
    "    title='Распределение звезд по цвету',\n",
    "    xlabel='Цвет звезды',\n",
    "    ylabel='Количество звезд'\n",
    ");"
   ]
  },
  {
   "cell_type": "code",
   "execution_count": 19,
   "id": "c8c9444f",
   "metadata": {},
   "outputs": [
    {
     "data": {
      "image/png": "[encoded data removed]",
      "text/plain": [
       "<Figure size 648x504 with 2 Axes>"
      ]
     },
     "metadata": {
      "needs_background": "light"
     },
     "output_type": "display_data"
    }
   ],
   "source": [
    "# расчет корреляции \n",
    "interval_cols = list(data._get_numeric_data().columns)\n",
    "phik_overview = data.phik_matrix(interval_cols=interval_cols)\n",
    "\n",
    "# heatmap\n",
    "plot_correlation_matrix(\n",
    "    phik_overview.values,\n",
    "    x_labels=phik_overview.columns,\n",
    "    y_labels=phik_overview.index,\n",
    "    vmin=0, vmax=1, color_map='Reds',\n",
    "    title=r'Корреляция $\\phi_K$',\n",
    "    fontsize_factor=1.2,\n",
    "    figsize=(9, 7)\n",
    ") "
   ]
  },
  {
   "cell_type": "code",
   "execution_count": 20,
   "id": "75e143de",
   "metadata": {},
   "outputs": [
    {
     "data": {
      "text/html": [
       "<div>\n",
       "<style scoped>\n",
       "    .dataframe tbody tr th:only-of-type {\n",
       "        vertical-align: middle;\n",
       "    }\n",
       "\n",
       "    .dataframe tbody tr th {\n",
       "        vertical-align: top;\n",
       "    }\n",
       "\n",
       "    .dataframe thead th {\n",
       "        text-align: right;\n",
       "    }\n",
       "</style>\n",
       "<table border=\"1\" class=\"dataframe\">\n",
       "  <thead>\n",
       "    <tr style=\"text-align: right;\">\n",
       "      <th></th>\n",
       "      <th>temperature</th>\n",
       "      <th>luminosity</th>\n",
       "      <th>radius</th>\n",
       "      <th>absolute_magnitude</th>\n",
       "      <th>star_type</th>\n",
       "      <th>star_color</th>\n",
       "    </tr>\n",
       "  </thead>\n",
       "  <tbody>\n",
       "    <tr>\n",
       "      <th>0</th>\n",
       "      <td>3068</td>\n",
       "      <td>0.0024</td>\n",
       "      <td>0.1700</td>\n",
       "      <td>16.12</td>\n",
       "      <td>0</td>\n",
       "      <td>red</td>\n",
       "    </tr>\n",
       "    <tr>\n",
       "      <th>1</th>\n",
       "      <td>3042</td>\n",
       "      <td>0.0005</td>\n",
       "      <td>0.1542</td>\n",
       "      <td>16.60</td>\n",
       "      <td>0</td>\n",
       "      <td>red</td>\n",
       "    </tr>\n",
       "  </tbody>\n",
       "</table>\n",
       "</div>"
      ],
      "text/plain": [
       "   temperature  luminosity  radius  absolute_magnitude  star_type star_color\n",
       "0         3068      0.0024  0.1700               16.12          0        red\n",
       "1         3042      0.0005  0.1542               16.60          0        red"
      ]
     },
     "execution_count": 20,
     "metadata": {},
     "output_type": "execute_result"
    }
   ],
   "source": [
    "data.head(2)"
   ]
  },
  {
   "cell_type": "code",
   "execution_count": 21,
   "id": "44ab9cc5",
   "metadata": {},
   "outputs": [
    {
     "data": {
      "image/png": "[encoded data removed]",
      "text/plain": [
       "<Figure size 1080x1440 with 6 Axes>"
      ]
     },
     "metadata": {
      "needs_background": "light"
     },
     "output_type": "display_data"
    }
   ],
   "source": [
    "numeric = ['luminosity', 'radius', 'absolute_magnitude']\n",
    "categorial = ['star_type', 'star_color']\n",
    "fig, axes = plt.subplots(3, 2, figsize=(15, 20))\n",
    "axe = axes.ravel()\n",
    "\n",
    "for i, c in enumerate(numeric):\n",
    "        sns.scatterplot(data=data, x='temperature', y=c, hue='star_type', ax=axe[i])\n",
    "for i, c in enumerate(numeric):\n",
    "        sns.scatterplot(data=data, x='temperature', y=c, hue='star_color', ax=axe[i+3])\n",
    "        \n",
    "plt.title('sdfasdf');"
   ]
  },
  {
   "cell_type": "markdown",
   "id": "26227963",
   "metadata": {},
   "source": [
    "**Вывод**\n",
    "<br> Как видно, большинство звезд имеют температуру до 5000 К, а также довольно малую светимость и радиус относительно Солнца(< 1).\n",
    "Большинство звезд имеют красный, голубой и голубовато-белый цвет. Ввиду малого количества данных (всего 240 наблюдений) аномально высокие и низкие значения были оставлены. Наиболее сильно на температуру звезды влияют ее цвет и абсолютная звёздная величина. Из диаграмм рассеяния видно, что абсолютная звёздная величина мало влияет на температуру звезды."
   ]
  },
  {
   "cell_type": "markdown",
   "id": "04eae00e",
   "metadata": {},
   "source": [
    "## Подготовка данных к построению модели"
   ]
  },
  {
   "cell_type": "code",
   "execution_count": 22,
   "id": "ced55fc5",
   "metadata": {},
   "outputs": [],
   "source": [
    "# разделим данные на тестовую и тренировочную выборки\n",
    "X_train, X_test, y_train, y_test = train_test_split(data.drop('temperature', axis=1), \n",
    "                                                    data['temperature'], \n",
    "                                                    test_size=0.2, \n",
    "                                                    shuffle=True,\n",
    "                                                    random_state=RANDOM_STATE)"
   ]
  },
  {
   "cell_type": "code",
   "execution_count": 23,
   "id": "1ff36d80",
   "metadata": {},
   "outputs": [],
   "source": [
    "# выделим категориальные и численные столбцы\n",
    "num_cols = ['luminosity', 'radius', 'absolute_magnitude']\n",
    "cat_cols = ['star_type', 'star_color']"
   ]
  },
  {
   "cell_type": "code",
   "execution_count": 24,
   "id": "db2237d0",
   "metadata": {},
   "outputs": [],
   "source": [
    "col_transformer = ColumnTransformer(\n",
    "                        transformers=[\n",
    "                            ('scaler', StandardScaler(), num_cols),\n",
    "                            ('ohe', OneHotEncoder(sparse=False), cat_cols)],\n",
    "                                remainder='passthrough'\n",
    "                                  )\n",
    "\n",
    "col_transformer.fit(X_train)\n",
    "X_train = col_transformer.transform(X_train)\n",
    "X_test = col_transformer.transform(X_test)"
   ]
  },
  {
   "cell_type": "markdown",
   "id": "funded-electric",
   "metadata": {},
   "source": [
    "## Построение базовой нейронной сети"
   ]
  },
  {
   "cell_type": "code",
   "execution_count": 25,
   "id": "forced-concentrate",
   "metadata": {},
   "outputs": [],
   "source": [
    "# Переведём выборки в тензоры\n",
    "X_train = torch.FloatTensor(np.array(X_train))\n",
    "X_test = torch.FloatTensor(np.array(X_test))\n",
    "y_train = torch.FloatTensor(np.array(y_train))\n",
    "y_test = torch.FloatTensor(np.array(y_test))"
   ]
  },
  {
   "cell_type": "code",
   "execution_count": 26,
   "id": "f9f03419",
   "metadata": {},
   "outputs": [],
   "source": [
    "# класс для задания архитектуры нейронной сети\n",
    "class Net(nn.Module):\n",
    "    def __init__(self, n_in_neurons, n_hidden_neurons_1, n_hidden_neurons_2, n_out_neurons):\n",
    "            super(Net, self).__init__()\n",
    "            \n",
    "            self.fc1 = nn.Linear(n_in_neurons, n_hidden_neurons_1)\n",
    "            self.act1 = nn.ReLU()\n",
    "            self.fc2 = nn.Linear(n_hidden_neurons_1, n_hidden_neurons_2)\n",
    "            self.act2 = nn.ReLU()\n",
    "            self.fc3 = nn.Linear(n_hidden_neurons_2, n_out_neurons)\n",
    "            \n",
    "    def forward(self, x):\n",
    "        x = self.fc1(x)\n",
    "        x = self.act1(x)\n",
    "        x = self.fc2(x)\n",
    "        x = self.act2(x)\n",
    "        x = self.fc3(x)\n",
    "        \n",
    "        return x"
   ]
  },
  {
   "cell_type": "code",
   "execution_count": 27,
   "id": "d01ef8a1",
   "metadata": {},
   "outputs": [],
   "source": [
    "n_in_neurons = X_train.shape[1]\n",
    "n_hidden_neurons_1 = 20\n",
    "n_hidden_neurons_2 = 15\n",
    "n_out_neurons = 1\n",
    "\n",
    "net = Net(n_in_neurons, n_hidden_neurons_1, n_hidden_neurons_2, n_out_neurons)\n",
    "optimizer = torch.optim.Adam(net.parameters(), lr=1e-3)\n",
    "loss = nn.MSELoss()"
   ]
  },
  {
   "cell_type": "code",
   "execution_count": 28,
   "id": "72461fa4",
   "metadata": {},
   "outputs": [
    {
     "name": "stdout",
     "output_type": "stream",
     "text": [
      "14594.615\n",
      "12116.784\n",
      "7270.454\n",
      "5756.041\n",
      "4974.765\n",
      "4537.7705\n",
      "4482.163\n",
      "4542.1387\n",
      "4539.1035\n",
      "4417.7114\n"
     ]
    }
   ],
   "source": [
    "num_epochs = 10000\n",
    "\n",
    "for epoch in range(num_epochs):\n",
    "    optimizer.zero_grad()\n",
    "    \n",
    "    preds = net.forward(X_train).flatten()\n",
    "            \n",
    "    loss_value = loss(preds, y_train)\n",
    "    loss_value.backward()\n",
    "            \n",
    "    optimizer.step()\n",
    "    \n",
    "    if epoch % 1000 == 0 or epoch == num_epochs :\n",
    "        net.eval()\n",
    "        test_preds = net.forward(X_test).detach().numpy()\n",
    "        RMSE = mean_squared_error(y_test, test_preds, squared=False)\n",
    "        print(RMSE)"
   ]
  },
  {
   "cell_type": "code",
   "execution_count": 29,
   "id": "a6614cc8",
   "metadata": {},
   "outputs": [
    {
     "data": {
      "image/png": "[encoded data removed]",
      "text/plain": [
       "<Figure size 1296x648 with 1 Axes>"
      ]
     },
     "metadata": {
      "needs_background": "light"
     },
     "output_type": "display_data"
    }
   ],
   "source": [
    "y1 = torch.FloatTensor(test_preds)\n",
    "y1 = y1.detach().numpy().reshape([-1])\n",
    "y2 = y_test.detach().numpy().reshape([-1])\n",
    "x = np.arange(len(y1))\n",
    "\n",
    "fig,ax = plt.subplots(figsize = (18, 9))\n",
    "ax.set_xticks(x)\n",
    "fact = ax.bar(x, y2, width = 0.8, label = 'Факт')\n",
    "forecast = ax.bar(x, y1, width = 0.5, label = 'Прогноз базовой модели')\n",
    "ax.legend()\n",
    "ax.set_title('Факт — прогноз')\n",
    "ax.set_xlabel('Звезда из test-выборки')\n",
    "ax.set_ylabel('Температура, К');"
   ]
  },
  {
   "cell_type": "markdown",
   "id": "8e2e0901",
   "metadata": {},
   "source": [
    "**Вывод**\n",
    "<br> Видно, что базовая модель уже укладывается в граничное значение RMSE = 4500. По графику видно, что наиболее точно описываются звезды с малой темппературой (до 5000 К). Для более горячих звезд идет больший разброс температуры, следовательно для НС труднее определять их температуру. Также сказывается то, что звезд с малой температурой в датасете мало."
   ]
  },
  {
   "cell_type": "markdown",
   "id": "growing-supply",
   "metadata": {},
   "source": [
    "## Улучшение нейронной сети"
   ]
  },
  {
   "cell_type": "markdown",
   "id": "6c1cd17d",
   "metadata": {},
   "source": [
    "С целью улучшения неронной сети добавим Batch Normalization и Dropout."
   ]
  },
  {
   "cell_type": "code",
   "execution_count": 30,
   "id": "661cbb17",
   "metadata": {},
   "outputs": [],
   "source": [
    "# Новая сетка с Batchnorm и Dropout\n",
    "class New_Net(nn.Module):\n",
    "    def __init__(self, n_in_neurons, n_hidden_neurons_1, n_hidden_neurons_2, n_out_neurons, dropout):\n",
    "            super(New_Net, self).__init__()\n",
    "            \n",
    "            self.fc1 = nn.Linear(n_in_neurons, n_hidden_neurons_1)\n",
    "            self.act1 = nn.ReLU()\n",
    "            self.bn1 = nn.BatchNorm1d(n_hidden_neurons_1)\n",
    "            self.dp1 = nn.Dropout(p=dropout)\n",
    "            self.fc2 = nn.Linear(n_hidden_neurons_1, n_hidden_neurons_2)\n",
    "            self.act2 = nn.ReLU()\n",
    "            self.fc3 = nn.Linear(n_hidden_neurons_2, n_out_neurons)\n",
    "            \n",
    "    def forward(self, x):\n",
    "        x = self.fc1(x)\n",
    "        x = self.act1(x)\n",
    "        x = self.bn1(x)\n",
    "        x = self.dp1(x)        \n",
    "        x = self.fc2(x)\n",
    "        x = self.act2(x)       \n",
    "        x = self.fc3(x)\n",
    "        \n",
    "        return x"
   ]
  },
  {
   "cell_type": "code",
   "execution_count": 31,
   "id": "0d1a4375",
   "metadata": {},
   "outputs": [
    {
     "name": "stdout",
     "output_type": "stream",
     "text": [
      "dropout =  0.2\n",
      "14594.498\n",
      "10038.694\n",
      "6066.277\n",
      "4974.632\n",
      "4463.035\n",
      "4541.5176\n",
      "4472.754\n",
      "4259.047\n",
      "4051.603\n",
      "3694.2322\n",
      "\n",
      "dropout =  0.3\n",
      "14594.46\n",
      "8734.899\n",
      "5609.7964\n",
      "4625.475\n",
      "4493.2866\n",
      "4604.182\n",
      "4579.2646\n",
      "4527.9375\n",
      "4463.4014\n",
      "4399.717\n",
      "\n",
      "dropout =  0.4\n",
      "14594.687\n",
      "9007.183\n",
      "5710.8564\n",
      "4692.8457\n",
      "4471.0054\n",
      "4598.2603\n",
      "4570.076\n",
      "4349.976\n",
      "4079.2246\n",
      "3825.8232\n",
      "\n",
      "dropout =  0.5\n",
      "14594.723\n",
      "8397.551\n",
      "5571.152\n",
      "4582.974\n",
      "4487.3823\n",
      "4593.685\n",
      "4483.4487\n",
      "4168.9365\n",
      "3914.0195\n",
      "3671.3442\n",
      "\n"
     ]
    }
   ],
   "source": [
    "# переберем dropout с 0,2 до 0,5\n",
    "for dropout in [0.2, 0.3, 0.4, 0.5]:\n",
    "    print('dropout = ', dropout)\n",
    "    net = New_Net(n_in_neurons, n_hidden_neurons_1, n_hidden_neurons_2, n_out_neurons, dropout)\n",
    "    optimizer = torch.optim.Adam(net.parameters(), lr=1e-3)\n",
    "    loss = nn.MSELoss()\n",
    "\n",
    "    num_epochs = 10000\n",
    "        \n",
    "    for epoch in range(num_epochs):\n",
    "        optimizer.zero_grad()\n",
    "    \n",
    "        preds = net.forward(X_train).flatten()\n",
    "            \n",
    "        loss_value = loss(preds, y_train)\n",
    "        loss_value.backward()\n",
    "            \n",
    "        optimizer.step()\n",
    "    \n",
    "        if epoch % 1000 == 0 or epoch == num_epochs :\n",
    "            net.eval()\n",
    "            test_preds = net.forward(X_test).detach().numpy()\n",
    "            RMSE = mean_squared_error(y_test, test_preds, squared=False)\n",
    "            print(RMSE)\n",
    "    print()"
   ]
  },
  {
   "cell_type": "markdown",
   "id": "2a0136d1",
   "metadata": {},
   "source": [
    "Как видно сильнее всего модель улучшает dropout = 0.3. Посмотрим, как на улучшение повлияет размер батча:"
   ]
  },
  {
   "cell_type": "code",
   "execution_count": 32,
   "id": "fb338b21",
   "metadata": {},
   "outputs": [
    {
     "name": "stdout",
     "output_type": "stream",
     "text": [
      "batch_size =  50\n",
      "14594.769\n",
      "4551.2485\n",
      "4606.833\n",
      "4613.904\n",
      "4582.9336\n",
      "4553.6694\n",
      "4523.2114\n",
      "4490.346\n",
      "4425.2627\n",
      "4320.762\n",
      "\n",
      "batch_size =  90\n",
      "14594.579\n",
      "5100.416\n",
      "4488.535\n",
      "4582.622\n",
      "4607.5312\n",
      "4576.5776\n",
      "4529.9604\n",
      "4446.5312\n",
      "4285.9697\n",
      "4121.0786\n",
      "\n"
     ]
    }
   ],
   "source": [
    "for batch in [50, 90]:\n",
    "    print('batch_size = ', batch)\n",
    "    new_net = New_Net(n_in_neurons, n_hidden_neurons_1, n_hidden_neurons_2, n_out_neurons, 0.2)\n",
    "    optimizer = torch.optim.Adam(new_net.parameters(), lr=1e-3)\n",
    "    loss = nn.MSELoss()\n",
    "    \n",
    "    batch_size = batch\n",
    "    num_epochs = 10000\n",
    "    \n",
    "    num_batches = ceil(len(X_train)/batch_size)\n",
    "        \n",
    "    for epoch in range(num_epochs):\n",
    "    \n",
    "        # случайная перестановка объектов\n",
    "        order = np.random.permutation(len(X_train))\n",
    "        \n",
    "        for batch_idx in range(num_batches):\n",
    "            start_index = batch_idx * batch_size\n",
    "            optimizer.zero_grad()\n",
    "    \n",
    "            # получение индексов текущего батча\n",
    "            batch_indexes = order[start_index:start_index+batch_size]\n",
    "            X_batch = X_train[batch_indexes]\n",
    "            y_batch = y_train[batch_indexes]    \n",
    "        \n",
    "        \n",
    "            new_preds = new_net.forward(X_batch).flatten()\n",
    "            \n",
    "            loss_value = loss(new_preds, y_batch)\n",
    "            loss_value.backward()\n",
    "            \n",
    "            optimizer.step()\n",
    "    \n",
    "        if epoch % 1000 == 0 or epoch == num_epochs :\n",
    "            new_net.eval()\n",
    "            new_test_preds = new_net.forward(X_test).detach().numpy()\n",
    "            RMSE = mean_squared_error(y_test, new_test_preds, squared=False)\n",
    "            print(RMSE)\n",
    "    print()"
   ]
  },
  {
   "cell_type": "markdown",
   "id": "db75ec97",
   "metadata": {},
   "source": [
    "Как видно, регулирование размера батча не улучшает модель. Скорее всего это из-за того, что данный параметр вводится когда идёт обучение на больших датасетах, и не получается загрузить все нужные данные в оперативную память."
   ]
  },
  {
   "cell_type": "code",
   "execution_count": 37,
   "id": "db8c33b3",
   "metadata": {},
   "outputs": [
    {
     "name": "stdout",
     "output_type": "stream",
     "text": [
      "14594.694\n",
      "9674.103\n",
      "5918.053\n",
      "4851.8687\n",
      "4448.9946\n",
      "4576.804\n",
      "4596.4756\n",
      "4545.8887\n",
      "4481.3853\n",
      "4413.075\n"
     ]
    }
   ],
   "source": [
    "net = New_Net(n_in_neurons, n_hidden_neurons_1, n_hidden_neurons_2, n_out_neurons, 0.2)\n",
    "optimizer = torch.optim.Adam(net.parameters(), lr=1e-3)\n",
    "loss = nn.MSELoss()\n",
    "\n",
    "num_epochs = 10000\n",
    "        \n",
    "for epoch in range(num_epochs):\n",
    "    optimizer.zero_grad()\n",
    "    \n",
    "    preds = net.forward(X_train).flatten()\n",
    "            \n",
    "    loss_value = loss(preds, y_train)\n",
    "    loss_value.backward()\n",
    "        \n",
    "    optimizer.step()\n",
    "    \n",
    "    if epoch % 1000 == 0 or epoch == num_epochs :\n",
    "        net.eval()\n",
    "        test_preds = net.forward(X_test).detach().numpy()\n",
    "        RMSE = mean_squared_error(y_test, test_preds, squared=False)\n",
    "        print(RMSE)"
   ]
  },
  {
   "cell_type": "code",
   "execution_count": 38,
   "id": "38407d61",
   "metadata": {},
   "outputs": [
    {
     "data": {
      "image/png": "[encoded data removed]",
      "text/plain": [
       "<Figure size 1296x648 with 1 Axes>"
      ]
     },
     "metadata": {
      "needs_background": "light"
     },
     "output_type": "display_data"
    }
   ],
   "source": [
    "y3 = torch.FloatTensor(test_preds)\n",
    "y3 = y3.detach().numpy().reshape([-1])\n",
    "y2 = y_test.detach().numpy().reshape([-1])\n",
    "x = np.arange(len(y3))\n",
    "\n",
    "fig,ax = plt.subplots(figsize = (18, 9))\n",
    "ax.set_xticks(x)\n",
    "fact = ax.bar(x, y2, width = 0.8, label = 'Факт')\n",
    "forecast = ax.bar(x, y1, width = 0.5, label = 'Прогноз базовой модели')\n",
    "forecast_1 = ax.bar(x, y3, width = 0.2, color='red', label = 'Прогноз улучшенной модели')\n",
    "ax.legend()\n",
    "ax.set_title('Факт — прогноз')\n",
    "ax.set_xlabel('Звезда из test-выборки')\n",
    "ax.set_ylabel('Температура, К');"
   ]
  },
  {
   "cell_type": "markdown",
   "id": "3997e73e",
   "metadata": {},
   "source": [
    "**Вывод**\n",
    "<br>Улучшенная модель стала лучше предсказывать температуру горячих звезд. Размер батча сильно не улучшает модель. Наиболее оптимальным значением dropout можно считать 0,3."
   ]
  },
  {
   "cell_type": "markdown",
   "id": "accurate-infrastructure",
   "metadata": {},
   "source": [
    "## Выводы"
   ]
  },
  {
   "cell_type": "markdown",
   "id": "19814282",
   "metadata": {},
   "source": [
    "Датасет содержит данные о 240 звездах. Пропуски / дубликаты отсутсвуют.\n",
    "<br>Большинство звезд в датасете имеют температуру до 5000 К, а также довольно малую светимость и радиус относительно Солнца(< 1). Большинство звезд имеют красный, голубой и голубовато-белый цвет. Ввиду малого количества данных (всего 240 наблюдений) аномально высокие и низкие значения были оставлены. Наиболее сильно на температуру звезды влияют ее цвет и абсолютная звёздная величина. Из диаграмм рассеяния видно, что абсолютная звёздная величина мало влияет на температуру звезды.\n",
    "<br>Построенная базовая модель уже укладывается в граничное значение RMSE = 4500. По графику видно, что наиболее точно описываются звезды с малой темппературой (до 5000 К). Для более горячих звезд идет больший разброс температуры, следовательно для НС труднее определять их температуру. Также сказывается то, что звезд с малой температурой в датасете мало.\n",
    "<br>В результате добавления Batch Normalization и Dropout предсказательная способность модели улучшилась. Также стоит отметить, что RMSE ниже 4500 удалось достичь за меньшее количество эпох. По построенному графику видно, что улучшенная модель стала лучше предсказывать температуру горячих звезд. Размер батча сильно не улучшает модель. Наиболее оптимальным значением dropout можно считать 0,3."
   ]
  },
  {
   "cell_type": "code",
   "execution_count": null,
   "id": "f13a021d",
   "metadata": {},
   "outputs": [],
   "source": []
  }
 ],
 "metadata": {
  "ExecuteTimeLog": [
   {
    "duration": 50,
    "start_time": "2025-03-10T00:08:00.947Z"
   },
   {
    "duration": 1185,
    "start_time": "2025-03-10T00:08:09.857Z"
   },
   {
    "duration": 9,
    "start_time": "2025-03-10T00:11:52.865Z"
   },
   {
    "duration": 8,
    "start_time": "2025-03-10T00:12:19.227Z"
   },
   {
    "duration": 12,
    "start_time": "2025-03-10T00:12:33.896Z"
   },
   {
    "duration": 2,
    "start_time": "2025-03-10T00:13:19.888Z"
   },
   {
    "duration": 17,
    "start_time": "2025-03-10T00:15:00.102Z"
   },
   {
    "duration": 34,
    "start_time": "2025-03-10T00:15:04.636Z"
   },
   {
    "duration": 931,
    "start_time": "2025-03-10T00:19:56.986Z"
   },
   {
    "duration": 5,
    "start_time": "2025-03-10T00:23:09.207Z"
   },
   {
    "duration": 17,
    "start_time": "2025-03-10T00:24:11.637Z"
   },
   {
    "duration": 6,
    "start_time": "2025-03-10T00:24:22.714Z"
   },
   {
    "duration": 16,
    "start_time": "2025-03-10T00:24:24.855Z"
   },
   {
    "duration": 29,
    "start_time": "2025-03-10T00:24:29.246Z"
   },
   {
    "duration": 52,
    "start_time": "2025-03-10T00:25:20.653Z"
   },
   {
    "duration": 122,
    "start_time": "2025-03-10T00:25:26.946Z"
   },
   {
    "duration": 16,
    "start_time": "2025-03-10T00:32:16.515Z"
   },
   {
    "duration": 3,
    "start_time": "2025-03-10T00:39:09.250Z"
   },
   {
    "duration": 10,
    "start_time": "2025-03-10T00:39:19.036Z"
   },
   {
    "duration": 70,
    "start_time": "2025-03-14T21:46:17.090Z"
   },
   {
    "duration": 41,
    "start_time": "2025-03-14T21:46:22.017Z"
   },
   {
    "duration": 1871,
    "start_time": "2025-03-14T21:46:30.211Z"
   },
   {
    "duration": 6,
    "start_time": "2025-03-14T21:46:32.084Z"
   },
   {
    "duration": 91,
    "start_time": "2025-03-14T21:46:32.091Z"
   },
   {
    "duration": 41,
    "start_time": "2025-03-14T21:46:32.184Z"
   },
   {
    "duration": 14,
    "start_time": "2025-03-14T21:46:32.227Z"
   },
   {
    "duration": 29,
    "start_time": "2025-03-14T21:46:32.257Z"
   },
   {
    "duration": 264,
    "start_time": "2025-03-14T21:46:32.288Z"
   },
   {
    "duration": 72,
    "start_time": "2025-03-14T21:46:52.491Z"
   },
   {
    "duration": 158,
    "start_time": "2025-03-14T21:46:59.075Z"
   },
   {
    "duration": 91,
    "start_time": "2025-03-14T21:47:05.204Z"
   },
   {
    "duration": 174,
    "start_time": "2025-03-14T21:47:08.246Z"
   },
   {
    "duration": 69,
    "start_time": "2025-03-14T21:47:25.462Z"
   },
   {
    "duration": 298,
    "start_time": "2025-03-14T21:47:29.916Z"
   },
   {
    "duration": 180,
    "start_time": "2025-03-14T21:47:49.451Z"
   },
   {
    "duration": 187,
    "start_time": "2025-03-14T21:50:59.314Z"
   },
   {
    "duration": 196,
    "start_time": "2025-03-14T21:51:21.060Z"
   },
   {
    "duration": 303,
    "start_time": "2025-03-14T21:58:29.624Z"
   },
   {
    "duration": 698,
    "start_time": "2025-03-14T21:58:35.569Z"
   },
   {
    "duration": 722,
    "start_time": "2025-03-14T21:58:45.699Z"
   },
   {
    "duration": 685,
    "start_time": "2025-03-14T21:59:19.106Z"
   },
   {
    "duration": 1992,
    "start_time": "2025-03-15T04:23:23.427Z"
   },
   {
    "duration": 4,
    "start_time": "2025-03-15T04:23:25.421Z"
   },
   {
    "duration": 45,
    "start_time": "2025-03-15T04:23:25.427Z"
   },
   {
    "duration": 40,
    "start_time": "2025-03-15T04:23:25.475Z"
   },
   {
    "duration": 14,
    "start_time": "2025-03-15T04:23:25.517Z"
   },
   {
    "duration": 32,
    "start_time": "2025-03-15T04:23:25.532Z"
   },
   {
    "duration": 947,
    "start_time": "2025-03-15T04:23:25.565Z"
   },
   {
    "duration": 137,
    "start_time": "2025-03-15T04:23:26.514Z"
   },
   {
    "duration": 0,
    "start_time": "2025-03-15T04:23:26.652Z"
   },
   {
    "duration": 7,
    "start_time": "2025-03-15T04:23:46.769Z"
   },
   {
    "duration": 227,
    "start_time": "2025-03-15T04:23:49.254Z"
   },
   {
    "duration": 239,
    "start_time": "2025-03-15T04:24:32.856Z"
   },
   {
    "duration": 4,
    "start_time": "2025-03-15T04:25:43.417Z"
   },
   {
    "duration": 4,
    "start_time": "2025-03-15T04:31:34.695Z"
   },
   {
    "duration": 7,
    "start_time": "2025-03-15T04:31:35.444Z"
   },
   {
    "duration": 1782,
    "start_time": "2025-03-15T04:32:05.402Z"
   },
   {
    "duration": 5,
    "start_time": "2025-03-15T04:32:07.186Z"
   },
   {
    "duration": 88,
    "start_time": "2025-03-15T04:32:07.192Z"
   },
   {
    "duration": 41,
    "start_time": "2025-03-15T04:32:07.282Z"
   },
   {
    "duration": 15,
    "start_time": "2025-03-15T04:32:07.325Z"
   },
   {
    "duration": 10,
    "start_time": "2025-03-15T04:32:07.358Z"
   },
   {
    "duration": 908,
    "start_time": "2025-03-15T04:32:07.370Z"
   },
   {
    "duration": 5,
    "start_time": "2025-03-15T04:32:08.279Z"
   },
   {
    "duration": 6,
    "start_time": "2025-03-15T04:32:08.285Z"
   },
   {
    "duration": 247,
    "start_time": "2025-03-15T04:32:08.293Z"
   },
   {
    "duration": 236,
    "start_time": "2025-03-15T04:32:08.542Z"
   },
   {
    "duration": 136,
    "start_time": "2025-03-15T04:39:06.893Z"
   },
   {
    "duration": 4,
    "start_time": "2025-03-15T04:39:44.335Z"
   },
   {
    "duration": 7,
    "start_time": "2025-03-15T04:39:49.330Z"
   },
   {
    "duration": 6,
    "start_time": "2025-03-15T04:40:15.003Z"
   },
   {
    "duration": 11,
    "start_time": "2025-03-15T04:41:20.412Z"
   },
   {
    "duration": 5,
    "start_time": "2025-03-15T04:41:26.359Z"
   },
   {
    "duration": 5,
    "start_time": "2025-03-15T04:41:27.850Z"
   },
   {
    "duration": 6,
    "start_time": "2025-03-15T04:41:32.958Z"
   },
   {
    "duration": 5,
    "start_time": "2025-03-15T04:42:35.043Z"
   },
   {
    "duration": 5,
    "start_time": "2025-03-15T04:42:36.454Z"
   },
   {
    "duration": 6,
    "start_time": "2025-03-15T04:42:41.808Z"
   },
   {
    "duration": 5,
    "start_time": "2025-03-15T04:43:01.782Z"
   },
   {
    "duration": 4,
    "start_time": "2025-03-15T04:43:03.163Z"
   },
   {
    "duration": 7,
    "start_time": "2025-03-15T04:43:04.571Z"
   },
   {
    "duration": 177,
    "start_time": "2025-03-15T04:44:10.663Z"
   },
   {
    "duration": 192,
    "start_time": "2025-03-15T04:44:52.393Z"
   },
   {
    "duration": 189,
    "start_time": "2025-03-15T04:44:56.642Z"
   },
   {
    "duration": 158,
    "start_time": "2025-03-15T04:45:06.547Z"
   },
   {
    "duration": 50,
    "start_time": "2025-03-16T05:20:35.502Z"
   },
   {
    "duration": 1961,
    "start_time": "2025-03-16T05:21:52.350Z"
   },
   {
    "duration": 4,
    "start_time": "2025-03-16T05:21:54.313Z"
   },
   {
    "duration": 32,
    "start_time": "2025-03-16T05:21:54.318Z"
   },
   {
    "duration": 38,
    "start_time": "2025-03-16T05:21:54.352Z"
   },
   {
    "duration": 13,
    "start_time": "2025-03-16T05:21:54.392Z"
   },
   {
    "duration": 8,
    "start_time": "2025-03-16T05:21:54.407Z"
   },
   {
    "duration": 851,
    "start_time": "2025-03-16T05:21:54.416Z"
   },
   {
    "duration": 4,
    "start_time": "2025-03-16T05:21:55.269Z"
   },
   {
    "duration": 6,
    "start_time": "2025-03-16T05:21:55.275Z"
   },
   {
    "duration": 5,
    "start_time": "2025-03-16T05:21:55.283Z"
   },
   {
    "duration": 9,
    "start_time": "2025-03-16T05:21:55.290Z"
   },
   {
    "duration": 214,
    "start_time": "2025-03-16T05:21:55.300Z"
   },
   {
    "duration": 62,
    "start_time": "2025-03-16T05:35:03.361Z"
   },
   {
    "duration": 2,
    "start_time": "2025-03-16T05:36:56.031Z"
   },
   {
    "duration": 6,
    "start_time": "2025-03-16T05:37:04.391Z"
   },
   {
    "duration": 3,
    "start_time": "2025-03-16T05:37:46.221Z"
   },
   {
    "duration": 14,
    "start_time": "2025-03-16T05:39:08.593Z"
   },
   {
    "duration": 2,
    "start_time": "2025-03-16T05:41:30.411Z"
   },
   {
    "duration": 3,
    "start_time": "2025-03-16T05:42:29.166Z"
   },
   {
    "duration": 11,
    "start_time": "2025-03-16T05:42:29.454Z"
   },
   {
    "duration": 2261,
    "start_time": "2025-03-16T11:20:03.166Z"
   },
   {
    "duration": 3,
    "start_time": "2025-03-16T11:20:05.429Z"
   },
   {
    "duration": 9,
    "start_time": "2025-03-16T11:20:05.433Z"
   },
   {
    "duration": 110,
    "start_time": "2025-03-16T11:20:05.444Z"
   },
   {
    "duration": 39,
    "start_time": "2025-03-16T11:20:05.556Z"
   },
   {
    "duration": 31,
    "start_time": "2025-03-16T11:20:05.596Z"
   },
   {
    "duration": 35,
    "start_time": "2025-03-16T11:20:05.629Z"
   },
   {
    "duration": 774,
    "start_time": "2025-03-16T11:20:05.665Z"
   },
   {
    "duration": 4,
    "start_time": "2025-03-16T11:20:06.441Z"
   },
   {
    "duration": 11,
    "start_time": "2025-03-16T11:20:06.459Z"
   },
   {
    "duration": 9,
    "start_time": "2025-03-16T11:20:06.472Z"
   },
   {
    "duration": 6,
    "start_time": "2025-03-16T11:20:06.482Z"
   },
   {
    "duration": 188,
    "start_time": "2025-03-16T11:20:06.490Z"
   },
   {
    "duration": 5,
    "start_time": "2025-03-16T11:20:06.680Z"
   },
   {
    "duration": 16,
    "start_time": "2025-03-16T11:20:06.687Z"
   },
   {
    "duration": 133,
    "start_time": "2025-03-16T11:20:06.704Z"
   },
   {
    "duration": 0,
    "start_time": "2025-03-16T11:20:06.839Z"
   },
   {
    "duration": 1719,
    "start_time": "2025-03-16T11:20:42.593Z"
   },
   {
    "duration": 2,
    "start_time": "2025-03-16T11:20:44.314Z"
   },
   {
    "duration": 11,
    "start_time": "2025-03-16T11:20:44.317Z"
   },
   {
    "duration": 33,
    "start_time": "2025-03-16T11:20:44.329Z"
   },
   {
    "duration": 36,
    "start_time": "2025-03-16T11:20:44.364Z"
   },
   {
    "duration": 13,
    "start_time": "2025-03-16T11:20:44.401Z"
   },
   {
    "duration": 19,
    "start_time": "2025-03-16T11:20:44.415Z"
   },
   {
    "duration": 741,
    "start_time": "2025-03-16T11:20:44.436Z"
   },
   {
    "duration": 5,
    "start_time": "2025-03-16T11:20:45.178Z"
   },
   {
    "duration": 15,
    "start_time": "2025-03-16T11:20:45.184Z"
   },
   {
    "duration": 13,
    "start_time": "2025-03-16T11:20:45.201Z"
   },
   {
    "duration": 11,
    "start_time": "2025-03-16T11:20:45.216Z"
   },
   {
    "duration": 178,
    "start_time": "2025-03-16T11:20:45.229Z"
   },
   {
    "duration": 5,
    "start_time": "2025-03-16T11:20:45.411Z"
   },
   {
    "duration": 23,
    "start_time": "2025-03-16T11:20:45.418Z"
   },
   {
    "duration": 120,
    "start_time": "2025-03-16T11:20:45.443Z"
   },
   {
    "duration": 0,
    "start_time": "2025-03-16T11:20:45.564Z"
   },
   {
    "duration": 3,
    "start_time": "2025-03-16T11:20:57.349Z"
   },
   {
    "duration": 12,
    "start_time": "2025-03-16T11:21:01.322Z"
   },
   {
    "duration": 26,
    "start_time": "2025-03-16T11:21:10.552Z"
   },
   {
    "duration": 13,
    "start_time": "2025-03-16T11:21:44.421Z"
   },
   {
    "duration": 12,
    "start_time": "2025-03-16T11:22:26.933Z"
   },
   {
    "duration": 19,
    "start_time": "2025-03-16T11:22:38.417Z"
   },
   {
    "duration": 19,
    "start_time": "2025-03-16T11:22:52.364Z"
   },
   {
    "duration": 19,
    "start_time": "2025-03-16T11:23:27.141Z"
   },
   {
    "duration": 20,
    "start_time": "2025-03-16T11:23:36.842Z"
   },
   {
    "duration": 13,
    "start_time": "2025-03-16T11:24:49.147Z"
   },
   {
    "duration": 11,
    "start_time": "2025-03-16T11:24:56.413Z"
   },
   {
    "duration": 23,
    "start_time": "2025-03-16T11:25:23.065Z"
   },
   {
    "duration": 18,
    "start_time": "2025-03-16T11:25:36.562Z"
   },
   {
    "duration": 20,
    "start_time": "2025-03-16T11:27:10.542Z"
   },
   {
    "duration": 3,
    "start_time": "2025-03-16T11:28:42.113Z"
   },
   {
    "duration": 29,
    "start_time": "2025-03-16T11:30:31.044Z"
   },
   {
    "duration": 3,
    "start_time": "2025-03-16T11:31:05.497Z"
   },
   {
    "duration": 1855,
    "start_time": "2025-03-16T11:31:10.522Z"
   },
   {
    "duration": 2,
    "start_time": "2025-03-16T11:31:12.379Z"
   },
   {
    "duration": 6,
    "start_time": "2025-03-16T11:31:12.383Z"
   },
   {
    "duration": 49,
    "start_time": "2025-03-16T11:31:12.391Z"
   },
   {
    "duration": 38,
    "start_time": "2025-03-16T11:31:12.442Z"
   },
   {
    "duration": 14,
    "start_time": "2025-03-16T11:31:12.481Z"
   },
   {
    "duration": 14,
    "start_time": "2025-03-16T11:31:12.497Z"
   },
   {
    "duration": 776,
    "start_time": "2025-03-16T11:31:12.512Z"
   },
   {
    "duration": 4,
    "start_time": "2025-03-16T11:31:13.290Z"
   },
   {
    "duration": 5,
    "start_time": "2025-03-16T11:31:13.295Z"
   },
   {
    "duration": 4,
    "start_time": "2025-03-16T11:31:13.302Z"
   },
   {
    "duration": 7,
    "start_time": "2025-03-16T11:31:13.307Z"
   },
   {
    "duration": 201,
    "start_time": "2025-03-16T11:31:13.315Z"
   },
   {
    "duration": 6,
    "start_time": "2025-03-16T11:31:13.518Z"
   },
   {
    "duration": 11,
    "start_time": "2025-03-16T11:31:13.525Z"
   },
   {
    "duration": 151,
    "start_time": "2025-03-16T11:31:13.538Z"
   },
   {
    "duration": 0,
    "start_time": "2025-03-16T11:31:13.691Z"
   },
   {
    "duration": 6,
    "start_time": "2025-03-16T11:31:24.001Z"
   },
   {
    "duration": 2,
    "start_time": "2025-03-16T11:31:25.323Z"
   },
   {
    "duration": 31,
    "start_time": "2025-03-16T11:31:25.587Z"
   },
   {
    "duration": 1833,
    "start_time": "2025-03-16T11:31:38.369Z"
   },
   {
    "duration": 2,
    "start_time": "2025-03-16T11:31:40.204Z"
   },
   {
    "duration": 9,
    "start_time": "2025-03-16T11:31:40.207Z"
   },
   {
    "duration": 57,
    "start_time": "2025-03-16T11:31:40.217Z"
   },
   {
    "duration": 37,
    "start_time": "2025-03-16T11:31:40.276Z"
   },
   {
    "duration": 13,
    "start_time": "2025-03-16T11:31:40.314Z"
   },
   {
    "duration": 8,
    "start_time": "2025-03-16T11:31:40.328Z"
   },
   {
    "duration": 737,
    "start_time": "2025-03-16T11:31:40.337Z"
   },
   {
    "duration": 4,
    "start_time": "2025-03-16T11:31:41.076Z"
   },
   {
    "duration": 7,
    "start_time": "2025-03-16T11:31:41.082Z"
   },
   {
    "duration": 4,
    "start_time": "2025-03-16T11:31:41.091Z"
   },
   {
    "duration": 8,
    "start_time": "2025-03-16T11:31:41.097Z"
   },
   {
    "duration": 215,
    "start_time": "2025-03-16T11:31:41.107Z"
   },
   {
    "duration": 5,
    "start_time": "2025-03-16T11:31:41.324Z"
   },
   {
    "duration": 3,
    "start_time": "2025-03-16T11:31:41.331Z"
   },
   {
    "duration": 161,
    "start_time": "2025-03-16T11:31:41.335Z"
   },
   {
    "duration": 0,
    "start_time": "2025-03-16T11:31:41.498Z"
   },
   {
    "duration": 14,
    "start_time": "2025-03-16T11:32:12.407Z"
   },
   {
    "duration": 16,
    "start_time": "2025-03-16T11:32:54.223Z"
   },
   {
    "duration": 2,
    "start_time": "2025-03-16T11:33:39.405Z"
   },
   {
    "duration": 5,
    "start_time": "2025-03-16T11:33:49.432Z"
   },
   {
    "duration": 5,
    "start_time": "2025-03-16T11:33:53.159Z"
   },
   {
    "duration": 2,
    "start_time": "2025-03-16T11:33:53.784Z"
   },
   {
    "duration": 18,
    "start_time": "2025-03-16T11:33:53.991Z"
   },
   {
    "duration": 5,
    "start_time": "2025-03-16T11:34:00.605Z"
   },
   {
    "duration": 1720,
    "start_time": "2025-03-16T11:38:52.707Z"
   },
   {
    "duration": 2,
    "start_time": "2025-03-16T11:38:54.429Z"
   },
   {
    "duration": 4,
    "start_time": "2025-03-16T11:38:54.432Z"
   },
   {
    "duration": 31,
    "start_time": "2025-03-16T11:38:54.438Z"
   },
   {
    "duration": 37,
    "start_time": "2025-03-16T11:38:54.471Z"
   },
   {
    "duration": 13,
    "start_time": "2025-03-16T11:38:54.510Z"
   },
   {
    "duration": 10,
    "start_time": "2025-03-16T11:38:54.524Z"
   },
   {
    "duration": 729,
    "start_time": "2025-03-16T11:38:54.558Z"
   },
   {
    "duration": 4,
    "start_time": "2025-03-16T11:38:55.289Z"
   },
   {
    "duration": 4,
    "start_time": "2025-03-16T11:38:55.295Z"
   },
   {
    "duration": 5,
    "start_time": "2025-03-16T11:38:55.300Z"
   },
   {
    "duration": 6,
    "start_time": "2025-03-16T11:38:55.307Z"
   },
   {
    "duration": 192,
    "start_time": "2025-03-16T11:38:55.314Z"
   },
   {
    "duration": 6,
    "start_time": "2025-03-16T11:38:55.509Z"
   },
   {
    "duration": 14,
    "start_time": "2025-03-16T11:38:55.516Z"
   },
   {
    "duration": 32,
    "start_time": "2025-03-16T11:38:55.532Z"
   },
   {
    "duration": 7,
    "start_time": "2025-03-16T11:38:55.565Z"
   },
   {
    "duration": 5,
    "start_time": "2025-03-16T11:38:55.573Z"
   },
   {
    "duration": 5,
    "start_time": "2025-03-16T11:38:55.579Z"
   },
   {
    "duration": 139,
    "start_time": "2025-03-16T11:38:55.585Z"
   },
   {
    "duration": 0,
    "start_time": "2025-03-16T11:38:55.726Z"
   },
   {
    "duration": 0,
    "start_time": "2025-03-16T11:38:55.727Z"
   },
   {
    "duration": 0,
    "start_time": "2025-03-16T11:38:55.728Z"
   },
   {
    "duration": 0,
    "start_time": "2025-03-16T11:38:55.729Z"
   },
   {
    "duration": 5,
    "start_time": "2025-03-16T11:48:12.142Z"
   },
   {
    "duration": 16,
    "start_time": "2025-03-16T11:48:13.516Z"
   },
   {
    "duration": 4,
    "start_time": "2025-03-16T11:53:41.785Z"
   },
   {
    "duration": 4,
    "start_time": "2025-03-16T11:53:47.665Z"
   },
   {
    "duration": 5,
    "start_time": "2025-03-16T11:53:48.000Z"
   },
   {
    "duration": 5,
    "start_time": "2025-03-16T11:53:48.613Z"
   },
   {
    "duration": 4,
    "start_time": "2025-03-16T11:53:49.059Z"
   },
   {
    "duration": 5,
    "start_time": "2025-03-16T11:53:51.083Z"
   },
   {
    "duration": 23,
    "start_time": "2025-03-16T11:53:52.211Z"
   },
   {
    "duration": 4,
    "start_time": "2025-03-16T11:54:08.931Z"
   },
   {
    "duration": 12099,
    "start_time": "2025-03-16T11:54:14.967Z"
   },
   {
    "duration": 5,
    "start_time": "2025-03-16T11:54:57.766Z"
   },
   {
    "duration": 604,
    "start_time": "2025-03-16T11:54:59.823Z"
   },
   {
    "duration": 11,
    "start_time": "2025-03-16T11:56:31.249Z"
   },
   {
    "duration": 3,
    "start_time": "2025-03-16T11:57:24.264Z"
   },
   {
    "duration": 6,
    "start_time": "2025-03-16T11:57:45.385Z"
   },
   {
    "duration": 9,
    "start_time": "2025-03-16T11:57:59.012Z"
   },
   {
    "duration": 4,
    "start_time": "2025-03-16T11:58:08.344Z"
   },
   {
    "duration": 2026,
    "start_time": "2025-03-16T14:35:35.265Z"
   },
   {
    "duration": 3,
    "start_time": "2025-03-16T14:35:37.292Z"
   },
   {
    "duration": 15,
    "start_time": "2025-03-16T14:35:37.296Z"
   },
   {
    "duration": 33,
    "start_time": "2025-03-16T14:35:37.313Z"
   },
   {
    "duration": 36,
    "start_time": "2025-03-16T14:35:37.348Z"
   },
   {
    "duration": 13,
    "start_time": "2025-03-16T14:35:37.386Z"
   },
   {
    "duration": 91,
    "start_time": "2025-03-16T14:35:37.400Z"
   },
   {
    "duration": 733,
    "start_time": "2025-03-16T14:35:37.493Z"
   },
   {
    "duration": 11,
    "start_time": "2025-03-16T14:35:38.227Z"
   },
   {
    "duration": 5,
    "start_time": "2025-03-16T14:35:38.242Z"
   },
   {
    "duration": 7,
    "start_time": "2025-03-16T14:35:38.249Z"
   },
   {
    "duration": 7,
    "start_time": "2025-03-16T14:35:38.258Z"
   },
   {
    "duration": 246,
    "start_time": "2025-03-16T14:35:38.266Z"
   },
   {
    "duration": 6,
    "start_time": "2025-03-16T14:35:38.514Z"
   },
   {
    "duration": 14,
    "start_time": "2025-03-16T14:35:38.522Z"
   },
   {
    "duration": 132,
    "start_time": "2025-03-16T14:35:38.538Z"
   },
   {
    "duration": 70,
    "start_time": "2025-03-16T14:35:38.672Z"
   },
   {
    "duration": 5,
    "start_time": "2025-03-16T14:35:38.744Z"
   },
   {
    "duration": 8,
    "start_time": "2025-03-16T14:35:38.751Z"
   },
   {
    "duration": 135,
    "start_time": "2025-03-16T14:35:38.761Z"
   },
   {
    "duration": 0,
    "start_time": "2025-03-16T14:35:38.898Z"
   },
   {
    "duration": 0,
    "start_time": "2025-03-16T14:35:38.900Z"
   },
   {
    "duration": 23,
    "start_time": "2025-03-16T14:38:05.298Z"
   },
   {
    "duration": 233,
    "start_time": "2025-03-16T14:38:53.622Z"
   },
   {
    "duration": 3214,
    "start_time": "2025-03-16T14:39:03.046Z"
   },
   {
    "duration": 11,
    "start_time": "2025-03-16T14:39:31.598Z"
   },
   {
    "duration": 5,
    "start_time": "2025-03-16T14:39:33.845Z"
   },
   {
    "duration": 557,
    "start_time": "2025-03-16T14:39:34.570Z"
   },
   {
    "duration": 1715,
    "start_time": "2025-03-16T14:41:19.892Z"
   },
   {
    "duration": 3,
    "start_time": "2025-03-16T14:41:21.608Z"
   },
   {
    "duration": 6,
    "start_time": "2025-03-16T14:41:21.612Z"
   },
   {
    "duration": 33,
    "start_time": "2025-03-16T14:41:21.620Z"
   },
   {
    "duration": 37,
    "start_time": "2025-03-16T14:41:21.654Z"
   },
   {
    "duration": 12,
    "start_time": "2025-03-16T14:41:21.693Z"
   },
   {
    "duration": 35,
    "start_time": "2025-03-16T14:41:21.707Z"
   },
   {
    "duration": 737,
    "start_time": "2025-03-16T14:41:21.743Z"
   },
   {
    "duration": 4,
    "start_time": "2025-03-16T14:41:22.482Z"
   },
   {
    "duration": 4,
    "start_time": "2025-03-16T14:41:22.488Z"
   },
   {
    "duration": 6,
    "start_time": "2025-03-16T14:41:22.494Z"
   },
   {
    "duration": 5,
    "start_time": "2025-03-16T14:41:22.502Z"
   },
   {
    "duration": 196,
    "start_time": "2025-03-16T14:41:22.508Z"
   },
   {
    "duration": 6,
    "start_time": "2025-03-16T14:41:22.706Z"
   },
   {
    "duration": 32,
    "start_time": "2025-03-16T14:41:22.714Z"
   },
   {
    "duration": 21,
    "start_time": "2025-03-16T14:41:22.748Z"
   },
   {
    "duration": 5,
    "start_time": "2025-03-16T14:41:22.770Z"
   },
   {
    "duration": 6,
    "start_time": "2025-03-16T14:41:22.776Z"
   },
   {
    "duration": 6,
    "start_time": "2025-03-16T14:41:22.783Z"
   },
   {
    "duration": 3158,
    "start_time": "2025-03-16T14:41:22.790Z"
   },
   {
    "duration": 4,
    "start_time": "2025-03-16T14:41:25.950Z"
   },
   {
    "duration": 649,
    "start_time": "2025-03-16T14:41:25.956Z"
   },
   {
    "duration": 33921,
    "start_time": "2025-03-16T14:41:38.831Z"
   },
   {
    "duration": 20009,
    "start_time": "2025-03-16T14:42:23.252Z"
   },
   {
    "duration": 1834,
    "start_time": "2025-03-16T14:42:47.617Z"
   },
   {
    "duration": 2,
    "start_time": "2025-03-16T14:42:49.453Z"
   },
   {
    "duration": 29,
    "start_time": "2025-03-16T14:42:49.456Z"
   },
   {
    "duration": 33,
    "start_time": "2025-03-16T14:42:49.487Z"
   },
   {
    "duration": 45,
    "start_time": "2025-03-16T14:42:49.523Z"
   },
   {
    "duration": 14,
    "start_time": "2025-03-16T14:42:49.570Z"
   },
   {
    "duration": 28,
    "start_time": "2025-03-16T14:42:49.585Z"
   },
   {
    "duration": 735,
    "start_time": "2025-03-16T14:42:49.614Z"
   },
   {
    "duration": 5,
    "start_time": "2025-03-16T14:42:50.351Z"
   },
   {
    "duration": 32,
    "start_time": "2025-03-16T14:42:50.357Z"
   },
   {
    "duration": 7,
    "start_time": "2025-03-16T14:42:50.390Z"
   },
   {
    "duration": 6,
    "start_time": "2025-03-16T14:42:50.398Z"
   },
   {
    "duration": 181,
    "start_time": "2025-03-16T14:42:50.405Z"
   },
   {
    "duration": 6,
    "start_time": "2025-03-16T14:42:50.589Z"
   },
   {
    "duration": 76,
    "start_time": "2025-03-16T14:42:50.597Z"
   },
   {
    "duration": 91,
    "start_time": "2025-03-16T14:42:50.675Z"
   },
   {
    "duration": 4,
    "start_time": "2025-03-16T14:42:50.768Z"
   },
   {
    "duration": 4,
    "start_time": "2025-03-16T14:42:50.774Z"
   },
   {
    "duration": 8,
    "start_time": "2025-03-16T14:42:50.780Z"
   },
   {
    "duration": 20053,
    "start_time": "2025-03-16T14:42:50.789Z"
   },
   {
    "duration": 5,
    "start_time": "2025-03-16T14:43:10.843Z"
   },
   {
    "duration": 639,
    "start_time": "2025-03-16T14:43:10.850Z"
   },
   {
    "duration": 1852,
    "start_time": "2025-03-16T14:44:32.599Z"
   },
   {
    "duration": 2,
    "start_time": "2025-03-16T14:44:34.453Z"
   },
   {
    "duration": 4,
    "start_time": "2025-03-16T14:44:34.457Z"
   },
   {
    "duration": 32,
    "start_time": "2025-03-16T14:44:34.463Z"
   },
   {
    "duration": 49,
    "start_time": "2025-03-16T14:44:34.496Z"
   },
   {
    "duration": 13,
    "start_time": "2025-03-16T14:44:34.547Z"
   },
   {
    "duration": 10,
    "start_time": "2025-03-16T14:44:34.561Z"
   },
   {
    "duration": 737,
    "start_time": "2025-03-16T14:44:34.572Z"
   },
   {
    "duration": 3,
    "start_time": "2025-03-16T14:44:35.311Z"
   },
   {
    "duration": 8,
    "start_time": "2025-03-16T14:44:35.316Z"
   },
   {
    "duration": 4,
    "start_time": "2025-03-16T14:44:35.335Z"
   },
   {
    "duration": 23,
    "start_time": "2025-03-16T14:44:35.340Z"
   },
   {
    "duration": 173,
    "start_time": "2025-03-16T14:44:35.364Z"
   },
   {
    "duration": 5,
    "start_time": "2025-03-16T14:44:35.538Z"
   },
   {
    "duration": 3,
    "start_time": "2025-03-16T14:44:35.545Z"
   },
   {
    "duration": 18,
    "start_time": "2025-03-16T14:44:35.549Z"
   },
   {
    "duration": 3,
    "start_time": "2025-03-16T14:44:35.568Z"
   },
   {
    "duration": 4,
    "start_time": "2025-03-16T14:44:35.572Z"
   },
   {
    "duration": 5,
    "start_time": "2025-03-16T14:44:35.578Z"
   },
   {
    "duration": 19054,
    "start_time": "2025-03-16T14:44:35.585Z"
   },
   {
    "duration": 6,
    "start_time": "2025-03-16T14:44:54.640Z"
   },
   {
    "duration": 653,
    "start_time": "2025-03-16T14:44:54.647Z"
   },
   {
    "duration": 1781,
    "start_time": "2025-03-16T14:45:05.697Z"
   },
   {
    "duration": 2,
    "start_time": "2025-03-16T14:45:07.480Z"
   },
   {
    "duration": 4,
    "start_time": "2025-03-16T14:45:07.484Z"
   },
   {
    "duration": 35,
    "start_time": "2025-03-16T14:45:07.490Z"
   },
   {
    "duration": 41,
    "start_time": "2025-03-16T14:45:07.526Z"
   },
   {
    "duration": 13,
    "start_time": "2025-03-16T14:45:07.568Z"
   },
   {
    "duration": 42,
    "start_time": "2025-03-16T14:45:07.583Z"
   },
   {
    "duration": 721,
    "start_time": "2025-03-16T14:45:07.626Z"
   },
   {
    "duration": 4,
    "start_time": "2025-03-16T14:45:08.348Z"
   },
   {
    "duration": 40,
    "start_time": "2025-03-16T14:45:08.354Z"
   },
   {
    "duration": 4,
    "start_time": "2025-03-16T14:45:08.396Z"
   },
   {
    "duration": 5,
    "start_time": "2025-03-16T14:45:08.402Z"
   },
   {
    "duration": 178,
    "start_time": "2025-03-16T14:45:08.408Z"
   },
   {
    "duration": 5,
    "start_time": "2025-03-16T14:45:08.588Z"
   },
   {
    "duration": 80,
    "start_time": "2025-03-16T14:45:08.595Z"
   },
   {
    "duration": 95,
    "start_time": "2025-03-16T14:45:08.676Z"
   },
   {
    "duration": 3,
    "start_time": "2025-03-16T14:45:08.773Z"
   },
   {
    "duration": 5,
    "start_time": "2025-03-16T14:45:08.777Z"
   },
   {
    "duration": 7,
    "start_time": "2025-03-16T14:45:08.783Z"
   },
   {
    "duration": 33549,
    "start_time": "2025-03-16T14:45:08.791Z"
   },
   {
    "duration": 5,
    "start_time": "2025-03-16T14:45:42.342Z"
   },
   {
    "duration": 590,
    "start_time": "2025-03-16T14:45:42.349Z"
   },
   {
    "duration": 1808,
    "start_time": "2025-03-16T14:57:53.500Z"
   },
   {
    "duration": 3,
    "start_time": "2025-03-16T14:57:55.310Z"
   },
   {
    "duration": 10,
    "start_time": "2025-03-16T14:57:55.314Z"
   },
   {
    "duration": 32,
    "start_time": "2025-03-16T14:57:55.326Z"
   },
   {
    "duration": 37,
    "start_time": "2025-03-16T14:57:55.359Z"
   },
   {
    "duration": 13,
    "start_time": "2025-03-16T14:57:55.397Z"
   },
   {
    "duration": 25,
    "start_time": "2025-03-16T14:57:55.411Z"
   },
   {
    "duration": 757,
    "start_time": "2025-03-16T14:57:55.438Z"
   },
   {
    "duration": 4,
    "start_time": "2025-03-16T14:57:56.197Z"
   },
   {
    "duration": 6,
    "start_time": "2025-03-16T14:57:56.204Z"
   },
   {
    "duration": 6,
    "start_time": "2025-03-16T14:57:56.212Z"
   },
   {
    "duration": 20,
    "start_time": "2025-03-16T14:57:56.219Z"
   },
   {
    "duration": 185,
    "start_time": "2025-03-16T14:57:56.240Z"
   },
   {
    "duration": 10,
    "start_time": "2025-03-16T14:57:56.427Z"
   },
   {
    "duration": 8,
    "start_time": "2025-03-16T14:57:56.438Z"
   },
   {
    "duration": 18,
    "start_time": "2025-03-16T14:57:56.448Z"
   },
   {
    "duration": 3,
    "start_time": "2025-03-16T14:57:56.468Z"
   },
   {
    "duration": 5,
    "start_time": "2025-03-16T14:57:56.472Z"
   },
   {
    "duration": 5,
    "start_time": "2025-03-16T14:57:56.478Z"
   },
   {
    "duration": 32759,
    "start_time": "2025-03-16T14:57:56.485Z"
   },
   {
    "duration": 4,
    "start_time": "2025-03-16T14:58:29.246Z"
   },
   {
    "duration": 613,
    "start_time": "2025-03-16T14:58:29.252Z"
   },
   {
    "duration": 1753,
    "start_time": "2025-03-16T14:59:30.386Z"
   },
   {
    "duration": 2,
    "start_time": "2025-03-16T14:59:32.141Z"
   },
   {
    "duration": 4,
    "start_time": "2025-03-16T14:59:32.144Z"
   },
   {
    "duration": 33,
    "start_time": "2025-03-16T14:59:32.150Z"
   },
   {
    "duration": 51,
    "start_time": "2025-03-16T14:59:32.184Z"
   },
   {
    "duration": 13,
    "start_time": "2025-03-16T14:59:32.237Z"
   },
   {
    "duration": 21,
    "start_time": "2025-03-16T14:59:32.251Z"
   },
   {
    "duration": 730,
    "start_time": "2025-03-16T14:59:32.273Z"
   },
   {
    "duration": 4,
    "start_time": "2025-03-16T14:59:33.004Z"
   },
   {
    "duration": 5,
    "start_time": "2025-03-16T14:59:33.010Z"
   },
   {
    "duration": 20,
    "start_time": "2025-03-16T14:59:33.017Z"
   },
   {
    "duration": 6,
    "start_time": "2025-03-16T14:59:33.038Z"
   },
   {
    "duration": 178,
    "start_time": "2025-03-16T14:59:33.045Z"
   },
   {
    "duration": 12,
    "start_time": "2025-03-16T14:59:33.225Z"
   },
   {
    "duration": 5,
    "start_time": "2025-03-16T14:59:33.238Z"
   },
   {
    "duration": 16,
    "start_time": "2025-03-16T14:59:33.244Z"
   },
   {
    "duration": 3,
    "start_time": "2025-03-16T14:59:33.262Z"
   },
   {
    "duration": 4,
    "start_time": "2025-03-16T14:59:33.266Z"
   },
   {
    "duration": 6,
    "start_time": "2025-03-16T14:59:33.271Z"
   },
   {
    "duration": 33167,
    "start_time": "2025-03-16T14:59:33.278Z"
   },
   {
    "duration": 5,
    "start_time": "2025-03-16T15:00:06.446Z"
   },
   {
    "duration": 640,
    "start_time": "2025-03-16T15:00:06.453Z"
   },
   {
    "duration": 5,
    "start_time": "2025-03-16T15:09:05.007Z"
   },
   {
    "duration": 5,
    "start_time": "2025-03-16T15:09:42.535Z"
   },
   {
    "duration": 145,
    "start_time": "2025-03-16T15:09:42.752Z"
   },
   {
    "duration": 583,
    "start_time": "2025-03-16T15:09:42.925Z"
   },
   {
    "duration": 4,
    "start_time": "2025-03-16T15:10:22.434Z"
   },
   {
    "duration": 4,
    "start_time": "2025-03-16T15:10:23.121Z"
   },
   {
    "duration": 15,
    "start_time": "2025-03-16T15:10:23.370Z"
   },
   {
    "duration": 677,
    "start_time": "2025-03-16T15:10:23.541Z"
   },
   {
    "duration": 5,
    "start_time": "2025-03-16T15:10:37.410Z"
   },
   {
    "duration": 5,
    "start_time": "2025-03-16T15:10:37.566Z"
   },
   {
    "duration": 23,
    "start_time": "2025-03-16T15:10:37.736Z"
   },
   {
    "duration": 6,
    "start_time": "2025-03-16T15:11:30.510Z"
   },
   {
    "duration": 4,
    "start_time": "2025-03-16T15:11:30.883Z"
   },
   {
    "duration": 24,
    "start_time": "2025-03-16T15:11:31.084Z"
   },
   {
    "duration": 6,
    "start_time": "2025-03-16T15:15:01.491Z"
   },
   {
    "duration": 5,
    "start_time": "2025-03-16T15:15:02.324Z"
   },
   {
    "duration": 24,
    "start_time": "2025-03-16T15:15:03.049Z"
   },
   {
    "duration": 1781,
    "start_time": "2025-03-16T15:15:47.077Z"
   },
   {
    "duration": 2,
    "start_time": "2025-03-16T15:15:48.860Z"
   },
   {
    "duration": 11,
    "start_time": "2025-03-16T15:15:48.864Z"
   },
   {
    "duration": 36,
    "start_time": "2025-03-16T15:15:48.878Z"
   },
   {
    "duration": 44,
    "start_time": "2025-03-16T15:15:48.915Z"
   },
   {
    "duration": 14,
    "start_time": "2025-03-16T15:15:48.961Z"
   },
   {
    "duration": 9,
    "start_time": "2025-03-16T15:15:48.977Z"
   },
   {
    "duration": 787,
    "start_time": "2025-03-16T15:15:48.987Z"
   },
   {
    "duration": 4,
    "start_time": "2025-03-16T15:15:49.776Z"
   },
   {
    "duration": 4,
    "start_time": "2025-03-16T15:15:49.783Z"
   },
   {
    "duration": 6,
    "start_time": "2025-03-16T15:15:49.789Z"
   },
   {
    "duration": 6,
    "start_time": "2025-03-16T15:15:49.796Z"
   },
   {
    "duration": 209,
    "start_time": "2025-03-16T15:15:49.803Z"
   },
   {
    "duration": 6,
    "start_time": "2025-03-16T15:15:50.014Z"
   },
   {
    "duration": 34,
    "start_time": "2025-03-16T15:15:50.022Z"
   },
   {
    "duration": 18,
    "start_time": "2025-03-16T15:15:50.058Z"
   },
   {
    "duration": 3,
    "start_time": "2025-03-16T15:15:50.078Z"
   },
   {
    "duration": 5,
    "start_time": "2025-03-16T15:15:50.083Z"
   },
   {
    "duration": 14,
    "start_time": "2025-03-16T15:15:50.090Z"
   },
   {
    "duration": 36046,
    "start_time": "2025-03-16T15:15:50.105Z"
   },
   {
    "duration": 5,
    "start_time": "2025-03-16T15:16:26.153Z"
   },
   {
    "duration": 665,
    "start_time": "2025-03-16T15:16:26.160Z"
   },
   {
    "duration": 11,
    "start_time": "2025-03-16T15:16:26.827Z"
   },
   {
    "duration": 140,
    "start_time": "2025-03-16T15:16:26.840Z"
   },
   {
    "duration": 0,
    "start_time": "2025-03-16T15:16:26.982Z"
   },
   {
    "duration": 1,
    "start_time": "2025-03-16T15:16:26.983Z"
   },
   {
    "duration": 8,
    "start_time": "2025-03-16T15:16:58.561Z"
   },
   {
    "duration": 6,
    "start_time": "2025-03-16T15:16:59.945Z"
   },
   {
    "duration": 26,
    "start_time": "2025-03-16T15:17:02.755Z"
   },
   {
    "duration": 6,
    "start_time": "2025-03-16T15:17:44.508Z"
   },
   {
    "duration": 3,
    "start_time": "2025-03-16T15:17:44.899Z"
   },
   {
    "duration": 23,
    "start_time": "2025-03-16T15:17:45.591Z"
   },
   {
    "duration": 1899,
    "start_time": "2025-03-16T15:17:59.943Z"
   },
   {
    "duration": 2,
    "start_time": "2025-03-16T15:18:01.844Z"
   },
   {
    "duration": 16,
    "start_time": "2025-03-16T15:18:01.848Z"
   },
   {
    "duration": 35,
    "start_time": "2025-03-16T15:18:01.866Z"
   },
   {
    "duration": 49,
    "start_time": "2025-03-16T15:18:01.903Z"
   },
   {
    "duration": 14,
    "start_time": "2025-03-16T15:18:01.954Z"
   },
   {
    "duration": 8,
    "start_time": "2025-03-16T15:18:01.970Z"
   },
   {
    "duration": 799,
    "start_time": "2025-03-16T15:18:01.979Z"
   },
   {
    "duration": 4,
    "start_time": "2025-03-16T15:18:02.779Z"
   },
   {
    "duration": 88,
    "start_time": "2025-03-16T15:18:02.786Z"
   },
   {
    "duration": 5,
    "start_time": "2025-03-16T15:18:02.876Z"
   },
   {
    "duration": 36,
    "start_time": "2025-03-16T15:18:02.883Z"
   },
   {
    "duration": 196,
    "start_time": "2025-03-16T15:18:02.920Z"
   },
   {
    "duration": 5,
    "start_time": "2025-03-16T15:18:03.119Z"
   },
   {
    "duration": 27,
    "start_time": "2025-03-16T15:18:03.125Z"
   },
   {
    "duration": 19,
    "start_time": "2025-03-16T15:18:03.154Z"
   },
   {
    "duration": 4,
    "start_time": "2025-03-16T15:18:03.174Z"
   },
   {
    "duration": 5,
    "start_time": "2025-03-16T15:18:03.179Z"
   },
   {
    "duration": 29,
    "start_time": "2025-03-16T15:18:03.186Z"
   },
   {
    "duration": 34631,
    "start_time": "2025-03-16T15:18:03.217Z"
   },
   {
    "duration": 5,
    "start_time": "2025-03-16T15:18:37.850Z"
   },
   {
    "duration": 628,
    "start_time": "2025-03-16T15:18:37.856Z"
   },
   {
    "duration": 7,
    "start_time": "2025-03-16T15:18:38.487Z"
   },
   {
    "duration": 13,
    "start_time": "2025-03-16T15:18:38.496Z"
   },
   {
    "duration": 160,
    "start_time": "2025-03-16T15:18:38.511Z"
   },
   {
    "duration": 0,
    "start_time": "2025-03-16T15:18:38.673Z"
   },
   {
    "duration": 5,
    "start_time": "2025-03-16T15:19:07.444Z"
   },
   {
    "duration": 5,
    "start_time": "2025-03-16T15:19:08.125Z"
   },
   {
    "duration": 23,
    "start_time": "2025-03-16T15:19:08.328Z"
   },
   {
    "duration": 569,
    "start_time": "2025-03-16T15:19:08.468Z"
   },
   {
    "duration": 111,
    "start_time": "2025-03-16T15:20:38.206Z"
   },
   {
    "duration": 4,
    "start_time": "2025-03-16T15:20:38.527Z"
   },
   {
    "duration": 18,
    "start_time": "2025-03-16T15:20:38.866Z"
   },
   {
    "duration": 5,
    "start_time": "2025-03-16T15:20:47.264Z"
   },
   {
    "duration": 4,
    "start_time": "2025-03-16T15:20:47.597Z"
   },
   {
    "duration": 46907,
    "start_time": "2025-03-16T15:20:47.830Z"
   },
   {
    "duration": 6,
    "start_time": "2025-03-16T15:21:43.677Z"
   },
   {
    "duration": 5,
    "start_time": "2025-03-16T15:21:43.871Z"
   },
   {
    "duration": 56680,
    "start_time": "2025-03-16T15:21:44.060Z"
   },
   {
    "duration": 7,
    "start_time": "2025-03-16T15:22:41.329Z"
   },
   {
    "duration": 6,
    "start_time": "2025-03-16T15:22:41.337Z"
   },
   {
    "duration": 56098,
    "start_time": "2025-03-16T15:22:41.345Z"
   },
   {
    "duration": 610,
    "start_time": "2025-03-16T15:23:37.445Z"
   },
   {
    "duration": 5,
    "start_time": "2025-03-16T15:23:57.514Z"
   },
   {
    "duration": 5,
    "start_time": "2025-03-16T15:23:57.811Z"
   },
   {
    "duration": 55851,
    "start_time": "2025-03-16T15:23:57.989Z"
   },
   {
    "duration": 1861,
    "start_time": "2025-03-16T15:26:59.187Z"
   },
   {
    "duration": 3,
    "start_time": "2025-03-16T15:27:01.050Z"
   },
   {
    "duration": 6,
    "start_time": "2025-03-16T15:27:01.054Z"
   },
   {
    "duration": 33,
    "start_time": "2025-03-16T15:27:01.061Z"
   },
   {
    "duration": 47,
    "start_time": "2025-03-16T15:27:01.096Z"
   },
   {
    "duration": 14,
    "start_time": "2025-03-16T15:27:01.144Z"
   },
   {
    "duration": 17,
    "start_time": "2025-03-16T15:27:01.159Z"
   },
   {
    "duration": 776,
    "start_time": "2025-03-16T15:27:01.177Z"
   },
   {
    "duration": 4,
    "start_time": "2025-03-16T15:27:01.955Z"
   },
   {
    "duration": 13,
    "start_time": "2025-03-16T15:27:01.960Z"
   },
   {
    "duration": 5,
    "start_time": "2025-03-16T15:27:01.974Z"
   },
   {
    "duration": 20,
    "start_time": "2025-03-16T15:27:01.980Z"
   },
   {
    "duration": 174,
    "start_time": "2025-03-16T15:27:02.002Z"
   },
   {
    "duration": 5,
    "start_time": "2025-03-16T15:27:02.179Z"
   },
   {
    "duration": 21,
    "start_time": "2025-03-16T15:27:02.185Z"
   },
   {
    "duration": 23,
    "start_time": "2025-03-16T15:27:02.207Z"
   },
   {
    "duration": 4,
    "start_time": "2025-03-16T15:27:02.232Z"
   },
   {
    "duration": 17,
    "start_time": "2025-03-16T15:27:02.237Z"
   },
   {
    "duration": 13,
    "start_time": "2025-03-16T15:27:02.256Z"
   },
   {
    "duration": 32478,
    "start_time": "2025-03-16T15:27:02.271Z"
   },
   {
    "duration": 4,
    "start_time": "2025-03-16T15:27:34.751Z"
   },
   {
    "duration": 661,
    "start_time": "2025-03-16T15:27:34.756Z"
   },
   {
    "duration": 5,
    "start_time": "2025-03-16T15:27:35.419Z"
   },
   {
    "duration": 12,
    "start_time": "2025-03-16T15:27:35.425Z"
   },
   {
    "duration": 50215,
    "start_time": "2025-03-16T15:27:35.438Z"
   },
   {
    "duration": 617,
    "start_time": "2025-03-16T15:28:25.655Z"
   },
   {
    "duration": 5,
    "start_time": "2025-03-16T15:28:26.274Z"
   },
   {
    "duration": 249,
    "start_time": "2025-03-16T15:28:26.281Z"
   },
   {
    "duration": 0,
    "start_time": "2025-03-16T15:28:26.536Z"
   },
   {
    "duration": 0,
    "start_time": "2025-03-16T15:28:26.538Z"
   },
   {
    "duration": 0,
    "start_time": "2025-03-16T15:28:26.540Z"
   },
   {
    "duration": 0,
    "start_time": "2025-03-16T15:28:26.542Z"
   },
   {
    "duration": 0,
    "start_time": "2025-03-16T15:28:26.543Z"
   },
   {
    "duration": 0,
    "start_time": "2025-03-16T15:28:26.545Z"
   },
   {
    "duration": 0,
    "start_time": "2025-03-16T15:28:26.547Z"
   },
   {
    "duration": 2106,
    "start_time": "2025-03-17T05:03:06.101Z"
   },
   {
    "duration": 4,
    "start_time": "2025-03-17T05:03:08.211Z"
   },
   {
    "duration": 14,
    "start_time": "2025-03-17T05:03:08.217Z"
   },
   {
    "duration": 59,
    "start_time": "2025-03-17T05:03:08.234Z"
   },
   {
    "duration": 39,
    "start_time": "2025-03-17T05:03:08.295Z"
   },
   {
    "duration": 13,
    "start_time": "2025-03-17T05:03:08.335Z"
   },
   {
    "duration": 167,
    "start_time": "2025-03-17T05:03:08.357Z"
   },
   {
    "duration": 803,
    "start_time": "2025-03-17T05:03:08.525Z"
   },
   {
    "duration": 4,
    "start_time": "2025-03-17T05:03:09.329Z"
   },
   {
    "duration": 16,
    "start_time": "2025-03-17T05:03:09.335Z"
   },
   {
    "duration": 30,
    "start_time": "2025-03-17T05:03:09.353Z"
   },
   {
    "duration": 19,
    "start_time": "2025-03-17T05:03:09.385Z"
   },
   {
    "duration": 185,
    "start_time": "2025-03-17T05:03:09.406Z"
   },
   {
    "duration": 6,
    "start_time": "2025-03-17T05:03:09.592Z"
   },
   {
    "duration": 92,
    "start_time": "2025-03-17T05:03:09.600Z"
   },
   {
    "duration": 42,
    "start_time": "2025-03-17T05:03:09.694Z"
   },
   {
    "duration": 3,
    "start_time": "2025-03-17T05:03:09.738Z"
   },
   {
    "duration": 8,
    "start_time": "2025-03-17T05:03:09.743Z"
   },
   {
    "duration": 7,
    "start_time": "2025-03-17T05:03:09.752Z"
   },
   {
    "duration": 32010,
    "start_time": "2025-03-17T05:03:09.761Z"
   },
   {
    "duration": 6,
    "start_time": "2025-03-17T05:03:41.773Z"
   },
   {
    "duration": 626,
    "start_time": "2025-03-17T05:03:41.780Z"
   },
   {
    "duration": 5,
    "start_time": "2025-03-17T05:03:42.408Z"
   },
   {
    "duration": 112,
    "start_time": "2025-03-17T05:03:42.415Z"
   },
   {
    "duration": 42738,
    "start_time": "2025-03-17T05:03:42.528Z"
   },
   {
    "duration": 595,
    "start_time": "2025-03-17T05:04:25.268Z"
   },
   {
    "duration": 111,
    "start_time": "2025-03-17T05:05:07.300Z"
   },
   {
    "duration": 4,
    "start_time": "2025-03-17T05:05:07.468Z"
   },
   {
    "duration": 22469,
    "start_time": "2025-03-17T05:05:07.642Z"
   },
   {
    "duration": 0,
    "start_time": "2025-03-17T05:05:30.113Z"
   },
   {
    "duration": 5,
    "start_time": "2025-03-17T05:05:57.514Z"
   },
   {
    "duration": 4,
    "start_time": "2025-03-17T05:05:57.674Z"
   },
   {
    "duration": 23023,
    "start_time": "2025-03-17T05:05:57.844Z"
   },
   {
    "duration": 0,
    "start_time": "2025-03-17T05:06:20.868Z"
   },
   {
    "duration": 5,
    "start_time": "2025-03-17T05:06:38.728Z"
   },
   {
    "duration": 4,
    "start_time": "2025-03-17T05:06:38.883Z"
   },
   {
    "duration": 42333,
    "start_time": "2025-03-17T05:06:39.024Z"
   },
   {
    "duration": 559,
    "start_time": "2025-03-17T05:07:21.359Z"
   },
   {
    "duration": 5,
    "start_time": "2025-03-17T05:07:24.848Z"
   },
   {
    "duration": 4,
    "start_time": "2025-03-17T05:07:24.958Z"
   },
   {
    "duration": 42157,
    "start_time": "2025-03-17T05:07:25.111Z"
   },
   {
    "duration": 576,
    "start_time": "2025-03-17T05:08:07.269Z"
   },
   {
    "duration": 5,
    "start_time": "2025-03-17T05:13:48.342Z"
   },
   {
    "duration": 4,
    "start_time": "2025-03-17T05:13:48.516Z"
   },
   {
    "duration": 41251,
    "start_time": "2025-03-17T05:13:48.716Z"
   },
   {
    "duration": 0,
    "start_time": "2025-03-17T05:14:29.969Z"
   },
   {
    "duration": 5,
    "start_time": "2025-03-17T05:14:34.272Z"
   },
   {
    "duration": 4,
    "start_time": "2025-03-17T05:14:34.468Z"
   },
   {
    "duration": 20433,
    "start_time": "2025-03-17T05:14:34.624Z"
   },
   {
    "duration": 565,
    "start_time": "2025-03-17T05:14:55.059Z"
   },
   {
    "duration": 1732,
    "start_time": "2025-03-17T05:15:41.091Z"
   },
   {
    "duration": 2,
    "start_time": "2025-03-17T05:15:42.825Z"
   },
   {
    "duration": 5,
    "start_time": "2025-03-17T05:15:42.828Z"
   },
   {
    "duration": 37,
    "start_time": "2025-03-17T05:15:42.834Z"
   },
   {
    "duration": 39,
    "start_time": "2025-03-17T05:15:42.872Z"
   },
   {
    "duration": 13,
    "start_time": "2025-03-17T05:15:42.913Z"
   },
   {
    "duration": 33,
    "start_time": "2025-03-17T05:15:42.928Z"
   },
   {
    "duration": 744,
    "start_time": "2025-03-17T05:15:42.963Z"
   },
   {
    "duration": 4,
    "start_time": "2025-03-17T05:15:43.709Z"
   },
   {
    "duration": 6,
    "start_time": "2025-03-17T05:15:43.716Z"
   },
   {
    "duration": 6,
    "start_time": "2025-03-17T05:15:43.723Z"
   },
   {
    "duration": 8,
    "start_time": "2025-03-17T05:15:43.730Z"
   },
   {
    "duration": 177,
    "start_time": "2025-03-17T05:15:43.757Z"
   },
   {
    "duration": 6,
    "start_time": "2025-03-17T05:15:43.936Z"
   },
   {
    "duration": 31,
    "start_time": "2025-03-17T05:15:43.943Z"
   },
   {
    "duration": 18,
    "start_time": "2025-03-17T05:15:43.975Z"
   },
   {
    "duration": 4,
    "start_time": "2025-03-17T05:15:43.994Z"
   },
   {
    "duration": 5,
    "start_time": "2025-03-17T05:15:44.000Z"
   },
   {
    "duration": 9,
    "start_time": "2025-03-17T05:15:44.006Z"
   },
   {
    "duration": 33363,
    "start_time": "2025-03-17T05:15:44.017Z"
   },
   {
    "duration": 78,
    "start_time": "2025-03-17T05:16:17.381Z"
   },
   {
    "duration": 561,
    "start_time": "2025-03-17T05:16:17.461Z"
   },
   {
    "duration": 5,
    "start_time": "2025-03-17T05:16:18.023Z"
   },
   {
    "duration": 14,
    "start_time": "2025-03-17T05:16:18.030Z"
   },
   {
    "duration": 25129,
    "start_time": "2025-03-17T05:16:18.046Z"
   },
   {
    "duration": 654,
    "start_time": "2025-03-17T05:16:43.177Z"
   },
   {
    "duration": 5,
    "start_time": "2025-03-17T05:18:20.620Z"
   },
   {
    "duration": 26,
    "start_time": "2025-03-17T05:18:20.627Z"
   },
   {
    "duration": 25812,
    "start_time": "2025-03-17T05:18:20.654Z"
   },
   {
    "duration": 715,
    "start_time": "2025-03-17T05:18:46.468Z"
   },
   {
    "duration": 5,
    "start_time": "2025-03-17T05:19:33.122Z"
   },
   {
    "duration": 4,
    "start_time": "2025-03-17T05:19:33.333Z"
   },
   {
    "duration": 25457,
    "start_time": "2025-03-17T05:19:33.515Z"
   },
   {
    "duration": 5,
    "start_time": "2025-03-17T05:21:10.938Z"
   },
   {
    "duration": 5,
    "start_time": "2025-03-17T05:21:11.114Z"
   },
   {
    "duration": 17642,
    "start_time": "2025-03-17T05:21:11.235Z"
   },
   {
    "duration": 654,
    "start_time": "2025-03-17T05:21:28.879Z"
   },
   {
    "duration": 5,
    "start_time": "2025-03-17T05:22:44.505Z"
   },
   {
    "duration": 4,
    "start_time": "2025-03-17T05:22:44.658Z"
   },
   {
    "duration": 34926,
    "start_time": "2025-03-17T05:22:44.833Z"
   },
   {
    "duration": 607,
    "start_time": "2025-03-17T05:23:19.761Z"
   },
   {
    "duration": 6,
    "start_time": "2025-03-17T05:24:12.408Z"
   },
   {
    "duration": 4,
    "start_time": "2025-03-17T05:24:12.564Z"
   },
   {
    "duration": 33672,
    "start_time": "2025-03-17T05:24:12.736Z"
   },
   {
    "duration": 6,
    "start_time": "2025-03-17T05:24:50.426Z"
   },
   {
    "duration": 5,
    "start_time": "2025-03-17T05:24:50.607Z"
   },
   {
    "duration": 36304,
    "start_time": "2025-03-17T05:24:50.760Z"
   },
   {
    "duration": 1855,
    "start_time": "2025-03-17T05:25:48.720Z"
   },
   {
    "duration": 3,
    "start_time": "2025-03-17T05:25:50.577Z"
   },
   {
    "duration": 106,
    "start_time": "2025-03-17T05:25:50.581Z"
   },
   {
    "duration": 67,
    "start_time": "2025-03-17T05:25:50.688Z"
   },
   {
    "duration": 40,
    "start_time": "2025-03-17T05:25:50.757Z"
   },
   {
    "duration": 15,
    "start_time": "2025-03-17T05:25:50.799Z"
   },
   {
    "duration": 29,
    "start_time": "2025-03-17T05:25:50.816Z"
   },
   {
    "duration": 766,
    "start_time": "2025-03-17T05:25:50.846Z"
   },
   {
    "duration": 4,
    "start_time": "2025-03-17T05:25:51.614Z"
   },
   {
    "duration": 18,
    "start_time": "2025-03-17T05:25:51.620Z"
   },
   {
    "duration": 6,
    "start_time": "2025-03-17T05:25:51.640Z"
   },
   {
    "duration": 10,
    "start_time": "2025-03-17T05:25:51.647Z"
   },
   {
    "duration": 179,
    "start_time": "2025-03-17T05:25:51.659Z"
   },
   {
    "duration": 6,
    "start_time": "2025-03-17T05:25:51.840Z"
   },
   {
    "duration": 77,
    "start_time": "2025-03-17T05:25:51.856Z"
   },
   {
    "duration": 39,
    "start_time": "2025-03-17T05:25:51.935Z"
   },
   {
    "duration": 7,
    "start_time": "2025-03-17T05:25:51.976Z"
   },
   {
    "duration": 16,
    "start_time": "2025-03-17T05:25:51.985Z"
   },
   {
    "duration": 30,
    "start_time": "2025-03-17T05:25:52.003Z"
   },
   {
    "duration": 33633,
    "start_time": "2025-03-17T05:25:52.035Z"
   },
   {
    "duration": 5,
    "start_time": "2025-03-17T05:26:25.669Z"
   },
   {
    "duration": 697,
    "start_time": "2025-03-17T05:26:25.675Z"
   },
   {
    "duration": 5,
    "start_time": "2025-03-17T05:26:26.374Z"
   },
   {
    "duration": 5,
    "start_time": "2025-03-17T05:26:26.381Z"
   },
   {
    "duration": 34790,
    "start_time": "2025-03-17T05:26:26.388Z"
   },
   {
    "duration": 638,
    "start_time": "2025-03-17T05:27:01.179Z"
   },
   {
    "duration": 6688,
    "start_time": "2025-03-17T05:27:51.532Z"
   },
   {
    "duration": 0,
    "start_time": "2025-03-17T05:27:58.222Z"
   },
   {
    "duration": 5,
    "start_time": "2025-03-17T05:28:01.328Z"
   },
   {
    "duration": 5,
    "start_time": "2025-03-17T05:28:01.504Z"
   },
   {
    "duration": 17465,
    "start_time": "2025-03-17T05:28:01.999Z"
   },
   {
    "duration": 626,
    "start_time": "2025-03-17T05:28:19.466Z"
   },
   {
    "duration": 1926,
    "start_time": "2025-03-17T05:28:24.874Z"
   },
   {
    "duration": 2,
    "start_time": "2025-03-17T05:28:26.802Z"
   },
   {
    "duration": 4,
    "start_time": "2025-03-17T05:28:26.806Z"
   },
   {
    "duration": 34,
    "start_time": "2025-03-17T05:28:26.812Z"
   },
   {
    "duration": 42,
    "start_time": "2025-03-17T05:28:26.847Z"
   },
   {
    "duration": 23,
    "start_time": "2025-03-17T05:28:26.890Z"
   },
   {
    "duration": 8,
    "start_time": "2025-03-17T05:28:26.915Z"
   },
   {
    "duration": 761,
    "start_time": "2025-03-17T05:28:26.924Z"
   },
   {
    "duration": 4,
    "start_time": "2025-03-17T05:28:27.686Z"
   },
   {
    "duration": 53,
    "start_time": "2025-03-17T05:28:27.693Z"
   },
   {
    "duration": 5,
    "start_time": "2025-03-17T05:28:27.748Z"
   },
   {
    "duration": 6,
    "start_time": "2025-03-17T05:28:27.755Z"
   },
   {
    "duration": 176,
    "start_time": "2025-03-17T05:28:27.763Z"
   },
   {
    "duration": 16,
    "start_time": "2025-03-17T05:28:27.941Z"
   },
   {
    "duration": 3,
    "start_time": "2025-03-17T05:28:27.958Z"
   },
   {
    "duration": 18,
    "start_time": "2025-03-17T05:28:27.963Z"
   },
   {
    "duration": 3,
    "start_time": "2025-03-17T05:28:27.983Z"
   },
   {
    "duration": 5,
    "start_time": "2025-03-17T05:28:27.987Z"
   },
   {
    "duration": 5,
    "start_time": "2025-03-17T05:28:27.993Z"
   },
   {
    "duration": 32962,
    "start_time": "2025-03-17T05:28:27.999Z"
   },
   {
    "duration": 4,
    "start_time": "2025-03-17T05:29:00.963Z"
   },
   {
    "duration": 589,
    "start_time": "2025-03-17T05:29:00.969Z"
   },
   {
    "duration": 5,
    "start_time": "2025-03-17T05:29:01.560Z"
   },
   {
    "duration": 45,
    "start_time": "2025-03-17T05:29:01.566Z"
   },
   {
    "duration": 17557,
    "start_time": "2025-03-17T05:29:01.613Z"
   },
   {
    "duration": 599,
    "start_time": "2025-03-17T05:29:19.171Z"
   },
   {
    "duration": 8,
    "start_time": "2025-03-17T05:29:35.828Z"
   },
   {
    "duration": 5,
    "start_time": "2025-03-17T05:29:35.998Z"
   },
   {
    "duration": 21283,
    "start_time": "2025-03-17T05:29:36.177Z"
   },
   {
    "duration": 670,
    "start_time": "2025-03-17T05:29:57.462Z"
   },
   {
    "duration": 1910,
    "start_time": "2025-03-17T05:30:04.860Z"
   },
   {
    "duration": 3,
    "start_time": "2025-03-17T05:30:06.772Z"
   },
   {
    "duration": 28,
    "start_time": "2025-03-17T05:30:06.777Z"
   },
   {
    "duration": 63,
    "start_time": "2025-03-17T05:30:06.807Z"
   },
   {
    "duration": 36,
    "start_time": "2025-03-17T05:30:06.872Z"
   },
   {
    "duration": 13,
    "start_time": "2025-03-17T05:30:06.910Z"
   },
   {
    "duration": 34,
    "start_time": "2025-03-17T05:30:06.924Z"
   },
   {
    "duration": 741,
    "start_time": "2025-03-17T05:30:06.960Z"
   },
   {
    "duration": 4,
    "start_time": "2025-03-17T05:30:07.703Z"
   },
   {
    "duration": 50,
    "start_time": "2025-03-17T05:30:07.709Z"
   },
   {
    "duration": 15,
    "start_time": "2025-03-17T05:30:07.761Z"
   },
   {
    "duration": 6,
    "start_time": "2025-03-17T05:30:07.777Z"
   },
   {
    "duration": 173,
    "start_time": "2025-03-17T05:30:07.785Z"
   },
   {
    "duration": 5,
    "start_time": "2025-03-17T05:30:07.960Z"
   },
   {
    "duration": 18,
    "start_time": "2025-03-17T05:30:07.967Z"
   },
   {
    "duration": 42,
    "start_time": "2025-03-17T05:30:07.986Z"
   },
   {
    "duration": 5,
    "start_time": "2025-03-17T05:30:08.030Z"
   },
   {
    "duration": 4,
    "start_time": "2025-03-17T05:30:08.036Z"
   },
   {
    "duration": 6,
    "start_time": "2025-03-17T05:30:08.042Z"
   },
   {
    "duration": 33321,
    "start_time": "2025-03-17T05:30:08.049Z"
   },
   {
    "duration": 4,
    "start_time": "2025-03-17T05:30:41.372Z"
   },
   {
    "duration": 623,
    "start_time": "2025-03-17T05:30:41.378Z"
   },
   {
    "duration": 6,
    "start_time": "2025-03-17T05:30:42.003Z"
   },
   {
    "duration": 7,
    "start_time": "2025-03-17T05:30:42.010Z"
   },
   {
    "duration": 21549,
    "start_time": "2025-03-17T05:30:42.019Z"
   },
   {
    "duration": 694,
    "start_time": "2025-03-17T05:31:03.570Z"
   },
   {
    "duration": 1927,
    "start_time": "2025-03-17T05:34:27.944Z"
   },
   {
    "duration": 2,
    "start_time": "2025-03-17T05:34:29.873Z"
   },
   {
    "duration": 77,
    "start_time": "2025-03-17T05:34:29.877Z"
   },
   {
    "duration": 78,
    "start_time": "2025-03-17T05:34:29.956Z"
   },
   {
    "duration": 40,
    "start_time": "2025-03-17T05:34:30.036Z"
   },
   {
    "duration": 14,
    "start_time": "2025-03-17T05:34:30.078Z"
   },
   {
    "duration": 70,
    "start_time": "2025-03-17T05:34:30.094Z"
   },
   {
    "duration": 783,
    "start_time": "2025-03-17T05:34:30.165Z"
   },
   {
    "duration": 10,
    "start_time": "2025-03-17T05:34:30.949Z"
   },
   {
    "duration": 21,
    "start_time": "2025-03-17T05:34:30.960Z"
   },
   {
    "duration": 16,
    "start_time": "2025-03-17T05:34:30.983Z"
   },
   {
    "duration": 7,
    "start_time": "2025-03-17T05:34:31.001Z"
   },
   {
    "duration": 199,
    "start_time": "2025-03-17T05:34:31.010Z"
   },
   {
    "duration": 6,
    "start_time": "2025-03-17T05:34:31.212Z"
   },
   {
    "duration": 6,
    "start_time": "2025-03-17T05:34:31.219Z"
   },
   {
    "duration": 34,
    "start_time": "2025-03-17T05:34:31.226Z"
   },
   {
    "duration": 13,
    "start_time": "2025-03-17T05:34:31.262Z"
   },
   {
    "duration": 12,
    "start_time": "2025-03-17T05:34:31.277Z"
   },
   {
    "duration": 8,
    "start_time": "2025-03-17T05:34:31.290Z"
   },
   {
    "duration": 34080,
    "start_time": "2025-03-17T05:34:31.300Z"
   },
   {
    "duration": 77,
    "start_time": "2025-03-17T05:35:05.382Z"
   },
   {
    "duration": 630,
    "start_time": "2025-03-17T05:35:05.460Z"
   },
   {
    "duration": 4,
    "start_time": "2025-03-17T05:35:06.092Z"
   },
   {
    "duration": 35,
    "start_time": "2025-03-17T05:35:06.098Z"
   },
   {
    "duration": 44722,
    "start_time": "2025-03-17T05:35:06.135Z"
   },
   {
    "duration": 576,
    "start_time": "2025-03-17T05:35:50.859Z"
   },
   {
    "duration": 1879,
    "start_time": "2025-03-17T05:36:51.677Z"
   },
   {
    "duration": 3,
    "start_time": "2025-03-17T05:36:53.558Z"
   },
   {
    "duration": 17,
    "start_time": "2025-03-17T05:36:53.562Z"
   },
   {
    "duration": 39,
    "start_time": "2025-03-17T05:36:53.580Z"
   },
   {
    "duration": 38,
    "start_time": "2025-03-17T05:36:53.620Z"
   },
   {
    "duration": 13,
    "start_time": "2025-03-17T05:36:53.659Z"
   },
   {
    "duration": 8,
    "start_time": "2025-03-17T05:36:53.673Z"
   },
   {
    "duration": 755,
    "start_time": "2025-03-17T05:36:53.683Z"
   },
   {
    "duration": 4,
    "start_time": "2025-03-17T05:36:54.440Z"
   },
   {
    "duration": 4,
    "start_time": "2025-03-17T05:36:54.458Z"
   },
   {
    "duration": 55,
    "start_time": "2025-03-17T05:36:54.464Z"
   },
   {
    "duration": 6,
    "start_time": "2025-03-17T05:36:54.521Z"
   },
   {
    "duration": 169,
    "start_time": "2025-03-17T05:36:54.528Z"
   },
   {
    "duration": 6,
    "start_time": "2025-03-17T05:36:54.698Z"
   },
   {
    "duration": 27,
    "start_time": "2025-03-17T05:36:54.705Z"
   },
   {
    "duration": 23,
    "start_time": "2025-03-17T05:36:54.734Z"
   },
   {
    "duration": 30,
    "start_time": "2025-03-17T05:36:54.758Z"
   },
   {
    "duration": 25,
    "start_time": "2025-03-17T05:36:54.790Z"
   },
   {
    "duration": 9,
    "start_time": "2025-03-17T05:36:54.816Z"
   },
   {
    "duration": 19241,
    "start_time": "2025-03-17T05:36:54.826Z"
   },
   {
    "duration": 6,
    "start_time": "2025-03-17T05:37:14.069Z"
   },
   {
    "duration": 612,
    "start_time": "2025-03-17T05:37:14.076Z"
   },
   {
    "duration": 6,
    "start_time": "2025-03-17T05:37:14.690Z"
   },
   {
    "duration": 32,
    "start_time": "2025-03-17T05:37:14.698Z"
   },
   {
    "duration": 22329,
    "start_time": "2025-03-17T05:37:14.731Z"
   },
   {
    "duration": 584,
    "start_time": "2025-03-17T05:37:37.062Z"
   },
   {
    "duration": 1918,
    "start_time": "2025-03-17T05:41:33.451Z"
   },
   {
    "duration": 2,
    "start_time": "2025-03-17T05:41:35.371Z"
   },
   {
    "duration": 16,
    "start_time": "2025-03-17T05:41:35.374Z"
   },
   {
    "duration": 46,
    "start_time": "2025-03-17T05:41:35.392Z"
   },
   {
    "duration": 38,
    "start_time": "2025-03-17T05:41:35.440Z"
   },
   {
    "duration": 14,
    "start_time": "2025-03-17T05:41:35.479Z"
   },
   {
    "duration": 11,
    "start_time": "2025-03-17T05:41:35.495Z"
   },
   {
    "duration": 771,
    "start_time": "2025-03-17T05:41:35.507Z"
   },
   {
    "duration": 4,
    "start_time": "2025-03-17T05:41:36.280Z"
   },
   {
    "duration": 36,
    "start_time": "2025-03-17T05:41:36.287Z"
   },
   {
    "duration": 6,
    "start_time": "2025-03-17T05:41:36.325Z"
   },
   {
    "duration": 6,
    "start_time": "2025-03-17T05:41:36.333Z"
   },
   {
    "duration": 212,
    "start_time": "2025-03-17T05:41:36.340Z"
   },
   {
    "duration": 5,
    "start_time": "2025-03-17T05:41:36.554Z"
   },
   {
    "duration": 21,
    "start_time": "2025-03-17T05:41:36.561Z"
   },
   {
    "duration": 43,
    "start_time": "2025-03-17T05:41:36.583Z"
   },
   {
    "duration": 33,
    "start_time": "2025-03-17T05:41:36.627Z"
   },
   {
    "duration": 114,
    "start_time": "2025-03-17T05:41:36.662Z"
   },
   {
    "duration": 38,
    "start_time": "2025-03-17T05:41:36.778Z"
   },
   {
    "duration": 19356,
    "start_time": "2025-03-17T05:41:36.817Z"
   },
   {
    "duration": 5,
    "start_time": "2025-03-17T05:41:56.174Z"
   },
   {
    "duration": 611,
    "start_time": "2025-03-17T05:41:56.180Z"
   },
   {
    "duration": 4,
    "start_time": "2025-03-17T05:41:56.793Z"
   },
   {
    "duration": 4,
    "start_time": "2025-03-17T05:41:56.799Z"
   },
   {
    "duration": 16869,
    "start_time": "2025-03-17T05:41:56.805Z"
   },
   {
    "duration": 628,
    "start_time": "2025-03-17T05:42:13.675Z"
   },
   {
    "duration": 1856,
    "start_time": "2025-03-17T05:42:46.657Z"
   },
   {
    "duration": 3,
    "start_time": "2025-03-17T05:42:48.515Z"
   },
   {
    "duration": 69,
    "start_time": "2025-03-17T05:42:48.519Z"
   },
   {
    "duration": 34,
    "start_time": "2025-03-17T05:42:48.590Z"
   },
   {
    "duration": 37,
    "start_time": "2025-03-17T05:42:48.626Z"
   },
   {
    "duration": 82,
    "start_time": "2025-03-17T05:42:48.665Z"
   },
   {
    "duration": 8,
    "start_time": "2025-03-17T05:42:48.749Z"
   },
   {
    "duration": 764,
    "start_time": "2025-03-17T05:42:48.759Z"
   },
   {
    "duration": 5,
    "start_time": "2025-03-17T05:42:49.525Z"
   },
   {
    "duration": 12,
    "start_time": "2025-03-17T05:42:49.531Z"
   },
   {
    "duration": 15,
    "start_time": "2025-03-17T05:42:49.544Z"
   },
   {
    "duration": 7,
    "start_time": "2025-03-17T05:42:49.561Z"
   },
   {
    "duration": 190,
    "start_time": "2025-03-17T05:42:49.569Z"
   },
   {
    "duration": 5,
    "start_time": "2025-03-17T05:42:49.762Z"
   },
   {
    "duration": 24,
    "start_time": "2025-03-17T05:42:49.769Z"
   },
   {
    "duration": 19,
    "start_time": "2025-03-17T05:42:49.795Z"
   },
   {
    "duration": 4,
    "start_time": "2025-03-17T05:42:49.816Z"
   },
   {
    "duration": 4,
    "start_time": "2025-03-17T05:42:49.821Z"
   },
   {
    "duration": 11,
    "start_time": "2025-03-17T05:42:49.826Z"
   },
   {
    "duration": 32035,
    "start_time": "2025-03-17T05:42:49.838Z"
   },
   {
    "duration": 5,
    "start_time": "2025-03-17T05:43:21.875Z"
   },
   {
    "duration": 630,
    "start_time": "2025-03-17T05:43:21.882Z"
   },
   {
    "duration": 5,
    "start_time": "2025-03-17T05:43:22.514Z"
   },
   {
    "duration": 57,
    "start_time": "2025-03-17T05:43:22.520Z"
   },
   {
    "duration": 42488,
    "start_time": "2025-03-17T05:43:22.578Z"
   },
   {
    "duration": 591,
    "start_time": "2025-03-17T05:44:05.067Z"
   },
   {
    "duration": 149,
    "start_time": "2025-03-17T06:23:50.439Z"
   },
   {
    "duration": 5,
    "start_time": "2025-03-17T06:23:50.877Z"
   },
   {
    "duration": 26712,
    "start_time": "2025-03-17T06:23:51.181Z"
   },
   {
    "duration": 6,
    "start_time": "2025-03-17T06:24:25.553Z"
   },
   {
    "duration": 5,
    "start_time": "2025-03-17T06:24:25.736Z"
   },
   {
    "duration": 43856,
    "start_time": "2025-03-17T06:24:31.706Z"
   },
   {
    "duration": 5,
    "start_time": "2025-03-17T06:25:18.367Z"
   },
   {
    "duration": 5,
    "start_time": "2025-03-17T06:25:18.580Z"
   },
   {
    "duration": 45369,
    "start_time": "2025-03-17T06:25:18.893Z"
   },
   {
    "duration": 6,
    "start_time": "2025-03-17T06:26:08.393Z"
   },
   {
    "duration": 5,
    "start_time": "2025-03-17T06:26:08.526Z"
   },
   {
    "duration": 43863,
    "start_time": "2025-03-17T06:26:08.710Z"
   },
   {
    "duration": 9,
    "start_time": "2025-03-17T06:27:31.494Z"
   },
   {
    "duration": 5,
    "start_time": "2025-03-17T06:27:31.670Z"
   },
   {
    "duration": 44018,
    "start_time": "2025-03-17T06:27:31.861Z"
   },
   {
    "duration": 5,
    "start_time": "2025-03-17T06:28:20.298Z"
   },
   {
    "duration": 4,
    "start_time": "2025-03-17T06:28:20.436Z"
   },
   {
    "duration": 20193,
    "start_time": "2025-03-17T06:28:20.590Z"
   },
   {
    "duration": 0,
    "start_time": "2025-03-17T06:28:40.785Z"
   },
   {
    "duration": 1838,
    "start_time": "2025-03-17T06:28:56.349Z"
   },
   {
    "duration": 2,
    "start_time": "2025-03-17T06:28:58.189Z"
   },
   {
    "duration": 4,
    "start_time": "2025-03-17T06:28:58.193Z"
   },
   {
    "duration": 56,
    "start_time": "2025-03-17T06:28:58.198Z"
   },
   {
    "duration": 46,
    "start_time": "2025-03-17T06:28:58.257Z"
   },
   {
    "duration": 14,
    "start_time": "2025-03-17T06:28:58.305Z"
   },
   {
    "duration": 36,
    "start_time": "2025-03-17T06:28:58.321Z"
   },
   {
    "duration": 745,
    "start_time": "2025-03-17T06:28:58.359Z"
   },
   {
    "duration": 4,
    "start_time": "2025-03-17T06:28:59.106Z"
   },
   {
    "duration": 6,
    "start_time": "2025-03-17T06:28:59.112Z"
   },
   {
    "duration": 6,
    "start_time": "2025-03-17T06:28:59.120Z"
   },
   {
    "duration": 10,
    "start_time": "2025-03-17T06:28:59.127Z"
   },
   {
    "duration": 176,
    "start_time": "2025-03-17T06:28:59.162Z"
   },
   {
    "duration": 6,
    "start_time": "2025-03-17T06:28:59.339Z"
   },
   {
    "duration": 16,
    "start_time": "2025-03-17T06:28:59.346Z"
   },
   {
    "duration": 23,
    "start_time": "2025-03-17T06:28:59.364Z"
   },
   {
    "duration": 3,
    "start_time": "2025-03-17T06:28:59.389Z"
   },
   {
    "duration": 20,
    "start_time": "2025-03-17T06:28:59.394Z"
   },
   {
    "duration": 13,
    "start_time": "2025-03-17T06:28:59.416Z"
   },
   {
    "duration": 33633,
    "start_time": "2025-03-17T06:28:59.431Z"
   },
   {
    "duration": 5,
    "start_time": "2025-03-17T06:29:33.066Z"
   },
   {
    "duration": 606,
    "start_time": "2025-03-17T06:29:33.072Z"
   },
   {
    "duration": 6,
    "start_time": "2025-03-17T06:29:33.680Z"
   },
   {
    "duration": 11,
    "start_time": "2025-03-17T06:29:33.687Z"
   },
   {
    "duration": 43276,
    "start_time": "2025-03-17T06:29:33.699Z"
   },
   {
    "duration": 615,
    "start_time": "2025-03-17T06:30:16.977Z"
   },
   {
    "duration": 1888,
    "start_time": "2025-03-17T06:31:49.374Z"
   },
   {
    "duration": 3,
    "start_time": "2025-03-17T06:31:51.264Z"
   },
   {
    "duration": 27,
    "start_time": "2025-03-17T06:31:51.268Z"
   },
   {
    "duration": 52,
    "start_time": "2025-03-17T06:31:51.297Z"
   },
   {
    "duration": 40,
    "start_time": "2025-03-17T06:31:51.351Z"
   },
   {
    "duration": 14,
    "start_time": "2025-03-17T06:31:51.392Z"
   },
   {
    "duration": 9,
    "start_time": "2025-03-17T06:31:51.408Z"
   },
   {
    "duration": 754,
    "start_time": "2025-03-17T06:31:51.419Z"
   },
   {
    "duration": 4,
    "start_time": "2025-03-17T06:31:52.175Z"
   },
   {
    "duration": 12,
    "start_time": "2025-03-17T06:31:52.182Z"
   },
   {
    "duration": 12,
    "start_time": "2025-03-17T06:31:52.196Z"
   },
   {
    "duration": 14,
    "start_time": "2025-03-17T06:31:52.210Z"
   },
   {
    "duration": 177,
    "start_time": "2025-03-17T06:31:52.226Z"
   },
   {
    "duration": 6,
    "start_time": "2025-03-17T06:31:52.406Z"
   },
   {
    "duration": 19,
    "start_time": "2025-03-17T06:31:52.414Z"
   },
   {
    "duration": 24,
    "start_time": "2025-03-17T06:31:52.435Z"
   },
   {
    "duration": 7,
    "start_time": "2025-03-17T06:31:52.460Z"
   },
   {
    "duration": 6,
    "start_time": "2025-03-17T06:31:52.469Z"
   },
   {
    "duration": 11,
    "start_time": "2025-03-17T06:31:52.477Z"
   },
   {
    "duration": 34980,
    "start_time": "2025-03-17T06:31:52.489Z"
   },
   {
    "duration": 5,
    "start_time": "2025-03-17T06:32:27.471Z"
   },
   {
    "duration": 629,
    "start_time": "2025-03-17T06:32:27.477Z"
   },
   {
    "duration": 5,
    "start_time": "2025-03-17T06:32:28.107Z"
   },
   {
    "duration": 7,
    "start_time": "2025-03-17T06:32:28.114Z"
   },
   {
    "duration": 45045,
    "start_time": "2025-03-17T06:32:28.122Z"
   },
   {
    "duration": 580,
    "start_time": "2025-03-17T06:33:13.169Z"
   },
   {
    "duration": 1820,
    "start_time": "2025-03-17T06:33:55.986Z"
   },
   {
    "duration": 3,
    "start_time": "2025-03-17T06:33:57.807Z"
   },
   {
    "duration": 11,
    "start_time": "2025-03-17T06:33:57.811Z"
   },
   {
    "duration": 40,
    "start_time": "2025-03-17T06:33:57.823Z"
   },
   {
    "duration": 39,
    "start_time": "2025-03-17T06:33:57.865Z"
   },
   {
    "duration": 14,
    "start_time": "2025-03-17T06:33:57.905Z"
   },
   {
    "duration": 21,
    "start_time": "2025-03-17T06:33:57.920Z"
   },
   {
    "duration": 775,
    "start_time": "2025-03-17T06:33:57.956Z"
   },
   {
    "duration": 5,
    "start_time": "2025-03-17T06:33:58.732Z"
   },
   {
    "duration": 26,
    "start_time": "2025-03-17T06:33:58.739Z"
   },
   {
    "duration": 4,
    "start_time": "2025-03-17T06:33:58.766Z"
   },
   {
    "duration": 10,
    "start_time": "2025-03-17T06:33:58.771Z"
   },
   {
    "duration": 187,
    "start_time": "2025-03-17T06:33:58.782Z"
   },
   {
    "duration": 7,
    "start_time": "2025-03-17T06:33:58.971Z"
   },
   {
    "duration": 4,
    "start_time": "2025-03-17T06:33:58.980Z"
   },
   {
    "duration": 22,
    "start_time": "2025-03-17T06:33:58.986Z"
   },
   {
    "duration": 5,
    "start_time": "2025-03-17T06:33:59.009Z"
   },
   {
    "duration": 6,
    "start_time": "2025-03-17T06:33:59.015Z"
   },
   {
    "duration": 35,
    "start_time": "2025-03-17T06:33:59.022Z"
   },
   {
    "duration": 26513,
    "start_time": "2025-03-17T06:33:59.059Z"
   },
   {
    "duration": 5,
    "start_time": "2025-03-17T06:34:25.573Z"
   },
   {
    "duration": 649,
    "start_time": "2025-03-17T06:34:25.579Z"
   },
   {
    "duration": 5,
    "start_time": "2025-03-17T06:34:26.230Z"
   },
   {
    "duration": 5,
    "start_time": "2025-03-17T06:34:26.236Z"
   },
   {
    "duration": 34638,
    "start_time": "2025-03-17T06:34:26.242Z"
   },
   {
    "duration": 577,
    "start_time": "2025-03-17T06:35:00.956Z"
   },
   {
    "duration": 1912,
    "start_time": "2025-03-17T06:39:16.651Z"
   },
   {
    "duration": 2,
    "start_time": "2025-03-17T06:39:18.565Z"
   },
   {
    "duration": 4,
    "start_time": "2025-03-17T06:39:18.569Z"
   },
   {
    "duration": 39,
    "start_time": "2025-03-17T06:39:18.575Z"
   },
   {
    "duration": 49,
    "start_time": "2025-03-17T06:39:18.616Z"
   },
   {
    "duration": 15,
    "start_time": "2025-03-17T06:39:18.666Z"
   },
   {
    "duration": 17,
    "start_time": "2025-03-17T06:39:18.683Z"
   },
   {
    "duration": 798,
    "start_time": "2025-03-17T06:39:18.701Z"
   },
   {
    "duration": 5,
    "start_time": "2025-03-17T06:39:19.500Z"
   },
   {
    "duration": 4,
    "start_time": "2025-03-17T06:39:19.509Z"
   },
   {
    "duration": 5,
    "start_time": "2025-03-17T06:39:19.515Z"
   },
   {
    "duration": 36,
    "start_time": "2025-03-17T06:39:19.522Z"
   },
   {
    "duration": 192,
    "start_time": "2025-03-17T06:39:19.560Z"
   },
   {
    "duration": 6,
    "start_time": "2025-03-17T06:39:19.758Z"
   },
   {
    "duration": 4,
    "start_time": "2025-03-17T06:39:19.765Z"
   },
   {
    "duration": 18,
    "start_time": "2025-03-17T06:39:19.771Z"
   },
   {
    "duration": 3,
    "start_time": "2025-03-17T06:39:19.791Z"
   },
   {
    "duration": 5,
    "start_time": "2025-03-17T06:39:19.795Z"
   },
   {
    "duration": 6,
    "start_time": "2025-03-17T06:39:19.801Z"
   },
   {
    "duration": 28271,
    "start_time": "2025-03-17T06:39:19.809Z"
   },
   {
    "duration": 78,
    "start_time": "2025-03-17T06:39:48.082Z"
   },
   {
    "duration": 698,
    "start_time": "2025-03-17T06:39:48.161Z"
   },
   {
    "duration": 5,
    "start_time": "2025-03-17T06:39:48.861Z"
   },
   {
    "duration": 110,
    "start_time": "2025-03-17T06:39:48.868Z"
   },
   {
    "duration": 36699,
    "start_time": "2025-03-17T06:39:48.979Z"
   },
   {
    "duration": 678,
    "start_time": "2025-03-17T06:40:25.680Z"
   },
   {
    "duration": 6,
    "start_time": "2025-03-17T06:43:18.751Z"
   },
   {
    "duration": 5,
    "start_time": "2025-03-17T06:43:18.963Z"
   },
   {
    "duration": 141,
    "start_time": "2025-03-17T06:43:19.433Z"
   },
   {
    "duration": 1870,
    "start_time": "2025-03-17T06:44:02.411Z"
   },
   {
    "duration": 3,
    "start_time": "2025-03-17T06:44:04.283Z"
   },
   {
    "duration": 17,
    "start_time": "2025-03-17T06:44:04.287Z"
   },
   {
    "duration": 45,
    "start_time": "2025-03-17T06:44:04.306Z"
   },
   {
    "duration": 36,
    "start_time": "2025-03-17T06:44:04.353Z"
   },
   {
    "duration": 13,
    "start_time": "2025-03-17T06:44:04.391Z"
   },
   {
    "duration": 12,
    "start_time": "2025-03-17T06:44:04.405Z"
   },
   {
    "duration": 782,
    "start_time": "2025-03-17T06:44:04.418Z"
   },
   {
    "duration": 4,
    "start_time": "2025-03-17T06:44:05.202Z"
   },
   {
    "duration": 26,
    "start_time": "2025-03-17T06:44:05.208Z"
   },
   {
    "duration": 17,
    "start_time": "2025-03-17T06:44:05.235Z"
   },
   {
    "duration": 60,
    "start_time": "2025-03-17T06:44:05.254Z"
   },
   {
    "duration": 217,
    "start_time": "2025-03-17T06:44:05.315Z"
   },
   {
    "duration": 5,
    "start_time": "2025-03-17T06:44:05.534Z"
   },
   {
    "duration": 39,
    "start_time": "2025-03-17T06:44:05.541Z"
   },
   {
    "duration": 47,
    "start_time": "2025-03-17T06:44:05.582Z"
   },
   {
    "duration": 7,
    "start_time": "2025-03-17T06:44:05.631Z"
   },
   {
    "duration": 5,
    "start_time": "2025-03-17T06:44:05.640Z"
   },
   {
    "duration": 27,
    "start_time": "2025-03-17T06:44:05.646Z"
   },
   {
    "duration": 27403,
    "start_time": "2025-03-17T06:44:05.674Z"
   },
   {
    "duration": 82,
    "start_time": "2025-03-17T06:44:33.079Z"
   },
   {
    "duration": 635,
    "start_time": "2025-03-17T06:44:33.163Z"
   },
   {
    "duration": 6,
    "start_time": "2025-03-17T06:44:33.800Z"
   },
   {
    "duration": 14,
    "start_time": "2025-03-17T06:44:33.807Z"
   },
   {
    "duration": 36252,
    "start_time": "2025-03-17T06:44:33.823Z"
   },
   {
    "duration": 717,
    "start_time": "2025-03-17T06:45:10.077Z"
   },
   {
    "duration": 1914,
    "start_time": "2025-03-17T06:46:17.416Z"
   },
   {
    "duration": 2,
    "start_time": "2025-03-17T06:46:19.332Z"
   },
   {
    "duration": 5,
    "start_time": "2025-03-17T06:46:19.336Z"
   },
   {
    "duration": 39,
    "start_time": "2025-03-17T06:46:19.344Z"
   },
   {
    "duration": 42,
    "start_time": "2025-03-17T06:46:19.385Z"
   },
   {
    "duration": 39,
    "start_time": "2025-03-17T06:46:19.429Z"
   },
   {
    "duration": 9,
    "start_time": "2025-03-17T06:46:19.470Z"
   },
   {
    "duration": 809,
    "start_time": "2025-03-17T06:46:19.480Z"
   },
   {
    "duration": 4,
    "start_time": "2025-03-17T06:46:20.290Z"
   },
   {
    "duration": 4,
    "start_time": "2025-03-17T06:46:20.296Z"
   },
   {
    "duration": 4,
    "start_time": "2025-03-17T06:46:20.302Z"
   },
   {
    "duration": 20,
    "start_time": "2025-03-17T06:46:20.308Z"
   },
   {
    "duration": 197,
    "start_time": "2025-03-17T06:46:20.329Z"
   },
   {
    "duration": 7,
    "start_time": "2025-03-17T06:46:20.527Z"
   },
   {
    "duration": 7,
    "start_time": "2025-03-17T06:46:20.535Z"
   },
   {
    "duration": 169,
    "start_time": "2025-03-17T06:46:20.544Z"
   },
   {
    "duration": 0,
    "start_time": "2025-03-17T06:46:20.715Z"
   },
   {
    "duration": 0,
    "start_time": "2025-03-17T06:46:20.716Z"
   },
   {
    "duration": 0,
    "start_time": "2025-03-17T06:46:20.717Z"
   },
   {
    "duration": 0,
    "start_time": "2025-03-17T06:46:20.718Z"
   },
   {
    "duration": 0,
    "start_time": "2025-03-17T06:46:20.720Z"
   },
   {
    "duration": 0,
    "start_time": "2025-03-17T06:46:20.721Z"
   },
   {
    "duration": 0,
    "start_time": "2025-03-17T06:46:20.722Z"
   },
   {
    "duration": 0,
    "start_time": "2025-03-17T06:46:20.723Z"
   },
   {
    "duration": 0,
    "start_time": "2025-03-17T06:46:20.724Z"
   },
   {
    "duration": 0,
    "start_time": "2025-03-17T06:46:20.725Z"
   },
   {
    "duration": 2014,
    "start_time": "2025-03-17T06:47:32.096Z"
   },
   {
    "duration": 3,
    "start_time": "2025-03-17T06:47:34.111Z"
   },
   {
    "duration": 11,
    "start_time": "2025-03-17T06:47:34.115Z"
   },
   {
    "duration": 34,
    "start_time": "2025-03-17T06:47:34.127Z"
   },
   {
    "duration": 40,
    "start_time": "2025-03-17T06:47:34.163Z"
   },
   {
    "duration": 15,
    "start_time": "2025-03-17T06:47:34.204Z"
   },
   {
    "duration": 38,
    "start_time": "2025-03-17T06:47:34.220Z"
   },
   {
    "duration": 757,
    "start_time": "2025-03-17T06:47:34.259Z"
   },
   {
    "duration": 4,
    "start_time": "2025-03-17T06:47:35.018Z"
   },
   {
    "duration": 17,
    "start_time": "2025-03-17T06:47:35.024Z"
   },
   {
    "duration": 14,
    "start_time": "2025-03-17T06:47:35.043Z"
   },
   {
    "duration": 26,
    "start_time": "2025-03-17T06:47:35.058Z"
   },
   {
    "duration": 180,
    "start_time": "2025-03-17T06:47:35.085Z"
   },
   {
    "duration": 7,
    "start_time": "2025-03-17T06:47:35.267Z"
   },
   {
    "duration": 22,
    "start_time": "2025-03-17T06:47:35.275Z"
   },
   {
    "duration": 170,
    "start_time": "2025-03-17T06:47:35.298Z"
   },
   {
    "duration": 0,
    "start_time": "2025-03-17T06:47:35.470Z"
   },
   {
    "duration": 0,
    "start_time": "2025-03-17T06:47:35.471Z"
   },
   {
    "duration": 0,
    "start_time": "2025-03-17T06:47:35.472Z"
   },
   {
    "duration": 0,
    "start_time": "2025-03-17T06:47:35.473Z"
   },
   {
    "duration": 0,
    "start_time": "2025-03-17T06:47:35.474Z"
   },
   {
    "duration": 0,
    "start_time": "2025-03-17T06:47:35.474Z"
   },
   {
    "duration": 0,
    "start_time": "2025-03-17T06:47:35.476Z"
   },
   {
    "duration": 0,
    "start_time": "2025-03-17T06:47:35.477Z"
   },
   {
    "duration": 0,
    "start_time": "2025-03-17T06:47:35.478Z"
   },
   {
    "duration": 1,
    "start_time": "2025-03-17T06:47:35.479Z"
   },
   {
    "duration": 74,
    "start_time": "2025-03-17T06:48:13.113Z"
   },
   {
    "duration": 15,
    "start_time": "2025-03-17T06:48:40.895Z"
   },
   {
    "duration": 3,
    "start_time": "2025-03-17T06:49:11.333Z"
   },
   {
    "duration": 7,
    "start_time": "2025-03-17T06:49:20.796Z"
   },
   {
    "duration": 3,
    "start_time": "2025-03-17T06:49:21.005Z"
   },
   {
    "duration": 20,
    "start_time": "2025-03-17T06:49:21.178Z"
   },
   {
    "duration": 5,
    "start_time": "2025-03-17T06:49:24.663Z"
   },
   {
    "duration": 6,
    "start_time": "2025-03-17T06:49:24.922Z"
   },
   {
    "duration": 6,
    "start_time": "2025-03-17T06:49:25.027Z"
   },
   {
    "duration": 28077,
    "start_time": "2025-03-17T06:49:25.202Z"
   },
   {
    "duration": 80,
    "start_time": "2025-03-17T06:49:53.281Z"
   },
   {
    "duration": 688,
    "start_time": "2025-03-17T06:49:53.363Z"
   },
   {
    "duration": 6,
    "start_time": "2025-03-17T06:49:54.057Z"
   },
   {
    "duration": 95,
    "start_time": "2025-03-17T06:49:54.064Z"
   },
   {
    "duration": 37315,
    "start_time": "2025-03-17T06:49:54.161Z"
   },
   {
    "duration": 680,
    "start_time": "2025-03-17T06:50:31.478Z"
   },
   {
    "duration": 1936,
    "start_time": "2025-03-17T06:51:06.614Z"
   },
   {
    "duration": 3,
    "start_time": "2025-03-17T06:51:08.552Z"
   },
   {
    "duration": 5,
    "start_time": "2025-03-17T06:51:08.556Z"
   },
   {
    "duration": 54,
    "start_time": "2025-03-17T06:51:08.563Z"
   },
   {
    "duration": 47,
    "start_time": "2025-03-17T06:51:08.620Z"
   },
   {
    "duration": 16,
    "start_time": "2025-03-17T06:51:08.669Z"
   },
   {
    "duration": 12,
    "start_time": "2025-03-17T06:51:08.687Z"
   },
   {
    "duration": 819,
    "start_time": "2025-03-17T06:51:08.701Z"
   },
   {
    "duration": 5,
    "start_time": "2025-03-17T06:51:09.522Z"
   },
   {
    "duration": 5,
    "start_time": "2025-03-17T06:51:09.530Z"
   },
   {
    "duration": 4,
    "start_time": "2025-03-17T06:51:09.557Z"
   },
   {
    "duration": 7,
    "start_time": "2025-03-17T06:51:09.563Z"
   },
   {
    "duration": 198,
    "start_time": "2025-03-17T06:51:09.572Z"
   },
   {
    "duration": 6,
    "start_time": "2025-03-17T06:51:09.771Z"
   },
   {
    "duration": 21,
    "start_time": "2025-03-17T06:51:09.778Z"
   },
   {
    "duration": 25,
    "start_time": "2025-03-17T06:51:09.801Z"
   },
   {
    "duration": 48,
    "start_time": "2025-03-17T06:51:09.827Z"
   },
   {
    "duration": 49,
    "start_time": "2025-03-17T06:51:09.876Z"
   },
   {
    "duration": 14,
    "start_time": "2025-03-17T06:51:09.926Z"
   },
   {
    "duration": 34238,
    "start_time": "2025-03-17T06:51:09.941Z"
   },
   {
    "duration": 81,
    "start_time": "2025-03-17T06:51:44.180Z"
   },
   {
    "duration": 596,
    "start_time": "2025-03-17T06:51:44.262Z"
   },
   {
    "duration": 5,
    "start_time": "2025-03-17T06:51:44.861Z"
   },
   {
    "duration": 16,
    "start_time": "2025-03-17T06:51:44.867Z"
   },
   {
    "duration": 43980,
    "start_time": "2025-03-17T06:51:44.885Z"
   },
   {
    "duration": 594,
    "start_time": "2025-03-17T06:52:28.867Z"
   },
   {
    "duration": 1614,
    "start_time": "2025-03-17T20:13:00.478Z"
   },
   {
    "duration": 0,
    "start_time": "2025-03-17T20:13:02.095Z"
   },
   {
    "duration": 0,
    "start_time": "2025-03-17T20:13:02.096Z"
   },
   {
    "duration": 0,
    "start_time": "2025-03-17T20:13:02.098Z"
   },
   {
    "duration": 0,
    "start_time": "2025-03-17T20:13:02.099Z"
   },
   {
    "duration": 0,
    "start_time": "2025-03-17T20:13:02.101Z"
   },
   {
    "duration": 0,
    "start_time": "2025-03-17T20:13:02.102Z"
   },
   {
    "duration": 0,
    "start_time": "2025-03-17T20:13:02.103Z"
   },
   {
    "duration": 0,
    "start_time": "2025-03-17T20:13:02.104Z"
   },
   {
    "duration": 0,
    "start_time": "2025-03-17T20:13:02.105Z"
   },
   {
    "duration": 0,
    "start_time": "2025-03-17T20:13:02.107Z"
   },
   {
    "duration": 0,
    "start_time": "2025-03-17T20:13:02.107Z"
   },
   {
    "duration": 0,
    "start_time": "2025-03-17T20:13:02.109Z"
   },
   {
    "duration": 0,
    "start_time": "2025-03-17T20:13:02.109Z"
   },
   {
    "duration": 0,
    "start_time": "2025-03-17T20:13:02.111Z"
   },
   {
    "duration": 0,
    "start_time": "2025-03-17T20:13:02.112Z"
   },
   {
    "duration": 0,
    "start_time": "2025-03-17T20:13:02.114Z"
   },
   {
    "duration": 0,
    "start_time": "2025-03-17T20:13:02.115Z"
   },
   {
    "duration": 0,
    "start_time": "2025-03-17T20:13:02.116Z"
   },
   {
    "duration": 0,
    "start_time": "2025-03-17T20:13:02.117Z"
   },
   {
    "duration": 0,
    "start_time": "2025-03-17T20:13:02.118Z"
   },
   {
    "duration": 0,
    "start_time": "2025-03-17T20:13:02.119Z"
   },
   {
    "duration": 0,
    "start_time": "2025-03-17T20:13:02.120Z"
   },
   {
    "duration": 0,
    "start_time": "2025-03-17T20:13:02.121Z"
   },
   {
    "duration": 0,
    "start_time": "2025-03-17T20:13:02.122Z"
   },
   {
    "duration": 0,
    "start_time": "2025-03-17T20:13:02.124Z"
   },
   {
    "duration": 6215,
    "start_time": "2025-03-17T20:37:11.762Z"
   },
   {
    "duration": 292,
    "start_time": "2025-03-17T20:37:22.965Z"
   },
   {
    "duration": 2623,
    "start_time": "2025-03-17T20:37:41.304Z"
   },
   {
    "duration": 2358,
    "start_time": "2025-03-17T20:37:43.930Z"
   },
   {
    "duration": 2,
    "start_time": "2025-03-17T20:37:46.290Z"
   },
   {
    "duration": 77,
    "start_time": "2025-03-17T20:37:46.294Z"
   },
   {
    "duration": 57,
    "start_time": "2025-03-17T20:37:46.373Z"
   },
   {
    "duration": 35,
    "start_time": "2025-03-17T20:37:46.432Z"
   },
   {
    "duration": 11,
    "start_time": "2025-03-17T20:37:46.469Z"
   },
   {
    "duration": 10,
    "start_time": "2025-03-17T20:37:46.482Z"
   },
   {
    "duration": 868,
    "start_time": "2025-03-17T20:37:46.494Z"
   },
   {
    "duration": 4,
    "start_time": "2025-03-17T20:37:47.365Z"
   },
   {
    "duration": 9,
    "start_time": "2025-03-17T20:37:47.371Z"
   },
   {
    "duration": 32,
    "start_time": "2025-03-17T20:37:47.382Z"
   },
   {
    "duration": 36,
    "start_time": "2025-03-17T20:37:47.416Z"
   },
   {
    "duration": 355,
    "start_time": "2025-03-17T20:37:47.455Z"
   },
   {
    "duration": 7,
    "start_time": "2025-03-17T20:37:47.812Z"
   },
   {
    "duration": 104,
    "start_time": "2025-03-17T20:37:47.820Z"
   },
   {
    "duration": 182,
    "start_time": "2025-03-17T20:37:47.926Z"
   },
   {
    "duration": 0,
    "start_time": "2025-03-17T20:37:48.111Z"
   },
   {
    "duration": 0,
    "start_time": "2025-03-17T20:37:48.114Z"
   },
   {
    "duration": 0,
    "start_time": "2025-03-17T20:37:48.115Z"
   },
   {
    "duration": 0,
    "start_time": "2025-03-17T20:37:48.117Z"
   },
   {
    "duration": 0,
    "start_time": "2025-03-17T20:37:48.118Z"
   },
   {
    "duration": 0,
    "start_time": "2025-03-17T20:37:48.120Z"
   },
   {
    "duration": 0,
    "start_time": "2025-03-17T20:37:48.121Z"
   },
   {
    "duration": 0,
    "start_time": "2025-03-17T20:37:48.123Z"
   },
   {
    "duration": 0,
    "start_time": "2025-03-17T20:37:48.124Z"
   },
   {
    "duration": 0,
    "start_time": "2025-03-17T20:37:48.125Z"
   },
   {
    "duration": 19,
    "start_time": "2025-03-17T20:58:51.428Z"
   },
   {
    "duration": 4,
    "start_time": "2025-03-17T20:58:58.803Z"
   },
   {
    "duration": 5,
    "start_time": "2025-03-17T20:58:59.652Z"
   },
   {
    "duration": 4,
    "start_time": "2025-03-17T20:59:00.897Z"
   },
   {
    "duration": 46671,
    "start_time": "2025-03-17T21:02:59.891Z"
   },
   {
    "duration": 17,
    "start_time": "2025-03-17T21:03:46.565Z"
   },
   {
    "duration": 873,
    "start_time": "2025-03-17T21:03:46.584Z"
   },
   {
    "duration": 11,
    "start_time": "2025-03-17T21:05:33.772Z"
   },
   {
    "duration": 6,
    "start_time": "2025-03-17T21:05:34.780Z"
   },
   {
    "duration": 68681,
    "start_time": "2025-03-17T21:05:40.190Z"
   },
   {
    "duration": 717,
    "start_time": "2025-03-17T21:06:48.874Z"
   },
   {
    "duration": 2050,
    "start_time": "2025-03-18T00:38:38.947Z"
   },
   {
    "duration": 2,
    "start_time": "2025-03-18T00:38:40.999Z"
   },
   {
    "duration": 12,
    "start_time": "2025-03-18T00:38:41.002Z"
   },
   {
    "duration": 83,
    "start_time": "2025-03-18T00:38:41.016Z"
   },
   {
    "duration": 40,
    "start_time": "2025-03-18T00:38:41.101Z"
   },
   {
    "duration": 14,
    "start_time": "2025-03-18T00:38:41.143Z"
   },
   {
    "duration": 138,
    "start_time": "2025-03-18T00:38:41.158Z"
   },
   {
    "duration": 1,
    "start_time": "2025-03-18T00:38:41.298Z"
   },
   {
    "duration": 0,
    "start_time": "2025-03-18T00:38:41.300Z"
   },
   {
    "duration": 0,
    "start_time": "2025-03-18T00:38:41.301Z"
   },
   {
    "duration": 0,
    "start_time": "2025-03-18T00:38:41.302Z"
   },
   {
    "duration": 0,
    "start_time": "2025-03-18T00:38:41.303Z"
   },
   {
    "duration": 0,
    "start_time": "2025-03-18T00:38:41.304Z"
   },
   {
    "duration": 0,
    "start_time": "2025-03-18T00:38:41.305Z"
   },
   {
    "duration": 0,
    "start_time": "2025-03-18T00:38:41.306Z"
   },
   {
    "duration": 0,
    "start_time": "2025-03-18T00:38:41.307Z"
   },
   {
    "duration": 0,
    "start_time": "2025-03-18T00:38:41.308Z"
   },
   {
    "duration": 0,
    "start_time": "2025-03-18T00:38:41.309Z"
   },
   {
    "duration": 0,
    "start_time": "2025-03-18T00:38:41.310Z"
   },
   {
    "duration": 0,
    "start_time": "2025-03-18T00:38:41.312Z"
   },
   {
    "duration": 0,
    "start_time": "2025-03-18T00:38:41.313Z"
   },
   {
    "duration": 0,
    "start_time": "2025-03-18T00:38:41.314Z"
   },
   {
    "duration": 0,
    "start_time": "2025-03-18T00:38:41.315Z"
   },
   {
    "duration": 0,
    "start_time": "2025-03-18T00:38:41.316Z"
   },
   {
    "duration": 0,
    "start_time": "2025-03-18T00:38:41.318Z"
   },
   {
    "duration": 0,
    "start_time": "2025-03-18T00:38:41.319Z"
   },
   {
    "duration": 0,
    "start_time": "2025-03-18T00:38:41.320Z"
   },
   {
    "duration": 0,
    "start_time": "2025-03-18T00:38:41.322Z"
   },
   {
    "duration": 9,
    "start_time": "2025-03-18T00:38:58.272Z"
   },
   {
    "duration": 774,
    "start_time": "2025-03-18T00:38:58.706Z"
   },
   {
    "duration": 5,
    "start_time": "2025-03-18T00:38:59.482Z"
   },
   {
    "duration": 14,
    "start_time": "2025-03-18T00:38:59.488Z"
   },
   {
    "duration": 6,
    "start_time": "2025-03-18T00:38:59.504Z"
   },
   {
    "duration": 7,
    "start_time": "2025-03-18T00:38:59.511Z"
   },
   {
    "duration": 87,
    "start_time": "2025-03-18T00:38:59.633Z"
   },
   {
    "duration": 4,
    "start_time": "2025-03-18T00:39:10.198Z"
   },
   {
    "duration": 5,
    "start_time": "2025-03-18T00:39:10.444Z"
   },
   {
    "duration": 4,
    "start_time": "2025-03-18T00:39:10.842Z"
   },
   {
    "duration": 6,
    "start_time": "2025-03-18T00:39:13.310Z"
   },
   {
    "duration": 2,
    "start_time": "2025-03-18T00:41:02.918Z"
   },
   {
    "duration": 1914,
    "start_time": "2025-03-18T00:42:22.389Z"
   },
   {
    "duration": 2,
    "start_time": "2025-03-18T00:42:24.305Z"
   },
   {
    "duration": 12,
    "start_time": "2025-03-18T00:42:24.308Z"
   },
   {
    "duration": 35,
    "start_time": "2025-03-18T00:42:24.322Z"
   },
   {
    "duration": 39,
    "start_time": "2025-03-18T00:42:24.359Z"
   },
   {
    "duration": 14,
    "start_time": "2025-03-18T00:42:24.399Z"
   },
   {
    "duration": 8,
    "start_time": "2025-03-18T00:42:24.415Z"
   },
   {
    "duration": 782,
    "start_time": "2025-03-18T00:42:24.425Z"
   },
   {
    "duration": 5,
    "start_time": "2025-03-18T00:42:25.208Z"
   },
   {
    "duration": 20,
    "start_time": "2025-03-18T00:42:25.216Z"
   },
   {
    "duration": 40,
    "start_time": "2025-03-18T00:42:25.237Z"
   },
   {
    "duration": 30,
    "start_time": "2025-03-18T00:42:25.278Z"
   },
   {
    "duration": 18,
    "start_time": "2025-03-18T00:42:25.309Z"
   },
   {
    "duration": 60,
    "start_time": "2025-03-18T00:42:25.328Z"
   },
   {
    "duration": 0,
    "start_time": "2025-03-18T00:42:25.390Z"
   },
   {
    "duration": 0,
    "start_time": "2025-03-18T00:42:25.391Z"
   },
   {
    "duration": 0,
    "start_time": "2025-03-18T00:42:25.392Z"
   },
   {
    "duration": 0,
    "start_time": "2025-03-18T00:42:25.393Z"
   },
   {
    "duration": 0,
    "start_time": "2025-03-18T00:42:25.394Z"
   },
   {
    "duration": 0,
    "start_time": "2025-03-18T00:42:25.396Z"
   },
   {
    "duration": 0,
    "start_time": "2025-03-18T00:42:25.396Z"
   },
   {
    "duration": 0,
    "start_time": "2025-03-18T00:42:25.397Z"
   },
   {
    "duration": 0,
    "start_time": "2025-03-18T00:42:25.398Z"
   },
   {
    "duration": 0,
    "start_time": "2025-03-18T00:42:25.399Z"
   },
   {
    "duration": 0,
    "start_time": "2025-03-18T00:42:25.400Z"
   },
   {
    "duration": 0,
    "start_time": "2025-03-18T00:42:25.401Z"
   },
   {
    "duration": 0,
    "start_time": "2025-03-18T00:42:25.402Z"
   },
   {
    "duration": 0,
    "start_time": "2025-03-18T00:42:25.403Z"
   },
   {
    "duration": 0,
    "start_time": "2025-03-18T00:42:25.404Z"
   },
   {
    "duration": 0,
    "start_time": "2025-03-18T00:42:25.405Z"
   },
   {
    "duration": 83,
    "start_time": "2025-03-18T00:43:57.331Z"
   },
   {
    "duration": 83,
    "start_time": "2025-03-18T00:44:30.659Z"
   },
   {
    "duration": 14,
    "start_time": "2025-03-18T00:44:44.428Z"
   },
   {
    "duration": 12,
    "start_time": "2025-03-18T00:46:01.771Z"
   },
   {
    "duration": 1966,
    "start_time": "2025-03-18T00:47:15.252Z"
   },
   {
    "duration": 2,
    "start_time": "2025-03-18T00:47:17.220Z"
   },
   {
    "duration": 5,
    "start_time": "2025-03-18T00:47:17.224Z"
   },
   {
    "duration": 39,
    "start_time": "2025-03-18T00:47:17.231Z"
   },
   {
    "duration": 42,
    "start_time": "2025-03-18T00:47:17.272Z"
   },
   {
    "duration": 14,
    "start_time": "2025-03-18T00:47:17.316Z"
   },
   {
    "duration": 9,
    "start_time": "2025-03-18T00:47:17.331Z"
   },
   {
    "duration": 824,
    "start_time": "2025-03-18T00:47:17.341Z"
   },
   {
    "duration": 7,
    "start_time": "2025-03-18T00:47:18.167Z"
   },
   {
    "duration": 149,
    "start_time": "2025-03-18T00:47:18.176Z"
   },
   {
    "duration": 0,
    "start_time": "2025-03-18T00:47:18.326Z"
   },
   {
    "duration": 0,
    "start_time": "2025-03-18T00:47:18.328Z"
   },
   {
    "duration": 0,
    "start_time": "2025-03-18T00:47:18.329Z"
   },
   {
    "duration": 0,
    "start_time": "2025-03-18T00:47:18.330Z"
   },
   {
    "duration": 0,
    "start_time": "2025-03-18T00:47:18.331Z"
   },
   {
    "duration": 0,
    "start_time": "2025-03-18T00:47:18.332Z"
   },
   {
    "duration": 0,
    "start_time": "2025-03-18T00:47:18.333Z"
   },
   {
    "duration": 0,
    "start_time": "2025-03-18T00:47:18.334Z"
   },
   {
    "duration": 0,
    "start_time": "2025-03-18T00:47:18.335Z"
   },
   {
    "duration": 0,
    "start_time": "2025-03-18T00:47:18.336Z"
   },
   {
    "duration": 0,
    "start_time": "2025-03-18T00:47:18.337Z"
   },
   {
    "duration": 0,
    "start_time": "2025-03-18T00:47:18.338Z"
   },
   {
    "duration": 0,
    "start_time": "2025-03-18T00:47:18.339Z"
   },
   {
    "duration": 0,
    "start_time": "2025-03-18T00:47:18.340Z"
   },
   {
    "duration": 0,
    "start_time": "2025-03-18T00:47:18.341Z"
   },
   {
    "duration": 0,
    "start_time": "2025-03-18T00:47:18.342Z"
   },
   {
    "duration": 0,
    "start_time": "2025-03-18T00:47:18.374Z"
   },
   {
    "duration": 0,
    "start_time": "2025-03-18T00:47:18.375Z"
   },
   {
    "duration": 5,
    "start_time": "2025-03-18T00:47:49.091Z"
   },
   {
    "duration": 5,
    "start_time": "2025-03-18T00:47:50.466Z"
   },
   {
    "duration": 6,
    "start_time": "2025-03-18T00:47:51.596Z"
   },
   {
    "duration": 18,
    "start_time": "2025-03-18T00:48:12.711Z"
   },
   {
    "duration": 5,
    "start_time": "2025-03-18T01:00:23.223Z"
   },
   {
    "duration": 7,
    "start_time": "2025-03-18T01:00:35.650Z"
   },
   {
    "duration": 111,
    "start_time": "2025-03-18T01:01:20.423Z"
   },
   {
    "duration": 5,
    "start_time": "2025-03-18T01:01:25.581Z"
   },
   {
    "duration": 6,
    "start_time": "2025-03-18T01:01:26.651Z"
   },
   {
    "duration": 154,
    "start_time": "2025-03-18T01:01:43.387Z"
   },
   {
    "duration": 6,
    "start_time": "2025-03-18T01:02:53.954Z"
   },
   {
    "duration": 2,
    "start_time": "2025-03-18T01:02:54.167Z"
   },
   {
    "duration": 19,
    "start_time": "2025-03-18T01:02:54.362Z"
   },
   {
    "duration": 4,
    "start_time": "2025-03-18T01:02:55.872Z"
   },
   {
    "duration": 5,
    "start_time": "2025-03-18T01:02:56.018Z"
   },
   {
    "duration": 5,
    "start_time": "2025-03-18T01:02:56.197Z"
   },
   {
    "duration": 35113,
    "start_time": "2025-03-18T01:02:56.370Z"
   },
   {
    "duration": 5,
    "start_time": "2025-03-18T01:03:31.485Z"
   },
   {
    "duration": 682,
    "start_time": "2025-03-18T01:03:31.491Z"
   },
   {
    "duration": 5,
    "start_time": "2025-03-18T01:03:39.312Z"
   },
   {
    "duration": 4,
    "start_time": "2025-03-18T01:03:39.503Z"
   },
   {
    "duration": 45696,
    "start_time": "2025-03-18T01:03:39.702Z"
   },
   {
    "duration": 619,
    "start_time": "2025-03-18T01:04:25.475Z"
   },
   {
    "duration": 607,
    "start_time": "2025-03-18T01:07:59.950Z"
   },
   {
    "duration": 569,
    "start_time": "2025-03-18T01:08:46.863Z"
   },
   {
    "duration": 606,
    "start_time": "2025-03-18T01:09:24.602Z"
   },
   {
    "duration": 624,
    "start_time": "2025-03-18T01:09:32.369Z"
   },
   {
    "duration": 728,
    "start_time": "2025-03-18T01:09:43.871Z"
   },
   {
    "duration": 337,
    "start_time": "2025-03-18T01:10:21.951Z"
   },
   {
    "duration": 607,
    "start_time": "2025-03-18T01:11:56.857Z"
   },
   {
    "duration": 717,
    "start_time": "2025-03-18T01:13:03.800Z"
   },
   {
    "duration": 806,
    "start_time": "2025-03-18T01:13:40.760Z"
   },
   {
    "duration": 1890,
    "start_time": "2025-03-18T01:14:21.897Z"
   },
   {
    "duration": 2,
    "start_time": "2025-03-18T01:14:23.789Z"
   },
   {
    "duration": 4,
    "start_time": "2025-03-18T01:14:23.792Z"
   },
   {
    "duration": 45,
    "start_time": "2025-03-18T01:14:23.798Z"
   },
   {
    "duration": 40,
    "start_time": "2025-03-18T01:14:23.845Z"
   },
   {
    "duration": 26,
    "start_time": "2025-03-18T01:14:23.887Z"
   },
   {
    "duration": 12,
    "start_time": "2025-03-18T01:14:23.915Z"
   },
   {
    "duration": 818,
    "start_time": "2025-03-18T01:14:23.930Z"
   },
   {
    "duration": 4,
    "start_time": "2025-03-18T01:14:24.750Z"
   },
   {
    "duration": 20,
    "start_time": "2025-03-18T01:14:24.756Z"
   },
   {
    "duration": 11,
    "start_time": "2025-03-18T01:14:24.777Z"
   },
   {
    "duration": 7,
    "start_time": "2025-03-18T01:14:24.789Z"
   },
   {
    "duration": 12,
    "start_time": "2025-03-18T01:14:24.798Z"
   },
   {
    "duration": 4,
    "start_time": "2025-03-18T01:14:24.812Z"
   },
   {
    "duration": 14,
    "start_time": "2025-03-18T01:14:24.818Z"
   },
   {
    "duration": 161,
    "start_time": "2025-03-18T01:14:24.834Z"
   },
   {
    "duration": 5,
    "start_time": "2025-03-18T01:14:24.997Z"
   },
   {
    "duration": 9,
    "start_time": "2025-03-18T01:14:25.004Z"
   },
   {
    "duration": 18,
    "start_time": "2025-03-18T01:14:25.015Z"
   },
   {
    "duration": 4,
    "start_time": "2025-03-18T01:14:25.035Z"
   },
   {
    "duration": 5,
    "start_time": "2025-03-18T01:14:25.041Z"
   },
   {
    "duration": 30,
    "start_time": "2025-03-18T01:14:25.047Z"
   },
   {
    "duration": 35001,
    "start_time": "2025-03-18T01:14:25.079Z"
   },
   {
    "duration": 671,
    "start_time": "2025-03-18T01:15:00.082Z"
   },
   {
    "duration": 146,
    "start_time": "2025-03-18T01:15:00.754Z"
   },
   {
    "duration": 0,
    "start_time": "2025-03-18T01:15:00.902Z"
   },
   {
    "duration": 0,
    "start_time": "2025-03-18T01:15:00.903Z"
   },
   {
    "duration": 0,
    "start_time": "2025-03-18T01:15:00.905Z"
   },
   {
    "duration": 0,
    "start_time": "2025-03-18T01:15:00.906Z"
   },
   {
    "duration": 5,
    "start_time": "2025-03-18T01:15:18.646Z"
   },
   {
    "duration": 4,
    "start_time": "2025-03-18T01:15:18.853Z"
   },
   {
    "duration": 45270,
    "start_time": "2025-03-18T01:15:19.014Z"
   },
   {
    "duration": 851,
    "start_time": "2025-03-18T01:16:04.287Z"
   },
   {
    "duration": 774,
    "start_time": "2025-03-18T01:17:09.033Z"
   },
   {
    "duration": 718,
    "start_time": "2025-03-18T01:17:14.971Z"
   },
   {
    "duration": 1837,
    "start_time": "2025-03-18T01:18:25.103Z"
   },
   {
    "duration": 3,
    "start_time": "2025-03-18T01:18:26.942Z"
   },
   {
    "duration": 6,
    "start_time": "2025-03-18T01:18:26.946Z"
   },
   {
    "duration": 38,
    "start_time": "2025-03-18T01:18:26.954Z"
   },
   {
    "duration": 37,
    "start_time": "2025-03-18T01:18:26.994Z"
   },
   {
    "duration": 13,
    "start_time": "2025-03-18T01:18:27.033Z"
   },
   {
    "duration": 29,
    "start_time": "2025-03-18T01:18:27.047Z"
   },
   {
    "duration": 798,
    "start_time": "2025-03-18T01:18:27.078Z"
   },
   {
    "duration": 4,
    "start_time": "2025-03-18T01:18:27.877Z"
   },
   {
    "duration": 7,
    "start_time": "2025-03-18T01:18:27.884Z"
   },
   {
    "duration": 5,
    "start_time": "2025-03-18T01:18:27.893Z"
   },
   {
    "duration": 5,
    "start_time": "2025-03-18T01:18:27.900Z"
   },
   {
    "duration": 14,
    "start_time": "2025-03-18T01:18:27.906Z"
   },
   {
    "duration": 5,
    "start_time": "2025-03-18T01:18:27.922Z"
   },
   {
    "duration": 8,
    "start_time": "2025-03-18T01:18:27.928Z"
   },
   {
    "duration": 195,
    "start_time": "2025-03-18T01:18:27.938Z"
   },
   {
    "duration": 6,
    "start_time": "2025-03-18T01:18:28.135Z"
   },
   {
    "duration": 16,
    "start_time": "2025-03-18T01:18:28.142Z"
   },
   {
    "duration": 33,
    "start_time": "2025-03-18T01:18:28.159Z"
   },
   {
    "duration": 4,
    "start_time": "2025-03-18T01:18:28.193Z"
   },
   {
    "duration": 6,
    "start_time": "2025-03-18T01:18:28.198Z"
   },
   {
    "duration": 4,
    "start_time": "2025-03-18T01:18:28.206Z"
   },
   {
    "duration": 41472,
    "start_time": "2025-03-18T01:18:28.212Z"
   },
   {
    "duration": 676,
    "start_time": "2025-03-18T01:19:09.686Z"
   },
   {
    "duration": 9,
    "start_time": "2025-03-18T01:19:10.364Z"
   },
   {
    "duration": 4,
    "start_time": "2025-03-18T01:19:10.375Z"
   },
   {
    "duration": 55011,
    "start_time": "2025-03-18T01:19:10.382Z"
   },
   {
    "duration": 867,
    "start_time": "2025-03-18T01:20:05.396Z"
   },
   {
    "duration": 731,
    "start_time": "2025-03-18T01:20:33.242Z"
   },
   {
    "duration": 2018,
    "start_time": "2025-03-18T01:21:59.666Z"
   },
   {
    "duration": 3,
    "start_time": "2025-03-18T01:22:01.685Z"
   },
   {
    "duration": 12,
    "start_time": "2025-03-18T01:22:01.689Z"
   },
   {
    "duration": 79,
    "start_time": "2025-03-18T01:22:01.703Z"
   },
   {
    "duration": 100,
    "start_time": "2025-03-18T01:22:01.783Z"
   },
   {
    "duration": 15,
    "start_time": "2025-03-18T01:22:01.885Z"
   },
   {
    "duration": 74,
    "start_time": "2025-03-18T01:22:01.901Z"
   },
   {
    "duration": 1296,
    "start_time": "2025-03-18T01:22:01.977Z"
   },
   {
    "duration": 3,
    "start_time": "2025-03-18T01:22:03.275Z"
   },
   {
    "duration": 6,
    "start_time": "2025-03-18T01:22:03.281Z"
   },
   {
    "duration": 30,
    "start_time": "2025-03-18T01:22:03.289Z"
   },
   {
    "duration": 8,
    "start_time": "2025-03-18T01:22:03.320Z"
   },
   {
    "duration": 15,
    "start_time": "2025-03-18T01:22:03.329Z"
   },
   {
    "duration": 5,
    "start_time": "2025-03-18T01:22:03.345Z"
   },
   {
    "duration": 19,
    "start_time": "2025-03-18T01:22:03.351Z"
   },
   {
    "duration": 163,
    "start_time": "2025-03-18T01:22:03.372Z"
   },
   {
    "duration": 6,
    "start_time": "2025-03-18T01:22:03.536Z"
   },
   {
    "duration": 5,
    "start_time": "2025-03-18T01:22:03.544Z"
   },
   {
    "duration": 32,
    "start_time": "2025-03-18T01:22:03.551Z"
   },
   {
    "duration": 11,
    "start_time": "2025-03-18T01:22:03.584Z"
   },
   {
    "duration": 7,
    "start_time": "2025-03-18T01:22:03.597Z"
   },
   {
    "duration": 5,
    "start_time": "2025-03-18T01:22:03.605Z"
   },
   {
    "duration": 53368,
    "start_time": "2025-03-18T01:22:03.612Z"
   },
   {
    "duration": 665,
    "start_time": "2025-03-18T01:22:56.981Z"
   },
   {
    "duration": 5,
    "start_time": "2025-03-18T01:22:57.647Z"
   },
   {
    "duration": 19,
    "start_time": "2025-03-18T01:22:57.654Z"
   },
   {
    "duration": 69003,
    "start_time": "2025-03-18T01:22:57.675Z"
   },
   {
    "duration": 831,
    "start_time": "2025-03-18T01:24:06.681Z"
   },
   {
    "duration": 1867,
    "start_time": "2025-03-18T01:24:41.476Z"
   },
   {
    "duration": 3,
    "start_time": "2025-03-18T01:24:43.345Z"
   },
   {
    "duration": 4,
    "start_time": "2025-03-18T01:24:43.350Z"
   },
   {
    "duration": 41,
    "start_time": "2025-03-18T01:24:43.356Z"
   },
   {
    "duration": 38,
    "start_time": "2025-03-18T01:24:43.399Z"
   },
   {
    "duration": 13,
    "start_time": "2025-03-18T01:24:43.439Z"
   },
   {
    "duration": 26,
    "start_time": "2025-03-18T01:24:43.454Z"
   },
   {
    "duration": 820,
    "start_time": "2025-03-18T01:24:43.481Z"
   },
   {
    "duration": 5,
    "start_time": "2025-03-18T01:24:44.303Z"
   },
   {
    "duration": 4,
    "start_time": "2025-03-18T01:24:44.311Z"
   },
   {
    "duration": 6,
    "start_time": "2025-03-18T01:24:44.316Z"
   },
   {
    "duration": 6,
    "start_time": "2025-03-18T01:24:44.324Z"
   },
   {
    "duration": 14,
    "start_time": "2025-03-18T01:24:44.332Z"
   },
   {
    "duration": 6,
    "start_time": "2025-03-18T01:24:44.373Z"
   },
   {
    "duration": 7,
    "start_time": "2025-03-18T01:24:44.380Z"
   },
   {
    "duration": 155,
    "start_time": "2025-03-18T01:24:44.388Z"
   },
   {
    "duration": 5,
    "start_time": "2025-03-18T01:24:44.545Z"
   },
   {
    "duration": 35,
    "start_time": "2025-03-18T01:24:44.552Z"
   },
   {
    "duration": 17,
    "start_time": "2025-03-18T01:24:44.589Z"
   },
   {
    "duration": 3,
    "start_time": "2025-03-18T01:24:44.608Z"
   },
   {
    "duration": 4,
    "start_time": "2025-03-18T01:24:44.613Z"
   },
   {
    "duration": 5,
    "start_time": "2025-03-18T01:24:44.619Z"
   },
   {
    "duration": 52547,
    "start_time": "2025-03-18T01:24:44.626Z"
   },
   {
    "duration": 647,
    "start_time": "2025-03-18T01:25:37.175Z"
   },
   {
    "duration": 5,
    "start_time": "2025-03-18T01:25:37.823Z"
   },
   {
    "duration": 23,
    "start_time": "2025-03-18T01:25:37.830Z"
   },
   {
    "duration": 66734,
    "start_time": "2025-03-18T01:25:37.854Z"
   },
   {
    "duration": 877,
    "start_time": "2025-03-18T01:26:44.591Z"
   },
   {
    "duration": 1853,
    "start_time": "2025-03-18T01:27:19.653Z"
   },
   {
    "duration": 3,
    "start_time": "2025-03-18T01:27:21.508Z"
   },
   {
    "duration": 5,
    "start_time": "2025-03-18T01:27:21.512Z"
   },
   {
    "duration": 36,
    "start_time": "2025-03-18T01:27:21.519Z"
   },
   {
    "duration": 49,
    "start_time": "2025-03-18T01:27:21.557Z"
   },
   {
    "duration": 14,
    "start_time": "2025-03-18T01:27:21.608Z"
   },
   {
    "duration": 9,
    "start_time": "2025-03-18T01:27:21.623Z"
   },
   {
    "duration": 816,
    "start_time": "2025-03-18T01:27:21.633Z"
   },
   {
    "duration": 4,
    "start_time": "2025-03-18T01:27:22.451Z"
   },
   {
    "duration": 6,
    "start_time": "2025-03-18T01:27:22.473Z"
   },
   {
    "duration": 28,
    "start_time": "2025-03-18T01:27:22.481Z"
   },
   {
    "duration": 30,
    "start_time": "2025-03-18T01:27:22.511Z"
   },
   {
    "duration": 29,
    "start_time": "2025-03-18T01:27:22.543Z"
   },
   {
    "duration": 8,
    "start_time": "2025-03-18T01:27:22.574Z"
   },
   {
    "duration": 17,
    "start_time": "2025-03-18T01:27:22.584Z"
   },
   {
    "duration": 185,
    "start_time": "2025-03-18T01:27:22.603Z"
   },
   {
    "duration": 7,
    "start_time": "2025-03-18T01:27:22.791Z"
   },
   {
    "duration": 37,
    "start_time": "2025-03-18T01:27:22.799Z"
   },
   {
    "duration": 34,
    "start_time": "2025-03-18T01:27:22.838Z"
   },
   {
    "duration": 9,
    "start_time": "2025-03-18T01:27:22.873Z"
   },
   {
    "duration": 28,
    "start_time": "2025-03-18T01:27:22.883Z"
   },
   {
    "duration": 22,
    "start_time": "2025-03-18T01:27:22.913Z"
   },
   {
    "duration": 35048,
    "start_time": "2025-03-18T01:27:22.937Z"
   },
   {
    "duration": 675,
    "start_time": "2025-03-18T01:27:57.987Z"
   },
   {
    "duration": 13,
    "start_time": "2025-03-18T01:27:58.664Z"
   },
   {
    "duration": 6,
    "start_time": "2025-03-18T01:27:58.679Z"
   },
   {
    "duration": 45594,
    "start_time": "2025-03-18T01:27:58.687Z"
   },
   {
    "duration": 851,
    "start_time": "2025-03-18T01:28:44.284Z"
   },
   {
    "duration": 743,
    "start_time": "2025-03-18T01:30:54.492Z"
   },
   {
    "duration": 629,
    "start_time": "2025-03-18T01:31:00.375Z"
   },
   {
    "duration": 637,
    "start_time": "2025-03-18T01:31:04.808Z"
   },
   {
    "duration": 932,
    "start_time": "2025-03-18T01:31:19.955Z"
   },
   {
    "duration": 847,
    "start_time": "2025-03-18T01:31:32.538Z"
   },
   {
    "duration": 620,
    "start_time": "2025-03-18T01:32:12.329Z"
   },
   {
    "duration": 607,
    "start_time": "2025-03-18T01:32:23.789Z"
   },
   {
    "duration": 739,
    "start_time": "2025-03-18T01:33:31.186Z"
   },
   {
    "duration": 818,
    "start_time": "2025-03-18T01:34:46.270Z"
   },
   {
    "duration": 840,
    "start_time": "2025-03-18T01:35:48.554Z"
   },
   {
    "duration": 841,
    "start_time": "2025-03-18T01:36:18.093Z"
   },
   {
    "duration": 2197,
    "start_time": "2025-03-19T03:36:51.849Z"
   },
   {
    "duration": 3,
    "start_time": "2025-03-19T03:36:54.048Z"
   },
   {
    "duration": 15,
    "start_time": "2025-03-19T03:36:54.052Z"
   },
   {
    "duration": 44,
    "start_time": "2025-03-19T03:36:54.070Z"
   },
   {
    "duration": 40,
    "start_time": "2025-03-19T03:36:54.116Z"
   },
   {
    "duration": 22,
    "start_time": "2025-03-19T03:36:54.157Z"
   },
   {
    "duration": 19,
    "start_time": "2025-03-19T03:36:54.183Z"
   },
   {
    "duration": 851,
    "start_time": "2025-03-19T03:36:54.204Z"
   },
   {
    "duration": 10,
    "start_time": "2025-03-19T03:36:55.057Z"
   },
   {
    "duration": 9,
    "start_time": "2025-03-19T03:36:55.073Z"
   },
   {
    "duration": 4,
    "start_time": "2025-03-19T03:36:55.084Z"
   },
   {
    "duration": 22,
    "start_time": "2025-03-19T03:36:55.090Z"
   },
   {
    "duration": 31,
    "start_time": "2025-03-19T03:36:55.114Z"
   },
   {
    "duration": 5,
    "start_time": "2025-03-19T03:36:55.148Z"
   },
   {
    "duration": 7,
    "start_time": "2025-03-19T03:36:55.155Z"
   },
   {
    "duration": 165,
    "start_time": "2025-03-19T03:36:55.164Z"
   },
   {
    "duration": 151,
    "start_time": "2025-03-19T03:36:55.330Z"
   },
   {
    "duration": 0,
    "start_time": "2025-03-19T03:36:55.483Z"
   },
   {
    "duration": 0,
    "start_time": "2025-03-19T03:36:55.484Z"
   },
   {
    "duration": 0,
    "start_time": "2025-03-19T03:36:55.485Z"
   },
   {
    "duration": 0,
    "start_time": "2025-03-19T03:36:55.486Z"
   },
   {
    "duration": 0,
    "start_time": "2025-03-19T03:36:55.487Z"
   },
   {
    "duration": 0,
    "start_time": "2025-03-19T03:36:55.489Z"
   },
   {
    "duration": 0,
    "start_time": "2025-03-19T03:36:55.490Z"
   },
   {
    "duration": 0,
    "start_time": "2025-03-19T03:36:55.491Z"
   },
   {
    "duration": 0,
    "start_time": "2025-03-19T03:36:55.493Z"
   },
   {
    "duration": 0,
    "start_time": "2025-03-19T03:36:55.493Z"
   },
   {
    "duration": 0,
    "start_time": "2025-03-19T03:36:55.494Z"
   },
   {
    "duration": 0,
    "start_time": "2025-03-19T03:36:55.495Z"
   },
   {
    "duration": 0,
    "start_time": "2025-03-19T03:36:55.496Z"
   },
   {
    "duration": 2073,
    "start_time": "2025-03-19T03:37:23.771Z"
   },
   {
    "duration": 0,
    "start_time": "2025-03-19T03:37:25.846Z"
   },
   {
    "duration": 0,
    "start_time": "2025-03-19T03:37:25.848Z"
   },
   {
    "duration": 0,
    "start_time": "2025-03-19T03:37:25.849Z"
   },
   {
    "duration": 0,
    "start_time": "2025-03-19T03:37:25.853Z"
   },
   {
    "duration": 0,
    "start_time": "2025-03-19T03:37:25.854Z"
   },
   {
    "duration": 0,
    "start_time": "2025-03-19T03:37:25.868Z"
   },
   {
    "duration": 0,
    "start_time": "2025-03-19T03:37:25.870Z"
   },
   {
    "duration": 0,
    "start_time": "2025-03-19T03:37:25.871Z"
   },
   {
    "duration": 0,
    "start_time": "2025-03-19T03:37:25.872Z"
   },
   {
    "duration": 0,
    "start_time": "2025-03-19T03:37:25.874Z"
   },
   {
    "duration": 0,
    "start_time": "2025-03-19T03:37:25.875Z"
   },
   {
    "duration": 0,
    "start_time": "2025-03-19T03:37:25.878Z"
   },
   {
    "duration": 0,
    "start_time": "2025-03-19T03:37:25.881Z"
   },
   {
    "duration": 0,
    "start_time": "2025-03-19T03:37:25.883Z"
   },
   {
    "duration": 1,
    "start_time": "2025-03-19T03:37:25.884Z"
   },
   {
    "duration": 0,
    "start_time": "2025-03-19T03:37:25.886Z"
   },
   {
    "duration": 0,
    "start_time": "2025-03-19T03:37:25.887Z"
   },
   {
    "duration": 0,
    "start_time": "2025-03-19T03:37:25.888Z"
   },
   {
    "duration": 1,
    "start_time": "2025-03-19T03:37:25.889Z"
   },
   {
    "duration": 0,
    "start_time": "2025-03-19T03:37:25.890Z"
   },
   {
    "duration": 0,
    "start_time": "2025-03-19T03:37:25.891Z"
   },
   {
    "duration": 0,
    "start_time": "2025-03-19T03:37:25.893Z"
   },
   {
    "duration": 0,
    "start_time": "2025-03-19T03:37:25.894Z"
   },
   {
    "duration": 0,
    "start_time": "2025-03-19T03:37:25.895Z"
   },
   {
    "duration": 0,
    "start_time": "2025-03-19T03:37:25.896Z"
   },
   {
    "duration": 0,
    "start_time": "2025-03-19T03:37:25.897Z"
   },
   {
    "duration": 0,
    "start_time": "2025-03-19T03:37:25.898Z"
   },
   {
    "duration": 0,
    "start_time": "2025-03-19T03:37:25.899Z"
   },
   {
    "duration": 0,
    "start_time": "2025-03-19T03:37:25.900Z"
   },
   {
    "duration": 3607,
    "start_time": "2025-03-19T03:37:50.877Z"
   },
   {
    "duration": 38,
    "start_time": "2025-03-19T03:37:57.948Z"
   },
   {
    "duration": 2609,
    "start_time": "2025-03-19T03:38:05.589Z"
   },
   {
    "duration": 1994,
    "start_time": "2025-03-19T03:38:08.200Z"
   },
   {
    "duration": 3,
    "start_time": "2025-03-19T03:38:10.195Z"
   },
   {
    "duration": 4,
    "start_time": "2025-03-19T03:38:10.200Z"
   },
   {
    "duration": 48,
    "start_time": "2025-03-19T03:38:10.206Z"
   },
   {
    "duration": 46,
    "start_time": "2025-03-19T03:38:10.256Z"
   },
   {
    "duration": 15,
    "start_time": "2025-03-19T03:38:10.304Z"
   },
   {
    "duration": 9,
    "start_time": "2025-03-19T03:38:10.320Z"
   },
   {
    "duration": 877,
    "start_time": "2025-03-19T03:38:10.330Z"
   },
   {
    "duration": 4,
    "start_time": "2025-03-19T03:38:11.209Z"
   },
   {
    "duration": 5,
    "start_time": "2025-03-19T03:38:11.215Z"
   },
   {
    "duration": 8,
    "start_time": "2025-03-19T03:38:11.222Z"
   },
   {
    "duration": 6,
    "start_time": "2025-03-19T03:38:11.232Z"
   },
   {
    "duration": 39,
    "start_time": "2025-03-19T03:38:11.239Z"
   },
   {
    "duration": 6,
    "start_time": "2025-03-19T03:38:11.279Z"
   },
   {
    "duration": 9,
    "start_time": "2025-03-19T03:38:11.287Z"
   },
   {
    "duration": 169,
    "start_time": "2025-03-19T03:38:11.298Z"
   },
   {
    "duration": 839,
    "start_time": "2025-03-19T03:38:11.470Z"
   },
   {
    "duration": 146,
    "start_time": "2025-03-19T03:38:12.311Z"
   },
   {
    "duration": 0,
    "start_time": "2025-03-19T03:38:12.458Z"
   },
   {
    "duration": 0,
    "start_time": "2025-03-19T03:38:12.460Z"
   },
   {
    "duration": 0,
    "start_time": "2025-03-19T03:38:12.461Z"
   },
   {
    "duration": 0,
    "start_time": "2025-03-19T03:38:12.467Z"
   },
   {
    "duration": 0,
    "start_time": "2025-03-19T03:38:12.469Z"
   },
   {
    "duration": 0,
    "start_time": "2025-03-19T03:38:12.470Z"
   },
   {
    "duration": 0,
    "start_time": "2025-03-19T03:38:12.472Z"
   },
   {
    "duration": 0,
    "start_time": "2025-03-19T03:38:12.473Z"
   },
   {
    "duration": 0,
    "start_time": "2025-03-19T03:38:12.475Z"
   },
   {
    "duration": 0,
    "start_time": "2025-03-19T03:38:12.476Z"
   },
   {
    "duration": 0,
    "start_time": "2025-03-19T03:38:12.478Z"
   },
   {
    "duration": 0,
    "start_time": "2025-03-19T03:38:12.480Z"
   },
   {
    "duration": 747,
    "start_time": "2025-03-19T03:38:38.253Z"
   },
   {
    "duration": 10,
    "start_time": "2025-03-19T03:41:55.617Z"
   },
   {
    "duration": 416,
    "start_time": "2025-03-19T03:42:28.693Z"
   },
   {
    "duration": 125,
    "start_time": "2025-03-19T03:43:37.265Z"
   },
   {
    "duration": 289,
    "start_time": "2025-03-19T03:44:30.663Z"
   },
   {
    "duration": 315,
    "start_time": "2025-03-19T03:44:35.784Z"
   },
   {
    "duration": 319,
    "start_time": "2025-03-19T03:45:11.814Z"
   },
   {
    "duration": 307,
    "start_time": "2025-03-19T03:45:34.306Z"
   },
   {
    "duration": 357,
    "start_time": "2025-03-19T03:45:51.297Z"
   },
   {
    "duration": 314,
    "start_time": "2025-03-19T03:46:14.446Z"
   },
   {
    "duration": 315,
    "start_time": "2025-03-19T03:46:33.747Z"
   },
   {
    "duration": 414,
    "start_time": "2025-03-19T10:34:16.090Z"
   },
   {
    "duration": 629,
    "start_time": "2025-03-19T10:34:29.438Z"
   },
   {
    "duration": 1686,
    "start_time": "2025-03-19T10:34:49.470Z"
   },
   {
    "duration": 1468,
    "start_time": "2025-03-19T10:35:14.412Z"
   },
   {
    "duration": 1182,
    "start_time": "2025-03-19T10:35:23.824Z"
   },
   {
    "duration": 1721,
    "start_time": "2025-03-19T10:35:55.330Z"
   },
   {
    "duration": 1812,
    "start_time": "2025-03-19T10:37:10.836Z"
   },
   {
    "duration": 1728,
    "start_time": "2025-03-19T10:38:45.540Z"
   },
   {
    "duration": 1820,
    "start_time": "2025-03-19T10:39:15.018Z"
   },
   {
    "duration": 1954,
    "start_time": "2025-03-19T10:39:20.167Z"
   },
   {
    "duration": 2533,
    "start_time": "2025-03-19T10:43:59.837Z"
   },
   {
    "duration": 2166,
    "start_time": "2025-03-19T10:44:02.372Z"
   },
   {
    "duration": 3,
    "start_time": "2025-03-19T10:44:04.539Z"
   },
   {
    "duration": 4,
    "start_time": "2025-03-19T10:44:04.544Z"
   },
   {
    "duration": 35,
    "start_time": "2025-03-19T10:44:04.549Z"
   },
   {
    "duration": 44,
    "start_time": "2025-03-19T10:44:04.586Z"
   },
   {
    "duration": 41,
    "start_time": "2025-03-19T10:44:04.632Z"
   },
   {
    "duration": 36,
    "start_time": "2025-03-19T10:44:04.675Z"
   },
   {
    "duration": 786,
    "start_time": "2025-03-19T10:44:04.713Z"
   },
   {
    "duration": 4,
    "start_time": "2025-03-19T10:44:05.503Z"
   },
   {
    "duration": 29,
    "start_time": "2025-03-19T10:44:05.509Z"
   },
   {
    "duration": 16,
    "start_time": "2025-03-19T10:44:05.540Z"
   },
   {
    "duration": 37,
    "start_time": "2025-03-19T10:44:05.558Z"
   },
   {
    "duration": 34,
    "start_time": "2025-03-19T10:44:05.597Z"
   },
   {
    "duration": 29,
    "start_time": "2025-03-19T10:44:05.633Z"
   },
   {
    "duration": 19,
    "start_time": "2025-03-19T10:44:05.664Z"
   },
   {
    "duration": 183,
    "start_time": "2025-03-19T10:44:05.684Z"
   },
   {
    "duration": 792,
    "start_time": "2025-03-19T10:44:05.869Z"
   },
   {
    "duration": 10,
    "start_time": "2025-03-19T10:44:06.667Z"
   },
   {
    "duration": 1869,
    "start_time": "2025-03-19T10:44:06.679Z"
   },
   {
    "duration": 5,
    "start_time": "2025-03-19T10:44:08.550Z"
   },
   {
    "duration": 12,
    "start_time": "2025-03-19T10:44:08.557Z"
   },
   {
    "duration": 19,
    "start_time": "2025-03-19T10:44:08.571Z"
   },
   {
    "duration": 3,
    "start_time": "2025-03-19T10:44:08.592Z"
   },
   {
    "duration": 6,
    "start_time": "2025-03-19T10:44:08.597Z"
   },
   {
    "duration": 8,
    "start_time": "2025-03-19T10:44:08.605Z"
   },
   {
    "duration": 36368,
    "start_time": "2025-03-19T10:44:08.615Z"
   },
   {
    "duration": 717,
    "start_time": "2025-03-19T10:44:44.986Z"
   },
   {
    "duration": 5,
    "start_time": "2025-03-19T10:44:45.705Z"
   },
   {
    "duration": 14,
    "start_time": "2025-03-19T10:44:45.711Z"
   },
   {
    "duration": 49762,
    "start_time": "2025-03-19T10:44:45.727Z"
   },
   {
    "duration": 820,
    "start_time": "2025-03-19T10:45:35.491Z"
   },
   {
    "duration": 104,
    "start_time": "2025-03-19T11:12:15.842Z"
   },
   {
    "duration": 115,
    "start_time": "2025-03-19T11:12:29.197Z"
   },
   {
    "duration": 4,
    "start_time": "2025-03-19T11:14:21.528Z"
   },
   {
    "duration": 95,
    "start_time": "2025-03-19T11:14:37.692Z"
   },
   {
    "duration": 4,
    "start_time": "2025-03-19T11:14:51.345Z"
   },
   {
    "duration": 115,
    "start_time": "2025-03-19T11:15:03.711Z"
   },
   {
    "duration": 4,
    "start_time": "2025-03-19T11:15:21.885Z"
   },
   {
    "duration": 6,
    "start_time": "2025-03-19T11:15:37.579Z"
   },
   {
    "duration": 4,
    "start_time": "2025-03-19T11:15:51.990Z"
   },
   {
    "duration": 6,
    "start_time": "2025-03-19T11:16:24.554Z"
   },
   {
    "duration": 4,
    "start_time": "2025-03-19T11:16:24.726Z"
   },
   {
    "duration": 132,
    "start_time": "2025-03-19T11:16:27.184Z"
   },
   {
    "duration": 47616,
    "start_time": "2025-03-19T11:16:49.962Z"
   },
   {
    "duration": 7,
    "start_time": "2025-03-19T11:21:39.387Z"
   },
   {
    "duration": 4,
    "start_time": "2025-03-19T11:21:40.109Z"
   },
   {
    "duration": 98,
    "start_time": "2025-03-19T11:21:41.276Z"
   },
   {
    "duration": 118950,
    "start_time": "2025-03-19T11:22:01.627Z"
   },
   {
    "duration": 6,
    "start_time": "2025-03-19T11:25:21.977Z"
   },
   {
    "duration": 5,
    "start_time": "2025-03-19T11:25:24.163Z"
   },
   {
    "duration": 97,
    "start_time": "2025-03-19T11:25:39.129Z"
   },
   {
    "duration": 2562,
    "start_time": "2025-03-19T11:26:35.248Z"
   },
   {
    "duration": 1998,
    "start_time": "2025-03-19T11:26:37.812Z"
   },
   {
    "duration": 3,
    "start_time": "2025-03-19T11:26:39.812Z"
   },
   {
    "duration": 5,
    "start_time": "2025-03-19T11:26:39.816Z"
   },
   {
    "duration": 34,
    "start_time": "2025-03-19T11:26:39.822Z"
   },
   {
    "duration": 42,
    "start_time": "2025-03-19T11:26:39.858Z"
   },
   {
    "duration": 15,
    "start_time": "2025-03-19T11:26:39.902Z"
   },
   {
    "duration": 17,
    "start_time": "2025-03-19T11:26:39.918Z"
   },
   {
    "duration": 818,
    "start_time": "2025-03-19T11:26:39.936Z"
   },
   {
    "duration": 12,
    "start_time": "2025-03-19T11:26:40.756Z"
   },
   {
    "duration": 5,
    "start_time": "2025-03-19T11:26:40.769Z"
   },
   {
    "duration": 16,
    "start_time": "2025-03-19T11:26:40.775Z"
   },
   {
    "duration": 7,
    "start_time": "2025-03-19T11:26:40.793Z"
   },
   {
    "duration": 14,
    "start_time": "2025-03-19T11:26:40.803Z"
   },
   {
    "duration": 6,
    "start_time": "2025-03-19T11:26:40.818Z"
   },
   {
    "duration": 8,
    "start_time": "2025-03-19T11:26:40.825Z"
   },
   {
    "duration": 181,
    "start_time": "2025-03-19T11:26:40.834Z"
   },
   {
    "duration": 806,
    "start_time": "2025-03-19T11:26:41.017Z"
   },
   {
    "duration": 10,
    "start_time": "2025-03-19T11:26:41.825Z"
   },
   {
    "duration": 2127,
    "start_time": "2025-03-19T11:26:41.837Z"
   },
   {
    "duration": 6,
    "start_time": "2025-03-19T11:26:43.966Z"
   },
   {
    "duration": 6,
    "start_time": "2025-03-19T11:26:43.973Z"
   },
   {
    "duration": 19,
    "start_time": "2025-03-19T11:26:43.981Z"
   },
   {
    "duration": 4,
    "start_time": "2025-03-19T11:26:44.002Z"
   },
   {
    "duration": 11,
    "start_time": "2025-03-19T11:26:44.007Z"
   },
   {
    "duration": 5,
    "start_time": "2025-03-19T11:26:44.020Z"
   },
   {
    "duration": 35549,
    "start_time": "2025-03-19T11:26:44.026Z"
   },
   {
    "duration": 700,
    "start_time": "2025-03-19T11:27:19.577Z"
   },
   {
    "duration": 4,
    "start_time": "2025-03-19T11:27:20.279Z"
   },
   {
    "duration": 7,
    "start_time": "2025-03-19T11:27:20.284Z"
   },
   {
    "duration": 6,
    "start_time": "2025-03-19T11:27:20.293Z"
   },
   {
    "duration": 49286,
    "start_time": "2025-03-19T11:27:20.301Z"
   },
   {
    "duration": 806,
    "start_time": "2025-03-19T11:28:09.588Z"
   },
   {
    "duration": 7,
    "start_time": "2025-03-19T11:28:48.366Z"
   },
   {
    "duration": 5,
    "start_time": "2025-03-19T11:28:49.835Z"
   },
   {
    "duration": 49852,
    "start_time": "2025-03-19T11:28:52.229Z"
   },
   {
    "duration": 6,
    "start_time": "2025-03-19T11:30:25.846Z"
   },
   {
    "duration": 5,
    "start_time": "2025-03-19T11:30:26.096Z"
   },
   {
    "duration": 47719,
    "start_time": "2025-03-19T11:30:26.553Z"
   },
   {
    "duration": 918,
    "start_time": "2025-03-19T11:31:18.323Z"
   },
   {
    "duration": 2560,
    "start_time": "2025-03-19T11:33:28.936Z"
   },
   {
    "duration": 1968,
    "start_time": "2025-03-19T11:33:31.498Z"
   },
   {
    "duration": 3,
    "start_time": "2025-03-19T11:33:33.467Z"
   },
   {
    "duration": 18,
    "start_time": "2025-03-19T11:33:33.472Z"
   },
   {
    "duration": 57,
    "start_time": "2025-03-19T11:33:33.491Z"
   },
   {
    "duration": 42,
    "start_time": "2025-03-19T11:33:33.550Z"
   },
   {
    "duration": 14,
    "start_time": "2025-03-19T11:33:33.594Z"
   },
   {
    "duration": 9,
    "start_time": "2025-03-19T11:33:33.609Z"
   },
   {
    "duration": 866,
    "start_time": "2025-03-19T11:33:33.619Z"
   },
   {
    "duration": 4,
    "start_time": "2025-03-19T11:33:34.488Z"
   },
   {
    "duration": 17,
    "start_time": "2025-03-19T11:33:34.494Z"
   },
   {
    "duration": 22,
    "start_time": "2025-03-19T11:33:34.513Z"
   },
   {
    "duration": 6,
    "start_time": "2025-03-19T11:33:34.537Z"
   },
   {
    "duration": 50,
    "start_time": "2025-03-19T11:33:34.544Z"
   },
   {
    "duration": 5,
    "start_time": "2025-03-19T11:33:34.595Z"
   },
   {
    "duration": 18,
    "start_time": "2025-03-19T11:33:34.602Z"
   },
   {
    "duration": 178,
    "start_time": "2025-03-19T11:33:34.621Z"
   },
   {
    "duration": 821,
    "start_time": "2025-03-19T11:33:34.801Z"
   },
   {
    "duration": 10,
    "start_time": "2025-03-19T11:33:35.624Z"
   },
   {
    "duration": 2057,
    "start_time": "2025-03-19T11:33:35.635Z"
   },
   {
    "duration": 7,
    "start_time": "2025-03-19T11:33:37.694Z"
   },
   {
    "duration": 15,
    "start_time": "2025-03-19T11:33:37.702Z"
   },
   {
    "duration": 19,
    "start_time": "2025-03-19T11:33:37.718Z"
   },
   {
    "duration": 6,
    "start_time": "2025-03-19T11:33:37.739Z"
   },
   {
    "duration": 7,
    "start_time": "2025-03-19T11:33:37.747Z"
   },
   {
    "duration": 8,
    "start_time": "2025-03-19T11:33:37.755Z"
   },
   {
    "duration": 37722,
    "start_time": "2025-03-19T11:33:37.765Z"
   },
   {
    "duration": 670,
    "start_time": "2025-03-19T11:34:15.567Z"
   },
   {
    "duration": 6,
    "start_time": "2025-03-19T11:34:16.239Z"
   },
   {
    "duration": 70877,
    "start_time": "2025-03-19T11:34:16.247Z"
   },
   {
    "duration": 0,
    "start_time": "2025-03-19T11:35:27.126Z"
   },
   {
    "duration": 6,
    "start_time": "2025-03-19T11:35:41.769Z"
   },
   {
    "duration": 58191,
    "start_time": "2025-03-19T11:35:43.392Z"
   },
   {
    "duration": 194455,
    "start_time": "2025-03-19T11:36:46.134Z"
   },
   {
    "duration": 729,
    "start_time": "2025-03-19T11:40:15.141Z"
   },
   {
    "duration": 4298,
    "start_time": "2025-03-19T11:40:43.786Z"
   },
   {
    "duration": 2660,
    "start_time": "2025-03-19T11:41:08.038Z"
   },
   {
    "duration": 2030,
    "start_time": "2025-03-19T11:41:10.700Z"
   },
   {
    "duration": 3,
    "start_time": "2025-03-19T11:41:12.732Z"
   },
   {
    "duration": 7,
    "start_time": "2025-03-19T11:41:12.737Z"
   },
   {
    "duration": 45,
    "start_time": "2025-03-19T11:41:12.745Z"
   },
   {
    "duration": 44,
    "start_time": "2025-03-19T11:41:12.791Z"
   },
   {
    "duration": 32,
    "start_time": "2025-03-19T11:41:12.837Z"
   },
   {
    "duration": 10,
    "start_time": "2025-03-19T11:41:12.870Z"
   },
   {
    "duration": 840,
    "start_time": "2025-03-19T11:41:12.882Z"
   },
   {
    "duration": 5,
    "start_time": "2025-03-19T11:41:13.724Z"
   },
   {
    "duration": 6,
    "start_time": "2025-03-19T11:41:13.730Z"
   },
   {
    "duration": 10,
    "start_time": "2025-03-19T11:41:13.737Z"
   },
   {
    "duration": 23,
    "start_time": "2025-03-19T11:41:13.749Z"
   },
   {
    "duration": 16,
    "start_time": "2025-03-19T11:41:13.773Z"
   },
   {
    "duration": 11,
    "start_time": "2025-03-19T11:41:13.791Z"
   },
   {
    "duration": 11,
    "start_time": "2025-03-19T11:41:13.804Z"
   },
   {
    "duration": 174,
    "start_time": "2025-03-19T11:41:13.816Z"
   },
   {
    "duration": 799,
    "start_time": "2025-03-19T11:41:13.991Z"
   },
   {
    "duration": 10,
    "start_time": "2025-03-19T11:41:14.792Z"
   },
   {
    "duration": 1981,
    "start_time": "2025-03-19T11:41:14.803Z"
   },
   {
    "duration": 6,
    "start_time": "2025-03-19T11:41:16.786Z"
   },
   {
    "duration": 26,
    "start_time": "2025-03-19T11:41:16.794Z"
   },
   {
    "duration": 30,
    "start_time": "2025-03-19T11:41:16.822Z"
   },
   {
    "duration": 3,
    "start_time": "2025-03-19T11:41:16.854Z"
   },
   {
    "duration": 20,
    "start_time": "2025-03-19T11:41:16.859Z"
   },
   {
    "duration": 9,
    "start_time": "2025-03-19T11:41:16.881Z"
   },
   {
    "duration": 36695,
    "start_time": "2025-03-19T11:41:16.892Z"
   },
   {
    "duration": 710,
    "start_time": "2025-03-19T11:41:53.591Z"
   },
   {
    "duration": 6,
    "start_time": "2025-03-19T11:41:54.303Z"
   },
   {
    "duration": 85124,
    "start_time": "2025-03-19T11:41:54.311Z"
   },
   {
    "duration": 0,
    "start_time": "2025-03-19T11:43:19.437Z"
   },
   {
    "duration": 6,
    "start_time": "2025-03-19T11:43:41.144Z"
   },
   {
    "duration": 197603,
    "start_time": "2025-03-19T11:43:44.083Z"
   },
   {
    "duration": 752,
    "start_time": "2025-03-19T11:51:06.548Z"
   },
   {
    "duration": 6,
    "start_time": "2025-03-19T11:53:52.250Z"
   },
   {
    "duration": 5,
    "start_time": "2025-03-19T11:53:53.809Z"
   },
   {
    "duration": 3597,
    "start_time": "2025-03-19T11:53:54.887Z"
   },
   {
    "duration": 5,
    "start_time": "2025-03-19T11:54:31.134Z"
   },
   {
    "duration": 5,
    "start_time": "2025-03-19T11:54:33.412Z"
   },
   {
    "duration": 46788,
    "start_time": "2025-03-19T11:54:34.396Z"
   },
   {
    "duration": 826,
    "start_time": "2025-03-19T11:55:25.028Z"
   },
   {
    "duration": 6,
    "start_time": "2025-03-19T12:01:50.471Z"
   },
   {
    "duration": 6,
    "start_time": "2025-03-19T12:01:59.013Z"
   },
   {
    "duration": 48217,
    "start_time": "2025-03-19T12:02:09.655Z"
   },
   {
    "duration": 712,
    "start_time": "2025-03-19T12:03:20.992Z"
   },
   {
    "duration": 6,
    "start_time": "2025-03-19T12:03:57.308Z"
   },
   {
    "duration": 4,
    "start_time": "2025-03-19T12:03:58.244Z"
   },
   {
    "duration": 47768,
    "start_time": "2025-03-19T12:04:03.509Z"
   },
   {
    "duration": 720,
    "start_time": "2025-03-19T12:06:08.299Z"
   },
   {
    "duration": 4,
    "start_time": "2025-03-19T12:06:14.571Z"
   },
   {
    "duration": 49741,
    "start_time": "2025-03-19T12:06:15.228Z"
   },
   {
    "duration": 4,
    "start_time": "2025-03-19T12:07:09.101Z"
   },
   {
    "duration": 50440,
    "start_time": "2025-03-19T12:07:09.339Z"
   },
   {
    "duration": 768,
    "start_time": "2025-03-19T12:07:59.781Z"
   },
   {
    "duration": 5,
    "start_time": "2025-03-19T12:08:46.426Z"
   },
   {
    "duration": 48518,
    "start_time": "2025-03-19T12:08:46.663Z"
   },
   {
    "duration": 911,
    "start_time": "2025-03-19T12:09:35.183Z"
   },
   {
    "duration": 5,
    "start_time": "2025-03-19T12:12:09.423Z"
   },
   {
    "duration": 188041,
    "start_time": "2025-03-19T12:12:11.449Z"
   },
   {
    "duration": 2716,
    "start_time": "2025-03-19T12:15:55.322Z"
   },
   {
    "duration": 2123,
    "start_time": "2025-03-19T12:15:58.041Z"
   },
   {
    "duration": 3,
    "start_time": "2025-03-19T12:16:00.166Z"
   },
   {
    "duration": 29,
    "start_time": "2025-03-19T12:16:00.171Z"
   },
   {
    "duration": 55,
    "start_time": "2025-03-19T12:16:00.201Z"
   },
   {
    "duration": 50,
    "start_time": "2025-03-19T12:16:00.258Z"
   },
   {
    "duration": 15,
    "start_time": "2025-03-19T12:16:00.310Z"
   },
   {
    "duration": 57,
    "start_time": "2025-03-19T12:16:00.327Z"
   },
   {
    "duration": 914,
    "start_time": "2025-03-19T12:16:00.385Z"
   },
   {
    "duration": 5,
    "start_time": "2025-03-19T12:16:01.301Z"
   },
   {
    "duration": 23,
    "start_time": "2025-03-19T12:16:01.307Z"
   },
   {
    "duration": 16,
    "start_time": "2025-03-19T12:16:01.332Z"
   },
   {
    "duration": 42,
    "start_time": "2025-03-19T12:16:01.349Z"
   },
   {
    "duration": 20,
    "start_time": "2025-03-19T12:16:01.393Z"
   },
   {
    "duration": 5,
    "start_time": "2025-03-19T12:16:01.415Z"
   },
   {
    "duration": 7,
    "start_time": "2025-03-19T12:16:01.421Z"
   },
   {
    "duration": 198,
    "start_time": "2025-03-19T12:16:01.430Z"
   },
   {
    "duration": 884,
    "start_time": "2025-03-19T12:16:01.630Z"
   },
   {
    "duration": 10,
    "start_time": "2025-03-19T12:16:02.515Z"
   },
   {
    "duration": 2007,
    "start_time": "2025-03-19T12:16:02.526Z"
   },
   {
    "duration": 6,
    "start_time": "2025-03-19T12:16:04.535Z"
   },
   {
    "duration": 39,
    "start_time": "2025-03-19T12:16:04.542Z"
   },
   {
    "duration": 24,
    "start_time": "2025-03-19T12:16:04.582Z"
   },
   {
    "duration": 3,
    "start_time": "2025-03-19T12:16:04.607Z"
   },
   {
    "duration": 6,
    "start_time": "2025-03-19T12:16:04.612Z"
   },
   {
    "duration": 4,
    "start_time": "2025-03-19T12:16:04.620Z"
   },
   {
    "duration": 49652,
    "start_time": "2025-03-19T12:16:04.626Z"
   },
   {
    "duration": 744,
    "start_time": "2025-03-19T12:16:54.284Z"
   },
   {
    "duration": 6,
    "start_time": "2025-03-19T12:16:55.029Z"
   },
   {
    "duration": 95780,
    "start_time": "2025-03-19T12:16:55.037Z"
   },
   {
    "duration": 0,
    "start_time": "2025-03-19T12:18:30.819Z"
   },
   {
    "duration": 2509,
    "start_time": "2025-03-19T12:18:38.060Z"
   },
   {
    "duration": 2055,
    "start_time": "2025-03-19T12:18:40.572Z"
   },
   {
    "duration": 3,
    "start_time": "2025-03-19T12:18:42.629Z"
   },
   {
    "duration": 5,
    "start_time": "2025-03-19T12:18:42.633Z"
   },
   {
    "duration": 30,
    "start_time": "2025-03-19T12:18:42.641Z"
   },
   {
    "duration": 42,
    "start_time": "2025-03-19T12:18:42.673Z"
   },
   {
    "duration": 16,
    "start_time": "2025-03-19T12:18:42.717Z"
   },
   {
    "duration": 34,
    "start_time": "2025-03-19T12:18:42.735Z"
   },
   {
    "duration": 826,
    "start_time": "2025-03-19T12:18:42.771Z"
   },
   {
    "duration": 5,
    "start_time": "2025-03-19T12:18:43.598Z"
   },
   {
    "duration": 5,
    "start_time": "2025-03-19T12:18:43.604Z"
   },
   {
    "duration": 4,
    "start_time": "2025-03-19T12:18:43.611Z"
   },
   {
    "duration": 6,
    "start_time": "2025-03-19T12:18:43.617Z"
   },
   {
    "duration": 43,
    "start_time": "2025-03-19T12:18:43.625Z"
   },
   {
    "duration": 5,
    "start_time": "2025-03-19T12:18:43.670Z"
   },
   {
    "duration": 12,
    "start_time": "2025-03-19T12:18:43.677Z"
   },
   {
    "duration": 167,
    "start_time": "2025-03-19T12:18:43.691Z"
   },
   {
    "duration": 809,
    "start_time": "2025-03-19T12:18:43.859Z"
   },
   {
    "duration": 9,
    "start_time": "2025-03-19T12:18:44.670Z"
   },
   {
    "duration": 1883,
    "start_time": "2025-03-19T12:18:44.681Z"
   },
   {
    "duration": 7,
    "start_time": "2025-03-19T12:18:46.566Z"
   },
   {
    "duration": 8,
    "start_time": "2025-03-19T12:18:46.574Z"
   },
   {
    "duration": 19,
    "start_time": "2025-03-19T12:18:46.584Z"
   },
   {
    "duration": 6,
    "start_time": "2025-03-19T12:18:46.604Z"
   },
   {
    "duration": 6,
    "start_time": "2025-03-19T12:18:46.611Z"
   },
   {
    "duration": 6,
    "start_time": "2025-03-19T12:18:46.618Z"
   },
   {
    "duration": 36848,
    "start_time": "2025-03-19T12:18:46.625Z"
   },
   {
    "duration": 689,
    "start_time": "2025-03-19T12:19:23.476Z"
   },
   {
    "duration": 12,
    "start_time": "2025-03-19T12:19:24.169Z"
   },
   {
    "duration": 247394,
    "start_time": "2025-03-19T12:19:24.182Z"
   },
   {
    "duration": 792,
    "start_time": "2025-03-19T12:23:31.578Z"
   },
   {
    "duration": 3266,
    "start_time": "2025-03-20T04:46:07.504Z"
   },
   {
    "duration": 1833,
    "start_time": "2025-03-20T04:46:10.772Z"
   },
   {
    "duration": 2,
    "start_time": "2025-03-20T04:46:12.606Z"
   },
   {
    "duration": 6,
    "start_time": "2025-03-20T04:46:12.610Z"
   },
   {
    "duration": 39,
    "start_time": "2025-03-20T04:46:12.617Z"
   },
   {
    "duration": 35,
    "start_time": "2025-03-20T04:46:12.657Z"
   },
   {
    "duration": 12,
    "start_time": "2025-03-20T04:46:12.693Z"
   },
   {
    "duration": 7,
    "start_time": "2025-03-20T04:46:12.706Z"
   },
   {
    "duration": 623,
    "start_time": "2025-03-20T04:46:12.715Z"
   },
   {
    "duration": 3,
    "start_time": "2025-03-20T04:46:13.340Z"
   },
   {
    "duration": 12,
    "start_time": "2025-03-20T04:46:13.344Z"
   },
   {
    "duration": 9,
    "start_time": "2025-03-20T04:46:13.357Z"
   },
   {
    "duration": 5,
    "start_time": "2025-03-20T04:46:13.367Z"
   },
   {
    "duration": 14,
    "start_time": "2025-03-20T04:46:13.374Z"
   },
   {
    "duration": 4,
    "start_time": "2025-03-20T04:46:13.389Z"
   },
   {
    "duration": 7,
    "start_time": "2025-03-20T04:46:13.395Z"
   },
   {
    "duration": 134,
    "start_time": "2025-03-20T04:46:13.403Z"
   },
   {
    "duration": 661,
    "start_time": "2025-03-20T04:46:13.538Z"
   },
   {
    "duration": 7,
    "start_time": "2025-03-20T04:46:14.200Z"
   },
   {
    "duration": 1440,
    "start_time": "2025-03-20T04:46:14.208Z"
   },
   {
    "duration": 8,
    "start_time": "2025-03-20T04:46:15.650Z"
   },
   {
    "duration": 4,
    "start_time": "2025-03-20T04:46:15.659Z"
   },
   {
    "duration": 16,
    "start_time": "2025-03-20T04:46:15.664Z"
   },
   {
    "duration": 3,
    "start_time": "2025-03-20T04:46:15.681Z"
   },
   {
    "duration": 5,
    "start_time": "2025-03-20T04:46:15.685Z"
   },
   {
    "duration": 6,
    "start_time": "2025-03-20T04:46:15.691Z"
   },
   {
    "duration": 23072,
    "start_time": "2025-03-20T04:46:15.698Z"
   },
   {
    "duration": 534,
    "start_time": "2025-03-20T04:46:38.774Z"
   },
   {
    "duration": 5,
    "start_time": "2025-03-20T04:46:39.310Z"
   },
   {
    "duration": 125051,
    "start_time": "2025-03-20T04:46:39.316Z"
   },
   {
    "duration": 603,
    "start_time": "2025-03-20T04:48:44.369Z"
   },
   {
    "duration": 783574,
    "start_time": "2025-03-20T04:58:08.901Z"
   },
   {
    "duration": 2350,
    "start_time": "2025-03-20T05:12:35.476Z"
   },
   {
    "duration": 1605,
    "start_time": "2025-03-20T05:12:37.827Z"
   },
   {
    "duration": 3,
    "start_time": "2025-03-20T05:12:39.433Z"
   },
   {
    "duration": 9,
    "start_time": "2025-03-20T05:12:39.437Z"
   },
   {
    "duration": 40,
    "start_time": "2025-03-20T05:12:39.447Z"
   },
   {
    "duration": 30,
    "start_time": "2025-03-20T05:12:39.488Z"
   },
   {
    "duration": 11,
    "start_time": "2025-03-20T05:12:39.519Z"
   },
   {
    "duration": 67,
    "start_time": "2025-03-20T05:12:39.532Z"
   },
   {
    "duration": 614,
    "start_time": "2025-03-20T05:12:39.600Z"
   },
   {
    "duration": 4,
    "start_time": "2025-03-20T05:12:40.216Z"
   },
   {
    "duration": 5,
    "start_time": "2025-03-20T05:12:40.221Z"
   },
   {
    "duration": 146,
    "start_time": "2025-03-20T05:12:40.227Z"
   },
   {
    "duration": 7,
    "start_time": "2025-03-20T05:12:40.374Z"
   },
   {
    "duration": 22,
    "start_time": "2025-03-20T05:12:40.382Z"
   },
   {
    "duration": 4,
    "start_time": "2025-03-20T05:12:40.406Z"
   },
   {
    "duration": 8,
    "start_time": "2025-03-20T05:12:40.412Z"
   },
   {
    "duration": 123,
    "start_time": "2025-03-20T05:12:40.421Z"
   },
   {
    "duration": 638,
    "start_time": "2025-03-20T05:12:40.546Z"
   },
   {
    "duration": 7,
    "start_time": "2025-03-20T05:12:41.186Z"
   },
   {
    "duration": 1418,
    "start_time": "2025-03-20T05:12:41.194Z"
   },
   {
    "duration": 6,
    "start_time": "2025-03-20T05:12:42.614Z"
   },
   {
    "duration": 6,
    "start_time": "2025-03-20T05:12:42.621Z"
   },
   {
    "duration": 15,
    "start_time": "2025-03-20T05:12:42.628Z"
   },
   {
    "duration": 12,
    "start_time": "2025-03-20T05:12:42.644Z"
   },
   {
    "duration": 4,
    "start_time": "2025-03-20T05:12:42.657Z"
   },
   {
    "duration": 15,
    "start_time": "2025-03-20T05:12:42.662Z"
   },
   {
    "duration": 24297,
    "start_time": "2025-03-20T05:12:42.678Z"
   },
   {
    "duration": 550,
    "start_time": "2025-03-20T05:13:06.979Z"
   },
   {
    "duration": 4,
    "start_time": "2025-03-20T05:13:07.530Z"
   },
   {
    "duration": 126331,
    "start_time": "2025-03-20T05:13:07.535Z"
   },
   {
    "duration": 225558,
    "start_time": "2025-03-20T05:17:51.405Z"
   },
   {
    "duration": 6,
    "start_time": "2025-03-20T05:23:12.426Z"
   },
   {
    "duration": 527,
    "start_time": "2025-03-20T05:23:18.782Z"
   },
   {
    "duration": 2430,
    "start_time": "2025-03-20T05:27:42.799Z"
   },
   {
    "duration": 1720,
    "start_time": "2025-03-20T05:27:45.231Z"
   },
   {
    "duration": 2,
    "start_time": "2025-03-20T05:27:46.953Z"
   },
   {
    "duration": 7,
    "start_time": "2025-03-20T05:27:46.956Z"
   },
   {
    "duration": 46,
    "start_time": "2025-03-20T05:27:46.964Z"
   },
   {
    "duration": 30,
    "start_time": "2025-03-20T05:27:47.012Z"
   },
   {
    "duration": 11,
    "start_time": "2025-03-20T05:27:47.043Z"
   },
   {
    "duration": 7,
    "start_time": "2025-03-20T05:27:47.055Z"
   },
   {
    "duration": 613,
    "start_time": "2025-03-20T05:27:47.063Z"
   },
   {
    "duration": 3,
    "start_time": "2025-03-20T05:27:47.678Z"
   },
   {
    "duration": 4,
    "start_time": "2025-03-20T05:27:47.682Z"
   },
   {
    "duration": 12,
    "start_time": "2025-03-20T05:27:47.687Z"
   },
   {
    "duration": 5,
    "start_time": "2025-03-20T05:27:47.700Z"
   },
   {
    "duration": 11,
    "start_time": "2025-03-20T05:27:47.707Z"
   },
   {
    "duration": 4,
    "start_time": "2025-03-20T05:27:47.719Z"
   },
   {
    "duration": 4,
    "start_time": "2025-03-20T05:27:47.724Z"
   },
   {
    "duration": 141,
    "start_time": "2025-03-20T05:27:47.729Z"
   },
   {
    "duration": 600,
    "start_time": "2025-03-20T05:27:47.871Z"
   },
   {
    "duration": 8,
    "start_time": "2025-03-20T05:27:48.473Z"
   },
   {
    "duration": 1426,
    "start_time": "2025-03-20T05:27:48.482Z"
   },
   {
    "duration": 7,
    "start_time": "2025-03-20T05:27:49.910Z"
   },
   {
    "duration": 18,
    "start_time": "2025-03-20T05:27:49.918Z"
   },
   {
    "duration": 26,
    "start_time": "2025-03-20T05:27:49.937Z"
   },
   {
    "duration": 4,
    "start_time": "2025-03-20T05:27:49.965Z"
   },
   {
    "duration": 4,
    "start_time": "2025-03-20T05:27:49.970Z"
   },
   {
    "duration": 4,
    "start_time": "2025-03-20T05:27:49.976Z"
   },
   {
    "duration": 24093,
    "start_time": "2025-03-20T05:27:49.981Z"
   },
   {
    "duration": 557,
    "start_time": "2025-03-20T05:28:14.076Z"
   },
   {
    "duration": 6,
    "start_time": "2025-03-20T05:28:14.635Z"
   },
   {
    "duration": 130927,
    "start_time": "2025-03-20T05:28:14.643Z"
   },
   {
    "duration": 229896,
    "start_time": "2025-03-20T05:30:25.571Z"
   },
   {
    "duration": 594,
    "start_time": "2025-03-20T05:34:15.469Z"
   },
   {
    "duration": 31656,
    "start_time": "2025-03-20T05:36:19.510Z"
   },
   {
    "duration": 32499,
    "start_time": "2025-03-20T05:37:51.579Z"
   },
   {
    "duration": 631,
    "start_time": "2025-03-20T05:39:14.093Z"
   },
   {
    "duration": 2444,
    "start_time": "2025-03-20T05:40:54.846Z"
   },
   {
    "duration": 1606,
    "start_time": "2025-03-20T05:40:57.292Z"
   },
   {
    "duration": 2,
    "start_time": "2025-03-20T05:40:58.900Z"
   },
   {
    "duration": 4,
    "start_time": "2025-03-20T05:40:58.904Z"
   },
   {
    "duration": 40,
    "start_time": "2025-03-20T05:40:58.909Z"
   },
   {
    "duration": 31,
    "start_time": "2025-03-20T05:40:58.950Z"
   },
   {
    "duration": 10,
    "start_time": "2025-03-20T05:40:58.982Z"
   },
   {
    "duration": 6,
    "start_time": "2025-03-20T05:40:58.994Z"
   },
   {
    "duration": 617,
    "start_time": "2025-03-20T05:40:59.001Z"
   },
   {
    "duration": 3,
    "start_time": "2025-03-20T05:40:59.620Z"
   },
   {
    "duration": 47,
    "start_time": "2025-03-20T05:40:59.625Z"
   },
   {
    "duration": 12,
    "start_time": "2025-03-20T05:40:59.674Z"
   },
   {
    "duration": 11,
    "start_time": "2025-03-20T05:40:59.687Z"
   },
   {
    "duration": 23,
    "start_time": "2025-03-20T05:40:59.699Z"
   },
   {
    "duration": 4,
    "start_time": "2025-03-20T05:40:59.723Z"
   },
   {
    "duration": 6,
    "start_time": "2025-03-20T05:40:59.728Z"
   },
   {
    "duration": 123,
    "start_time": "2025-03-20T05:40:59.735Z"
   },
   {
    "duration": 616,
    "start_time": "2025-03-20T05:40:59.860Z"
   },
   {
    "duration": 8,
    "start_time": "2025-03-20T05:41:00.477Z"
   },
   {
    "duration": 1478,
    "start_time": "2025-03-20T05:41:00.486Z"
   },
   {
    "duration": 7,
    "start_time": "2025-03-20T05:41:01.966Z"
   },
   {
    "duration": 27,
    "start_time": "2025-03-20T05:41:01.975Z"
   },
   {
    "duration": 21,
    "start_time": "2025-03-20T05:41:02.004Z"
   },
   {
    "duration": 6,
    "start_time": "2025-03-20T05:41:02.026Z"
   },
   {
    "duration": 26,
    "start_time": "2025-03-20T05:41:02.034Z"
   },
   {
    "duration": 32,
    "start_time": "2025-03-20T05:41:02.062Z"
   },
   {
    "duration": 24360,
    "start_time": "2025-03-20T05:41:02.096Z"
   },
   {
    "duration": 499,
    "start_time": "2025-03-20T05:41:26.458Z"
   },
   {
    "duration": 5,
    "start_time": "2025-03-20T05:41:26.958Z"
   },
   {
    "duration": 129407,
    "start_time": "2025-03-20T05:41:26.964Z"
   },
   {
    "duration": 233300,
    "start_time": "2025-03-20T05:43:36.373Z"
   },
   {
    "duration": 32783,
    "start_time": "2025-03-20T05:47:29.674Z"
   },
   {
    "duration": 559,
    "start_time": "2025-03-20T05:48:02.459Z"
   },
   {
    "duration": 32592,
    "start_time": "2025-03-20T05:49:44.477Z"
   },
   {
    "duration": 637,
    "start_time": "2025-03-20T05:50:38.197Z"
   },
   {
    "duration": 32241,
    "start_time": "2025-03-20T05:50:43.115Z"
   },
   {
    "duration": 32892,
    "start_time": "2025-03-20T05:51:24.073Z"
   },
   {
    "duration": 549,
    "start_time": "2025-03-20T05:52:01.092Z"
   },
   {
    "duration": 52306,
    "start_time": "2025-03-20T05:52:23.253Z"
   },
   {
    "duration": 562,
    "start_time": "2025-03-20T05:53:28.986Z"
   },
   {
    "duration": 2495,
    "start_time": "2025-03-20T05:54:10.558Z"
   },
   {
    "duration": 1715,
    "start_time": "2025-03-20T05:54:13.056Z"
   },
   {
    "duration": 3,
    "start_time": "2025-03-20T05:54:14.773Z"
   },
   {
    "duration": 10,
    "start_time": "2025-03-20T05:54:14.778Z"
   },
   {
    "duration": 47,
    "start_time": "2025-03-20T05:54:14.789Z"
   },
   {
    "duration": 36,
    "start_time": "2025-03-20T05:54:14.837Z"
   },
   {
    "duration": 11,
    "start_time": "2025-03-20T05:54:14.874Z"
   },
   {
    "duration": 7,
    "start_time": "2025-03-20T05:54:14.887Z"
   },
   {
    "duration": 666,
    "start_time": "2025-03-20T05:54:14.895Z"
   },
   {
    "duration": 4,
    "start_time": "2025-03-20T05:54:15.564Z"
   },
   {
    "duration": 30,
    "start_time": "2025-03-20T05:54:15.570Z"
   },
   {
    "duration": 9,
    "start_time": "2025-03-20T05:54:15.601Z"
   },
   {
    "duration": 17,
    "start_time": "2025-03-20T05:54:15.611Z"
   },
   {
    "duration": 37,
    "start_time": "2025-03-20T05:54:15.629Z"
   },
   {
    "duration": 37,
    "start_time": "2025-03-20T05:54:15.667Z"
   },
   {
    "duration": 37,
    "start_time": "2025-03-20T05:54:15.705Z"
   },
   {
    "duration": 149,
    "start_time": "2025-03-20T05:54:15.743Z"
   },
   {
    "duration": 690,
    "start_time": "2025-03-20T05:54:15.894Z"
   },
   {
    "duration": 7,
    "start_time": "2025-03-20T05:54:16.585Z"
   },
   {
    "duration": 1559,
    "start_time": "2025-03-20T05:54:16.593Z"
   },
   {
    "duration": 7,
    "start_time": "2025-03-20T05:54:18.154Z"
   },
   {
    "duration": 3,
    "start_time": "2025-03-20T05:54:18.162Z"
   },
   {
    "duration": 24,
    "start_time": "2025-03-20T05:54:18.166Z"
   },
   {
    "duration": 4,
    "start_time": "2025-03-20T05:54:18.191Z"
   },
   {
    "duration": 5,
    "start_time": "2025-03-20T05:54:18.196Z"
   },
   {
    "duration": 5,
    "start_time": "2025-03-20T05:54:18.202Z"
   },
   {
    "duration": 37472,
    "start_time": "2025-03-20T05:54:18.209Z"
   },
   {
    "duration": 527,
    "start_time": "2025-03-20T05:54:55.755Z"
   },
   {
    "duration": 4,
    "start_time": "2025-03-20T05:54:56.284Z"
   },
   {
    "duration": 199783,
    "start_time": "2025-03-20T05:54:56.289Z"
   },
   {
    "duration": 278382,
    "start_time": "2025-03-20T05:58:16.075Z"
   },
   {
    "duration": 34002,
    "start_time": "2025-03-20T06:02:54.458Z"
   },
   {
    "duration": 580,
    "start_time": "2025-03-20T06:03:28.462Z"
   },
   {
    "duration": 35923,
    "start_time": "2025-03-20T06:05:17.433Z"
   },
   {
    "duration": 670,
    "start_time": "2025-03-20T06:06:00.327Z"
   },
   {
    "duration": 35391,
    "start_time": "2025-03-20T06:06:14.566Z"
   },
   {
    "duration": 569,
    "start_time": "2025-03-20T06:06:49.961Z"
   },
   {
    "duration": 544,
    "start_time": "2025-03-20T06:06:54.034Z"
   },
   {
    "duration": 2462,
    "start_time": "2025-03-20T06:54:43.766Z"
   },
   {
    "duration": 1731,
    "start_time": "2025-03-20T06:54:46.230Z"
   },
   {
    "duration": 2,
    "start_time": "2025-03-20T06:54:47.962Z"
   },
   {
    "duration": 10,
    "start_time": "2025-03-20T06:54:47.966Z"
   },
   {
    "duration": 47,
    "start_time": "2025-03-20T06:54:47.977Z"
   },
   {
    "duration": 31,
    "start_time": "2025-03-20T06:54:48.025Z"
   },
   {
    "duration": 12,
    "start_time": "2025-03-20T06:54:48.057Z"
   },
   {
    "duration": 7,
    "start_time": "2025-03-20T06:54:48.070Z"
   },
   {
    "duration": 650,
    "start_time": "2025-03-20T06:54:48.078Z"
   },
   {
    "duration": 3,
    "start_time": "2025-03-20T06:54:48.731Z"
   },
   {
    "duration": 78,
    "start_time": "2025-03-20T06:54:48.735Z"
   },
   {
    "duration": 27,
    "start_time": "2025-03-20T06:54:48.815Z"
   },
   {
    "duration": 12,
    "start_time": "2025-03-20T06:54:48.843Z"
   },
   {
    "duration": 12,
    "start_time": "2025-03-20T06:54:48.856Z"
   },
   {
    "duration": 4,
    "start_time": "2025-03-20T06:54:48.870Z"
   },
   {
    "duration": 17,
    "start_time": "2025-03-20T06:54:48.875Z"
   },
   {
    "duration": 131,
    "start_time": "2025-03-20T06:54:48.893Z"
   },
   {
    "duration": 640,
    "start_time": "2025-03-20T06:54:49.025Z"
   },
   {
    "duration": 9,
    "start_time": "2025-03-20T06:54:49.666Z"
   },
   {
    "duration": 1476,
    "start_time": "2025-03-20T06:54:49.676Z"
   },
   {
    "duration": 5,
    "start_time": "2025-03-20T06:54:51.154Z"
   },
   {
    "duration": 20,
    "start_time": "2025-03-20T06:54:51.161Z"
   },
   {
    "duration": 31,
    "start_time": "2025-03-20T06:54:51.182Z"
   },
   {
    "duration": 13,
    "start_time": "2025-03-20T06:54:51.214Z"
   },
   {
    "duration": 10,
    "start_time": "2025-03-20T06:54:51.228Z"
   },
   {
    "duration": 28,
    "start_time": "2025-03-20T06:54:51.239Z"
   },
   {
    "duration": 26297,
    "start_time": "2025-03-20T06:54:51.269Z"
   },
   {
    "duration": 551,
    "start_time": "2025-03-20T06:55:17.569Z"
   },
   {
    "duration": 4,
    "start_time": "2025-03-20T06:55:18.122Z"
   },
   {
    "duration": 200435,
    "start_time": "2025-03-20T06:55:18.127Z"
   },
   {
    "duration": 366713,
    "start_time": "2025-03-20T06:58:38.564Z"
   },
   {
    "duration": 51498,
    "start_time": "2025-03-20T07:04:45.278Z"
   },
   {
    "duration": 649,
    "start_time": "2025-03-20T07:05:36.777Z"
   },
   {
    "duration": 2404,
    "start_time": "2025-03-20T23:15:46.913Z"
   },
   {
    "duration": 1914,
    "start_time": "2025-03-20T23:15:49.319Z"
   },
   {
    "duration": 2,
    "start_time": "2025-03-20T23:15:51.234Z"
   },
   {
    "duration": 15,
    "start_time": "2025-03-20T23:15:51.238Z"
   },
   {
    "duration": 41,
    "start_time": "2025-03-20T23:15:51.254Z"
   },
   {
    "duration": 38,
    "start_time": "2025-03-20T23:15:51.296Z"
   },
   {
    "duration": 14,
    "start_time": "2025-03-20T23:15:51.335Z"
   },
   {
    "duration": 29,
    "start_time": "2025-03-20T23:15:51.350Z"
   },
   {
    "duration": 766,
    "start_time": "2025-03-20T23:15:51.380Z"
   },
   {
    "duration": 4,
    "start_time": "2025-03-20T23:15:52.149Z"
   },
   {
    "duration": 19,
    "start_time": "2025-03-20T23:15:52.154Z"
   },
   {
    "duration": 7,
    "start_time": "2025-03-20T23:15:52.174Z"
   },
   {
    "duration": 5,
    "start_time": "2025-03-20T23:15:52.182Z"
   },
   {
    "duration": 12,
    "start_time": "2025-03-20T23:15:52.188Z"
   },
   {
    "duration": 5,
    "start_time": "2025-03-20T23:15:52.202Z"
   },
   {
    "duration": 14,
    "start_time": "2025-03-20T23:15:52.209Z"
   },
   {
    "duration": 14,
    "start_time": "2025-03-20T23:15:52.224Z"
   },
   {
    "duration": 157,
    "start_time": "2025-03-20T23:15:52.239Z"
   },
   {
    "duration": 754,
    "start_time": "2025-03-20T23:15:52.398Z"
   },
   {
    "duration": 9,
    "start_time": "2025-03-20T23:15:53.154Z"
   },
   {
    "duration": 1818,
    "start_time": "2025-03-20T23:15:53.165Z"
   },
   {
    "duration": 5,
    "start_time": "2025-03-20T23:15:54.985Z"
   },
   {
    "duration": 4,
    "start_time": "2025-03-20T23:15:54.992Z"
   },
   {
    "duration": 149,
    "start_time": "2025-03-20T23:15:54.997Z"
   },
   {
    "duration": 0,
    "start_time": "2025-03-20T23:15:55.148Z"
   },
   {
    "duration": 0,
    "start_time": "2025-03-20T23:15:55.149Z"
   },
   {
    "duration": 0,
    "start_time": "2025-03-20T23:15:55.150Z"
   },
   {
    "duration": 0,
    "start_time": "2025-03-20T23:15:55.151Z"
   },
   {
    "duration": 0,
    "start_time": "2025-03-20T23:15:55.152Z"
   },
   {
    "duration": 0,
    "start_time": "2025-03-20T23:15:55.153Z"
   },
   {
    "duration": 0,
    "start_time": "2025-03-20T23:15:55.173Z"
   },
   {
    "duration": 0,
    "start_time": "2025-03-20T23:15:55.175Z"
   },
   {
    "duration": 0,
    "start_time": "2025-03-20T23:15:55.176Z"
   },
   {
    "duration": 0,
    "start_time": "2025-03-20T23:15:55.177Z"
   },
   {
    "duration": 24,
    "start_time": "2025-03-20T23:26:08.793Z"
   },
   {
    "duration": 4,
    "start_time": "2025-03-20T23:26:16.602Z"
   },
   {
    "duration": 6,
    "start_time": "2025-03-20T23:26:17.469Z"
   },
   {
    "duration": 6,
    "start_time": "2025-03-20T23:26:18.190Z"
   },
   {
    "duration": 30,
    "start_time": "2025-03-20T23:26:19.073Z"
   },
   {
    "duration": 23551,
    "start_time": "2025-03-20T23:26:40.042Z"
   },
   {
    "duration": 46204,
    "start_time": "2025-03-20T23:27:17.179Z"
   },
   {
    "duration": 687,
    "start_time": "2025-03-20T23:28:03.386Z"
   },
   {
    "duration": 6,
    "start_time": "2025-03-20T23:28:04.075Z"
   },
   {
    "duration": 19,
    "start_time": "2025-03-20T23:28:19.640Z"
   },
   {
    "duration": 243399,
    "start_time": "2025-03-20T23:28:31.992Z"
   },
   {
    "duration": 427689,
    "start_time": "2025-03-20T23:32:35.394Z"
   },
   {
    "duration": 61411,
    "start_time": "2025-03-20T23:39:43.085Z"
   },
   {
    "duration": 835,
    "start_time": "2025-03-20T23:40:44.498Z"
   },
   {
    "duration": 3307,
    "start_time": "2025-03-21T03:49:24.743Z"
   },
   {
    "duration": 2078,
    "start_time": "2025-03-21T03:49:28.052Z"
   },
   {
    "duration": 2,
    "start_time": "2025-03-21T03:49:30.132Z"
   },
   {
    "duration": 42,
    "start_time": "2025-03-21T03:49:30.136Z"
   },
   {
    "duration": 91,
    "start_time": "2025-03-21T03:49:30.180Z"
   },
   {
    "duration": 44,
    "start_time": "2025-03-21T03:49:30.273Z"
   },
   {
    "duration": 39,
    "start_time": "2025-03-21T03:49:30.319Z"
   },
   {
    "duration": 10,
    "start_time": "2025-03-21T03:49:30.360Z"
   },
   {
    "duration": 772,
    "start_time": "2025-03-21T03:49:30.371Z"
   },
   {
    "duration": 13,
    "start_time": "2025-03-21T03:49:31.145Z"
   },
   {
    "duration": 7,
    "start_time": "2025-03-21T03:49:31.159Z"
   },
   {
    "duration": 24,
    "start_time": "2025-03-21T03:49:31.167Z"
   },
   {
    "duration": 7,
    "start_time": "2025-03-21T03:49:31.192Z"
   },
   {
    "duration": 16,
    "start_time": "2025-03-21T03:49:31.201Z"
   },
   {
    "duration": 17,
    "start_time": "2025-03-21T03:49:31.219Z"
   },
   {
    "duration": 26,
    "start_time": "2025-03-21T03:49:31.238Z"
   },
   {
    "duration": 23,
    "start_time": "2025-03-21T03:49:31.266Z"
   },
   {
    "duration": 172,
    "start_time": "2025-03-21T03:49:31.290Z"
   },
   {
    "duration": 799,
    "start_time": "2025-03-21T03:49:31.463Z"
   },
   {
    "duration": 9,
    "start_time": "2025-03-21T03:49:32.263Z"
   },
   {
    "duration": 1734,
    "start_time": "2025-03-21T03:49:32.273Z"
   },
   {
    "duration": 6,
    "start_time": "2025-03-21T03:49:34.008Z"
   },
   {
    "duration": 4,
    "start_time": "2025-03-21T03:49:34.015Z"
   },
   {
    "duration": 18,
    "start_time": "2025-03-21T03:49:34.020Z"
   },
   {
    "duration": 4,
    "start_time": "2025-03-21T03:49:34.039Z"
   },
   {
    "duration": 29,
    "start_time": "2025-03-21T03:49:34.044Z"
   },
   {
    "duration": 5,
    "start_time": "2025-03-21T03:49:34.074Z"
   },
   {
    "duration": 33379,
    "start_time": "2025-03-21T03:49:34.082Z"
   },
   {
    "duration": 639,
    "start_time": "2025-03-21T03:50:07.462Z"
   },
   {
    "duration": 5,
    "start_time": "2025-03-21T03:50:08.103Z"
   },
   {
    "duration": 177949,
    "start_time": "2025-03-21T03:50:08.110Z"
   },
   {
    "duration": 302202,
    "start_time": "2025-03-21T03:53:06.061Z"
   },
   {
    "duration": 45013,
    "start_time": "2025-03-21T03:58:08.264Z"
   },
   {
    "duration": 710,
    "start_time": "2025-03-21T03:58:53.278Z"
   },
   {
    "duration": 46436,
    "start_time": "2025-03-21T04:06:02.536Z"
   },
   {
    "duration": 843,
    "start_time": "2025-03-21T04:06:48.974Z"
   },
   {
    "duration": 44205,
    "start_time": "2025-03-21T04:28:32.966Z"
   },
   {
    "duration": 747,
    "start_time": "2025-03-21T04:29:17.173Z"
   }
  ],
  "kernelspec": {
   "display_name": "Python 3 (ipykernel)",
   "language": "python",
   "name": "python3"
  },
  "language_info": {
   "codemirror_mode": {
    "name": "ipython",
    "version": 3
   },
   "file_extension": ".py",
   "mimetype": "text/x-python",
   "name": "python",
   "nbconvert_exporter": "python",
   "pygments_lexer": "ipython3",
   "version": "3.9.5"
  },
  "toc": {
   "base_numbering": 1,
   "nav_menu": {},
   "number_sections": false,
   "sideBar": true,
   "skip_h1_title": false,
   "title_cell": "Table of Contents",
   "title_sidebar": "Contents",
   "toc_cell": false,
   "toc_position": {
    "height": "calc(100% - 180px)",
    "left": "10px",
    "top": "150px",
    "width": "222.667px"
   },
   "toc_section_display": true,
   "toc_window_display": true
  },
  "varInspector": {
   "cols": {
    "lenName": 16,
    "lenType": 16,
    "lenVar": 40
   },
   "kernels_config": {
    "python": {
     "delete_cmd_postfix": "",
     "delete_cmd_prefix": "del ",
     "library": "var_list.py",
     "varRefreshCmd": "print(var_dic_list())"
    },
    "r": {
     "delete_cmd_postfix": ") ",
     "delete_cmd_prefix": "rm(",
     "library": "var_list.r",
     "varRefreshCmd": "cat(var_dic_list()) "
    }
   },
   "types_to_exclude": [
    "module",
    "function",
    "builtin_function_or_method",
    "instance",
    "_Feature"
   ],
   "window_display": false
  }
 },
 "nbformat": 4,
 "nbformat_minor": 5
}
